{
 "cells": [
  {
   "cell_type": "code",
   "execution_count": 1,
   "id": "3d16acf6",
   "metadata": {
    "execution": {
     "iopub.execute_input": "2022-03-14T09:26:37.248779Z",
     "iopub.status.busy": "2022-03-14T09:26:37.245778Z",
     "iopub.status.idle": "2022-03-14T09:26:38.627698Z",
     "shell.execute_reply": "2022-03-14T09:26:38.626862Z",
     "shell.execute_reply.started": "2022-03-14T09:25:38.322546Z"
    },
    "papermill": {
     "duration": 1.416699,
     "end_time": "2022-03-14T09:26:38.627911",
     "exception": false,
     "start_time": "2022-03-14T09:26:37.211212",
     "status": "completed"
    },
    "tags": []
   },
   "outputs": [],
   "source": [
    "import pandas as pd\n",
    "from sklearn.model_selection import cross_val_score\n",
    "from sklearn.preprocessing import StandardScaler\n",
    "from xgboost import XGBClassifier"
   ]
  },
  {
   "cell_type": "code",
   "execution_count": 2,
   "id": "d6d6c15d",
   "metadata": {
    "execution": {
     "iopub.execute_input": "2022-03-14T09:26:38.683536Z",
     "iopub.status.busy": "2022-03-14T09:26:38.682804Z",
     "iopub.status.idle": "2022-03-14T09:26:38.878639Z",
     "shell.execute_reply": "2022-03-14T09:26:38.879169Z",
     "shell.execute_reply.started": "2022-03-14T09:25:38.354876Z"
    },
    "papermill": {
     "duration": 0.225511,
     "end_time": "2022-03-14T09:26:38.879383",
     "exception": false,
     "start_time": "2022-03-14T09:26:38.653872",
     "status": "completed"
    },
    "tags": []
   },
   "outputs": [],
   "source": [
    "team = pd.read_csv(\"/kaggle/input/mens-march-mania-2022/MDataFiles_Stage1/MTeams.csv\")\n",
    "seasons = pd.read_csv(\"/kaggle/input/mens-march-mania-2022/MDataFiles_Stage1/MSeasons.csv\")\n",
    "seeds = pd.read_csv(\"/kaggle/input/mens-march-mania-2022/MDataFiles_Stage1/MNCAATourneySeeds.csv\")\n",
    "season_results = pd.read_csv(\"/kaggle/input/mens-march-mania-2022/MDataFiles_Stage1/MRegularSeasonCompactResults.csv\")\n",
    "tour_results = pd.read_csv(\"/kaggle/input/mens-march-mania-2022/MDataFiles_Stage1/MNCAATourneyCompactResults.csv\")"
   ]
  },
  {
   "cell_type": "code",
   "execution_count": 3,
   "id": "6b924d3a",
   "metadata": {
    "execution": {
     "iopub.execute_input": "2022-03-14T09:26:38.932234Z",
     "iopub.status.busy": "2022-03-14T09:26:38.931030Z",
     "iopub.status.idle": "2022-03-14T09:26:38.968781Z",
     "shell.execute_reply": "2022-03-14T09:26:38.969287Z",
     "shell.execute_reply.started": "2022-03-14T09:25:38.509158Z"
    },
    "papermill": {
     "duration": 0.065578,
     "end_time": "2022-03-14T09:26:38.969483",
     "exception": false,
     "start_time": "2022-03-14T09:26:38.903905",
     "status": "completed"
    },
    "tags": []
   },
   "outputs": [
    {
     "name": "stdout",
     "output_type": "stream",
     "text": [
      "139920\n"
     ]
    }
   ],
   "source": [
    "# Makng train test split\n",
    "season_train = season_results.query(\"Season < 2016\")\n",
    "season_test = season_results.query(\"Season >= 2016\")\n",
    "print(len(season_train))"
   ]
  },
  {
   "cell_type": "code",
   "execution_count": 4,
   "id": "19baa086",
   "metadata": {
    "execution": {
     "iopub.execute_input": "2022-03-14T09:26:39.022573Z",
     "iopub.status.busy": "2022-03-14T09:26:39.021338Z",
     "iopub.status.idle": "2022-03-14T09:26:39.086867Z",
     "shell.execute_reply": "2022-03-14T09:26:39.087393Z",
     "shell.execute_reply.started": "2022-03-14T09:25:38.532312Z"
    },
    "papermill": {
     "duration": 0.094217,
     "end_time": "2022-03-14T09:26:39.087622",
     "exception": false,
     "start_time": "2022-03-14T09:26:38.993405",
     "status": "completed"
    },
    "tags": []
   },
   "outputs": [],
   "source": [
    "def generate_team_scores(frame):\n",
    "    df = team.copy()\n",
    "    df = df.set_index(\"TeamID\")\n",
    "    df[\"MeanWinScore\"] = frame.groupby(\"WTeamID\").mean()[\"WScore\"].astype(int)\n",
    "    df[\"MeanLossScore\"] = frame.groupby(\"LTeamID\").mean()[\"LScore\"].astype(int)\n",
    "    df[\"WinLossDiff\"] = df[\"MeanWinScore\"] - df[\"MeanLossScore\"]\n",
    "\n",
    "\n",
    "    df[\"Wins\"] = frame[\"WTeamID\"].value_counts() # add feature of the number of total wins\n",
    "    return df\n",
    "train_team_scores = generate_team_scores(season_train)"
   ]
  },
  {
   "cell_type": "code",
   "execution_count": 5,
   "id": "7ad5998a",
   "metadata": {
    "execution": {
     "iopub.execute_input": "2022-03-14T09:26:39.142405Z",
     "iopub.status.busy": "2022-03-14T09:26:39.141618Z",
     "iopub.status.idle": "2022-03-14T09:26:39.210344Z",
     "shell.execute_reply": "2022-03-14T09:26:39.209649Z",
     "shell.execute_reply.started": "2022-03-14T09:25:38.568588Z"
    },
    "papermill": {
     "duration": 0.096778,
     "end_time": "2022-03-14T09:26:39.210522",
     "exception": false,
     "start_time": "2022-03-14T09:26:39.113744",
     "status": "completed"
    },
    "tags": []
   },
   "outputs": [],
   "source": [
    "# For test score the values should be the entire history \n",
    "test_team_scores = team.copy()\n",
    "test_team_scores = test_team_scores.set_index(\"TeamID\")\n",
    "test_team_scores[\"MeanWinScore\"] = season_results.groupby(\"WTeamID\").mean()[\"WScore\"].astype(int)\n",
    "test_team_scores[\"MeanLossScore\"] = season_results.groupby(\"LTeamID\").mean()[\"LScore\"].astype(int)\n",
    "test_team_scores[\"WinLossDiff\"] = test_team_scores[\"MeanWinScore\"] - test_team_scores[\"MeanLossScore\"]\n",
    "\n",
    "\n",
    "test_team_scores[\"Wins\"] = season_results[\"WTeamID\"].value_counts() # add feature of the number of total wins\n",
    "test_team_scores = test_team_scores.query(\"LastD1Season >= 2016\")"
   ]
  },
  {
   "cell_type": "code",
   "execution_count": 6,
   "id": "d5324feb",
   "metadata": {
    "execution": {
     "iopub.execute_input": "2022-03-14T09:26:39.282940Z",
     "iopub.status.busy": "2022-03-14T09:26:39.280173Z",
     "iopub.status.idle": "2022-03-14T09:26:39.285311Z",
     "shell.execute_reply": "2022-03-14T09:26:39.286164Z",
     "shell.execute_reply.started": "2022-03-14T09:25:38.605509Z"
    },
    "papermill": {
     "duration": 0.042309,
     "end_time": "2022-03-14T09:26:39.286449",
     "exception": false,
     "start_time": "2022-03-14T09:26:39.244140",
     "status": "completed"
    },
    "tags": []
   },
   "outputs": [],
   "source": [
    "## Making training data set"
   ]
  },
  {
   "cell_type": "code",
   "execution_count": 7,
   "id": "c371994b",
   "metadata": {
    "execution": {
     "iopub.execute_input": "2022-03-14T09:26:39.348537Z",
     "iopub.status.busy": "2022-03-14T09:26:39.347850Z",
     "iopub.status.idle": "2022-03-14T09:26:50.729982Z",
     "shell.execute_reply": "2022-03-14T09:26:50.730488Z",
     "shell.execute_reply.started": "2022-03-14T09:25:38.611230Z"
    },
    "papermill": {
     "duration": 11.411212,
     "end_time": "2022-03-14T09:26:50.730727",
     "exception": false,
     "start_time": "2022-03-14T09:26:39.319515",
     "status": "completed"
    },
    "tags": []
   },
   "outputs": [],
   "source": [
    "id_train = [] \n",
    "team_a = []\n",
    "team_b = []\n",
    "win = []\n",
    "for _,row in season_train.iterrows():\n",
    "    id_train.append(str(row['Season'])+\"_\"+ str(min(row[\"WTeamID\"],row[\"LTeamID\"])) + \"_\"+ str(max(row[\"WTeamID\"],row[\"LTeamID\"])))\n",
    "    team_a.append(min(row[\"WTeamID\"],row[\"LTeamID\"]) )\n",
    "    team_b.append(max(row[\"WTeamID\"],row[\"LTeamID\"]) )\n",
    "    if row[\"LTeamID\"] > row[\"WTeamID\"]:\n",
    "        win.append(1)\n",
    "    else:\n",
    "        win.append(0)"
   ]
  },
  {
   "cell_type": "code",
   "execution_count": 8,
   "id": "46de12d8",
   "metadata": {
    "execution": {
     "iopub.execute_input": "2022-03-14T09:26:50.795909Z",
     "iopub.status.busy": "2022-03-14T09:26:50.787922Z",
     "iopub.status.idle": "2022-03-14T09:26:50.910272Z",
     "shell.execute_reply": "2022-03-14T09:26:50.909623Z",
     "shell.execute_reply.started": "2022-03-14T09:25:50.907497Z"
    },
    "papermill": {
     "duration": 0.156223,
     "end_time": "2022-03-14T09:26:50.910446",
     "exception": false,
     "start_time": "2022-03-14T09:26:50.754223",
     "status": "completed"
    },
    "tags": []
   },
   "outputs": [],
   "source": [
    "train = pd.DataFrame({\"ID\":id_train,\"TeamA\":team_a,\"TeamB\":team_b,\"Win\":win})"
   ]
  },
  {
   "cell_type": "code",
   "execution_count": 9,
   "id": "a7f9d47a",
   "metadata": {
    "execution": {
     "iopub.execute_input": "2022-03-14T09:26:50.960796Z",
     "iopub.status.busy": "2022-03-14T09:26:50.960045Z",
     "iopub.status.idle": "2022-03-14T09:26:51.030213Z",
     "shell.execute_reply": "2022-03-14T09:26:51.030726Z",
     "shell.execute_reply.started": "2022-03-14T09:25:51.004306Z"
    },
    "papermill": {
     "duration": 0.097107,
     "end_time": "2022-03-14T09:26:51.030938",
     "exception": false,
     "start_time": "2022-03-14T09:26:50.933831",
     "status": "completed"
    },
    "tags": []
   },
   "outputs": [],
   "source": [
    "train[\"TeamAWins\"] = train_team_scores.loc[train[\"TeamA\"].values][\"Wins\"].values\n",
    "train[\"TeamBWins\"] = train_team_scores.loc[train[\"TeamB\"].values][\"Wins\"].values\n",
    "\n",
    "train[\"TeamAMeanLossScore\"] = train_team_scores.loc[train[\"TeamA\"].values][\"MeanLossScore\"].values\n",
    "train[\"TeamBMeanLossScore\"] = train_team_scores.loc[train[\"TeamB\"].values][\"MeanLossScore\"].values\n",
    "\n",
    "\n",
    "train[\"TeamAMeanWinScore\"] = train_team_scores.loc[train[\"TeamA\"].values][\"MeanWinScore\"].values\n",
    "train[\"TeamBMeanWinScore\"] = train_team_scores.loc[train[\"TeamB\"].values][\"MeanWinScore\"].values\n",
    "\n",
    "train[\"TeamAWinLossDiff\"] = train_team_scores.loc[train[\"TeamA\"].values][\"WinLossDiff\"].values\n",
    "train[\"TeamBWinLossDiff\"] = train_team_scores.loc[train[\"TeamB\"].values][\"WinLossDiff\"].values"
   ]
  },
  {
   "cell_type": "code",
   "execution_count": 10,
   "id": "0400626b",
   "metadata": {
    "execution": {
     "iopub.execute_input": "2022-03-14T09:26:51.084102Z",
     "iopub.status.busy": "2022-03-14T09:26:51.083345Z",
     "iopub.status.idle": "2022-03-14T09:26:51.089431Z",
     "shell.execute_reply": "2022-03-14T09:26:51.088929Z",
     "shell.execute_reply.started": "2022-03-14T09:25:51.076197Z"
    },
    "papermill": {
     "duration": 0.034989,
     "end_time": "2022-03-14T09:26:51.089651",
     "exception": false,
     "start_time": "2022-03-14T09:26:51.054662",
     "status": "completed"
    },
    "tags": []
   },
   "outputs": [],
   "source": [
    "colums = [\"TeamA\",\"TeamB\",\"TeamAWins\",\"TeamBWins\",\n",
    "                \"TeamAMeanLossScore\",\"TeamBMeanLossScore\",\n",
    "                \"TeamAMeanWinScore\",\"TeamBMeanWinScore\",\n",
    "                \"TeamAWinLossDiff\",\"TeamBWinLossDiff\"]"
   ]
  },
  {
   "cell_type": "code",
   "execution_count": 11,
   "id": "04411a96",
   "metadata": {
    "execution": {
     "iopub.execute_input": "2022-03-14T09:26:51.150685Z",
     "iopub.status.busy": "2022-03-14T09:26:51.150039Z",
     "iopub.status.idle": "2022-03-14T09:26:51.174102Z",
     "shell.execute_reply": "2022-03-14T09:26:51.173288Z",
     "shell.execute_reply.started": "2022-03-14T09:25:51.081129Z"
    },
    "papermill": {
     "duration": 0.058232,
     "end_time": "2022-03-14T09:26:51.174282",
     "exception": false,
     "start_time": "2022-03-14T09:26:51.116050",
     "status": "completed"
    },
    "tags": []
   },
   "outputs": [],
   "source": [
    "x_train = train[colums]\n",
    "y_train = train[[\"Win\"]]"
   ]
  },
  {
   "cell_type": "code",
   "execution_count": 12,
   "id": "6ef6e128",
   "metadata": {
    "execution": {
     "iopub.execute_input": "2022-03-14T09:26:51.245868Z",
     "iopub.status.busy": "2022-03-14T09:26:51.244826Z",
     "iopub.status.idle": "2022-03-14T09:26:51.270701Z",
     "shell.execute_reply": "2022-03-14T09:26:51.270166Z",
     "shell.execute_reply.started": "2022-03-14T09:25:51.108683Z"
    },
    "papermill": {
     "duration": 0.07174,
     "end_time": "2022-03-14T09:26:51.270877",
     "exception": false,
     "start_time": "2022-03-14T09:26:51.199137",
     "status": "completed"
    },
    "tags": []
   },
   "outputs": [
    {
     "data": {
      "text/html": [
       "<div>\n",
       "<style scoped>\n",
       "    .dataframe tbody tr th:only-of-type {\n",
       "        vertical-align: middle;\n",
       "    }\n",
       "\n",
       "    .dataframe tbody tr th {\n",
       "        vertical-align: top;\n",
       "    }\n",
       "\n",
       "    .dataframe thead th {\n",
       "        text-align: right;\n",
       "    }\n",
       "</style>\n",
       "<table border=\"1\" class=\"dataframe\">\n",
       "  <thead>\n",
       "    <tr style=\"text-align: right;\">\n",
       "      <th></th>\n",
       "      <th>TeamA</th>\n",
       "      <th>TeamB</th>\n",
       "      <th>TeamAWins</th>\n",
       "      <th>TeamBWins</th>\n",
       "      <th>TeamAMeanLossScore</th>\n",
       "      <th>TeamBMeanLossScore</th>\n",
       "      <th>TeamAMeanWinScore</th>\n",
       "      <th>TeamBMeanWinScore</th>\n",
       "      <th>TeamAWinLossDiff</th>\n",
       "      <th>TeamBWinLossDiff</th>\n",
       "    </tr>\n",
       "  </thead>\n",
       "  <tbody>\n",
       "    <tr>\n",
       "      <th>0</th>\n",
       "      <td>1228</td>\n",
       "      <td>1328</td>\n",
       "      <td>645.0</td>\n",
       "      <td>648.0</td>\n",
       "      <td>63.0</td>\n",
       "      <td>68.0</td>\n",
       "      <td>77.0</td>\n",
       "      <td>84.0</td>\n",
       "      <td>14.0</td>\n",
       "      <td>16.0</td>\n",
       "    </tr>\n",
       "    <tr>\n",
       "      <th>1</th>\n",
       "      <td>1106</td>\n",
       "      <td>1354</td>\n",
       "      <td>382.0</td>\n",
       "      <td>420.0</td>\n",
       "      <td>66.0</td>\n",
       "      <td>62.0</td>\n",
       "      <td>76.0</td>\n",
       "      <td>74.0</td>\n",
       "      <td>10.0</td>\n",
       "      <td>12.0</td>\n",
       "    </tr>\n",
       "    <tr>\n",
       "      <th>2</th>\n",
       "      <td>1112</td>\n",
       "      <td>1223</td>\n",
       "      <td>721.0</td>\n",
       "      <td>107.0</td>\n",
       "      <td>69.0</td>\n",
       "      <td>64.0</td>\n",
       "      <td>82.0</td>\n",
       "      <td>75.0</td>\n",
       "      <td>13.0</td>\n",
       "      <td>11.0</td>\n",
       "    </tr>\n",
       "    <tr>\n",
       "      <th>3</th>\n",
       "      <td>1165</td>\n",
       "      <td>1432</td>\n",
       "      <td>348.0</td>\n",
       "      <td>28.0</td>\n",
       "      <td>60.0</td>\n",
       "      <td>61.0</td>\n",
       "      <td>73.0</td>\n",
       "      <td>71.0</td>\n",
       "      <td>13.0</td>\n",
       "      <td>10.0</td>\n",
       "    </tr>\n",
       "    <tr>\n",
       "      <th>4</th>\n",
       "      <td>1192</td>\n",
       "      <td>1447</td>\n",
       "      <td>408.0</td>\n",
       "      <td>404.0</td>\n",
       "      <td>64.0</td>\n",
       "      <td>66.0</td>\n",
       "      <td>76.0</td>\n",
       "      <td>77.0</td>\n",
       "      <td>12.0</td>\n",
       "      <td>11.0</td>\n",
       "    </tr>\n",
       "    <tr>\n",
       "      <th>...</th>\n",
       "      <td>...</td>\n",
       "      <td>...</td>\n",
       "      <td>...</td>\n",
       "      <td>...</td>\n",
       "      <td>...</td>\n",
       "      <td>...</td>\n",
       "      <td>...</td>\n",
       "      <td>...</td>\n",
       "      <td>...</td>\n",
       "      <td>...</td>\n",
       "    </tr>\n",
       "    <tr>\n",
       "      <th>139915</th>\n",
       "      <td>1204</td>\n",
       "      <td>1209</td>\n",
       "      <td>405.0</td>\n",
       "      <td>387.0</td>\n",
       "      <td>64.0</td>\n",
       "      <td>67.0</td>\n",
       "      <td>76.0</td>\n",
       "      <td>76.0</td>\n",
       "      <td>12.0</td>\n",
       "      <td>9.0</td>\n",
       "    </tr>\n",
       "    <tr>\n",
       "      <th>139916</th>\n",
       "      <td>1116</td>\n",
       "      <td>1246</td>\n",
       "      <td>609.0</td>\n",
       "      <td>739.0</td>\n",
       "      <td>67.0</td>\n",
       "      <td>68.0</td>\n",
       "      <td>84.0</td>\n",
       "      <td>80.0</td>\n",
       "      <td>17.0</td>\n",
       "      <td>12.0</td>\n",
       "    </tr>\n",
       "    <tr>\n",
       "      <th>139917</th>\n",
       "      <td>1163</td>\n",
       "      <td>1374</td>\n",
       "      <td>655.0</td>\n",
       "      <td>441.0</td>\n",
       "      <td>64.0</td>\n",
       "      <td>63.0</td>\n",
       "      <td>79.0</td>\n",
       "      <td>74.0</td>\n",
       "      <td>15.0</td>\n",
       "      <td>11.0</td>\n",
       "    </tr>\n",
       "    <tr>\n",
       "      <th>139918</th>\n",
       "      <td>1173</td>\n",
       "      <td>1433</td>\n",
       "      <td>528.0</td>\n",
       "      <td>588.0</td>\n",
       "      <td>65.0</td>\n",
       "      <td>66.0</td>\n",
       "      <td>75.0</td>\n",
       "      <td>75.0</td>\n",
       "      <td>10.0</td>\n",
       "      <td>9.0</td>\n",
       "    </tr>\n",
       "    <tr>\n",
       "      <th>139919</th>\n",
       "      <td>1277</td>\n",
       "      <td>1458</td>\n",
       "      <td>638.0</td>\n",
       "      <td>575.0</td>\n",
       "      <td>64.0</td>\n",
       "      <td>61.0</td>\n",
       "      <td>76.0</td>\n",
       "      <td>71.0</td>\n",
       "      <td>12.0</td>\n",
       "      <td>10.0</td>\n",
       "    </tr>\n",
       "  </tbody>\n",
       "</table>\n",
       "<p>139920 rows × 10 columns</p>\n",
       "</div>"
      ],
      "text/plain": [
       "        TeamA  TeamB  TeamAWins  TeamBWins  TeamAMeanLossScore  \\\n",
       "0        1228   1328      645.0      648.0                63.0   \n",
       "1        1106   1354      382.0      420.0                66.0   \n",
       "2        1112   1223      721.0      107.0                69.0   \n",
       "3        1165   1432      348.0       28.0                60.0   \n",
       "4        1192   1447      408.0      404.0                64.0   \n",
       "...       ...    ...        ...        ...                 ...   \n",
       "139915   1204   1209      405.0      387.0                64.0   \n",
       "139916   1116   1246      609.0      739.0                67.0   \n",
       "139917   1163   1374      655.0      441.0                64.0   \n",
       "139918   1173   1433      528.0      588.0                65.0   \n",
       "139919   1277   1458      638.0      575.0                64.0   \n",
       "\n",
       "        TeamBMeanLossScore  TeamAMeanWinScore  TeamBMeanWinScore  \\\n",
       "0                     68.0               77.0               84.0   \n",
       "1                     62.0               76.0               74.0   \n",
       "2                     64.0               82.0               75.0   \n",
       "3                     61.0               73.0               71.0   \n",
       "4                     66.0               76.0               77.0   \n",
       "...                    ...                ...                ...   \n",
       "139915                67.0               76.0               76.0   \n",
       "139916                68.0               84.0               80.0   \n",
       "139917                63.0               79.0               74.0   \n",
       "139918                66.0               75.0               75.0   \n",
       "139919                61.0               76.0               71.0   \n",
       "\n",
       "        TeamAWinLossDiff  TeamBWinLossDiff  \n",
       "0                   14.0              16.0  \n",
       "1                   10.0              12.0  \n",
       "2                   13.0              11.0  \n",
       "3                   13.0              10.0  \n",
       "4                   12.0              11.0  \n",
       "...                  ...               ...  \n",
       "139915              12.0               9.0  \n",
       "139916              17.0              12.0  \n",
       "139917              15.0              11.0  \n",
       "139918              10.0               9.0  \n",
       "139919              12.0              10.0  \n",
       "\n",
       "[139920 rows x 10 columns]"
      ]
     },
     "execution_count": 12,
     "metadata": {},
     "output_type": "execute_result"
    }
   ],
   "source": [
    "x_train"
   ]
  },
  {
   "cell_type": "code",
   "execution_count": 13,
   "id": "b8c6d4df",
   "metadata": {
    "execution": {
     "iopub.execute_input": "2022-03-14T09:26:51.335119Z",
     "iopub.status.busy": "2022-03-14T09:26:51.334079Z",
     "iopub.status.idle": "2022-03-14T09:26:51.373410Z",
     "shell.execute_reply": "2022-03-14T09:26:51.372777Z",
     "shell.execute_reply.started": "2022-03-14T09:25:51.130818Z"
    },
    "papermill": {
     "duration": 0.07736,
     "end_time": "2022-03-14T09:26:51.373596",
     "exception": false,
     "start_time": "2022-03-14T09:26:51.296236",
     "status": "completed"
    },
    "tags": []
   },
   "outputs": [],
   "source": [
    "scaler = StandardScaler()\n",
    "scale_columns = [\"TeamAWins\",\"TeamBWins\",\n",
    "               \"TeamAMeanLossScore\",\"TeamBMeanLossScore\",\n",
    "                \"TeamAMeanWinScore\",\"TeamBMeanWinScore\",\n",
    "               \"TeamAWinLossDiff\",\"TeamBWinLossDiff\"]\n",
    "scaler.fit(x_train[scale_columns])\n",
    "val = scaler.transform(x_train[scale_columns])"
   ]
  },
  {
   "cell_type": "code",
   "execution_count": 14,
   "id": "4cb590b8",
   "metadata": {
    "execution": {
     "iopub.execute_input": "2022-03-14T09:26:51.429450Z",
     "iopub.status.busy": "2022-03-14T09:26:51.428701Z",
     "iopub.status.idle": "2022-03-14T09:26:51.446033Z",
     "shell.execute_reply": "2022-03-14T09:26:51.445207Z",
     "shell.execute_reply.started": "2022-03-14T09:25:51.155226Z"
    },
    "papermill": {
     "duration": 0.048262,
     "end_time": "2022-03-14T09:26:51.446214",
     "exception": false,
     "start_time": "2022-03-14T09:26:51.397952",
     "status": "completed"
    },
    "tags": []
   },
   "outputs": [],
   "source": [
    "x_train_scaled = x_train.copy()\n",
    "x_train_scaled[scale_columns] = val"
   ]
  },
  {
   "cell_type": "code",
   "execution_count": 15,
   "id": "73e33666",
   "metadata": {
    "execution": {
     "iopub.execute_input": "2022-03-14T09:26:51.502345Z",
     "iopub.status.busy": "2022-03-14T09:26:51.501518Z",
     "iopub.status.idle": "2022-03-14T09:26:51.504220Z",
     "shell.execute_reply": "2022-03-14T09:26:51.503585Z",
     "shell.execute_reply.started": "2022-03-14T09:25:51.165272Z"
    },
    "papermill": {
     "duration": 0.031976,
     "end_time": "2022-03-14T09:26:51.504372",
     "exception": false,
     "start_time": "2022-03-14T09:26:51.472396",
     "status": "completed"
    },
    "tags": []
   },
   "outputs": [],
   "source": [
    "model = XGBClassifier(use_label_encoder=False,eval_metric=\"logloss\")"
   ]
  },
  {
   "cell_type": "code",
   "execution_count": 16,
   "id": "6d7a4f84",
   "metadata": {
    "execution": {
     "iopub.execute_input": "2022-03-14T09:26:51.562564Z",
     "iopub.status.busy": "2022-03-14T09:26:51.561870Z",
     "iopub.status.idle": "2022-03-14T09:27:49.613530Z",
     "shell.execute_reply": "2022-03-14T09:27:49.614023Z"
    },
    "papermill": {
     "duration": 58.082538,
     "end_time": "2022-03-14T09:27:49.614233",
     "exception": false,
     "start_time": "2022-03-14T09:26:51.531695",
     "status": "completed"
    },
    "tags": []
   },
   "outputs": [
    {
     "name": "stdout",
     "output_type": "stream",
     "text": [
      "0.6347841623785019\n"
     ]
    }
   ],
   "source": [
    "# The score of the unscaled data\n",
    "score = cross_val_score(model,x_train,y_train,cv=10)\n",
    "print(score.mean())"
   ]
  },
  {
   "cell_type": "code",
   "execution_count": 17,
   "id": "1ab6f401",
   "metadata": {
    "execution": {
     "iopub.execute_input": "2022-03-14T09:27:49.665526Z",
     "iopub.status.busy": "2022-03-14T09:27:49.664635Z",
     "iopub.status.idle": "2022-03-14T09:28:46.116934Z",
     "shell.execute_reply": "2022-03-14T09:28:46.117677Z"
    },
    "papermill": {
     "duration": 56.480213,
     "end_time": "2022-03-14T09:28:46.117911",
     "exception": false,
     "start_time": "2022-03-14T09:27:49.637698",
     "status": "completed"
    },
    "tags": []
   },
   "outputs": [
    {
     "name": "stdout",
     "output_type": "stream",
     "text": [
      "0.6347841623785019\n"
     ]
    }
   ],
   "source": [
    "# Score of scaled data\n",
    "score = cross_val_score(model,x_train_scaled,y_train,cv=10)\n",
    "print(score.mean())"
   ]
  },
  {
   "cell_type": "code",
   "execution_count": 18,
   "id": "8ca61728",
   "metadata": {
    "execution": {
     "iopub.execute_input": "2022-03-14T09:28:46.171679Z",
     "iopub.status.busy": "2022-03-14T09:28:46.170726Z",
     "iopub.status.idle": "2022-03-14T09:28:49.032356Z",
     "shell.execute_reply": "2022-03-14T09:28:49.031731Z"
    },
    "papermill": {
     "duration": 2.889162,
     "end_time": "2022-03-14T09:28:49.032530",
     "exception": false,
     "start_time": "2022-03-14T09:28:46.143368",
     "status": "completed"
    },
    "tags": []
   },
   "outputs": [],
   "source": [
    "# Test dataset\n",
    "id_test = [] \n",
    "team_a = []\n",
    "team_b = []\n",
    "win = []\n",
    "for _,row in season_test.iterrows():\n",
    "    id_test.append(str(row['Season'])+\"_\"+ str(min(row[\"WTeamID\"],row[\"LTeamID\"])) + \"_\"+ str(max(row[\"WTeamID\"],row[\"LTeamID\"])))\n",
    "    team_a.append(min(row[\"WTeamID\"],row[\"LTeamID\"]) )\n",
    "    team_b.append(max(row[\"WTeamID\"],row[\"LTeamID\"]) )\n",
    "    if row[\"LTeamID\"] > row[\"WTeamID\"]:\n",
    "        win.append(1)\n",
    "    else:\n",
    "        win.append(0)\n",
    "test = pd.DataFrame({\"ID\":id_test,\"TeamA\":team_a,\"TeamB\":team_b,\"Win\":win})\n",
    "\n",
    "test[\"TeamAWins\"] = test_team_scores.loc[test[\"TeamA\"].values][\"Wins\"].values\n",
    "test[\"TeamBWins\"] = test_team_scores.loc[test[\"TeamB\"].values][\"Wins\"].values\n",
    "\n",
    "test[\"TeamAMeanLossScore\"] = test_team_scores.loc[test[\"TeamA\"].values][\"MeanLossScore\"].values\n",
    "test[\"TeamBMeanLossScore\"] = test_team_scores.loc[test[\"TeamB\"].values][\"MeanLossScore\"].values\n",
    "\n",
    "\n",
    "test[\"TeamAMeanWinScore\"] = test_team_scores.loc[test[\"TeamA\"].values][\"MeanWinScore\"].values\n",
    "test[\"TeamBMeanWinScore\"] = test_team_scores.loc[test[\"TeamB\"].values][\"MeanWinScore\"].values\n",
    "\n",
    "test[\"TeamAWinLossDiff\"] = test_team_scores.loc[test[\"TeamA\"].values][\"WinLossDiff\"].values\n",
    "test[\"TeamBWinLossDiff\"] = test_team_scores.loc[test[\"TeamB\"].values][\"WinLossDiff\"].values"
   ]
  },
  {
   "cell_type": "code",
   "execution_count": 19,
   "id": "ab0b44d9",
   "metadata": {
    "execution": {
     "iopub.execute_input": "2022-03-14T09:28:49.090331Z",
     "iopub.status.busy": "2022-03-14T09:28:49.089528Z",
     "iopub.status.idle": "2022-03-14T09:28:49.099713Z",
     "shell.execute_reply": "2022-03-14T09:28:49.100251Z"
    },
    "papermill": {
     "duration": 0.040618,
     "end_time": "2022-03-14T09:28:49.100460",
     "exception": false,
     "start_time": "2022-03-14T09:28:49.059842",
     "status": "completed"
    },
    "tags": []
   },
   "outputs": [],
   "source": [
    "x_test = test[colums]\n",
    "y_test = test[[\"Win\"]]"
   ]
  },
  {
   "cell_type": "code",
   "execution_count": 20,
   "id": "be597e43",
   "metadata": {
    "execution": {
     "iopub.execute_input": "2022-03-14T09:28:49.158142Z",
     "iopub.status.busy": "2022-03-14T09:28:49.157370Z",
     "iopub.status.idle": "2022-03-14T09:28:49.174694Z",
     "shell.execute_reply": "2022-03-14T09:28:49.175211Z"
    },
    "papermill": {
     "duration": 0.047293,
     "end_time": "2022-03-14T09:28:49.175410",
     "exception": false,
     "start_time": "2022-03-14T09:28:49.128117",
     "status": "completed"
    },
    "tags": []
   },
   "outputs": [],
   "source": [
    "x_test_scaled = x_test.copy()\n",
    "scaled_test = scaler.transform(x_test_scaled[scale_columns])\n",
    "x_test_scaled[scale_columns] = scaled_test"
   ]
  },
  {
   "cell_type": "code",
   "execution_count": 21,
   "id": "a42b804f",
   "metadata": {
    "execution": {
     "iopub.execute_input": "2022-03-14T09:28:49.232563Z",
     "iopub.status.busy": "2022-03-14T09:28:49.231376Z",
     "iopub.status.idle": "2022-03-14T09:28:49.250138Z",
     "shell.execute_reply": "2022-03-14T09:28:49.250718Z"
    },
    "papermill": {
     "duration": 0.047832,
     "end_time": "2022-03-14T09:28:49.250933",
     "exception": false,
     "start_time": "2022-03-14T09:28:49.203101",
     "status": "completed"
    },
    "tags": []
   },
   "outputs": [
    {
     "data": {
      "text/html": [
       "<div>\n",
       "<style scoped>\n",
       "    .dataframe tbody tr th:only-of-type {\n",
       "        vertical-align: middle;\n",
       "    }\n",
       "\n",
       "    .dataframe tbody tr th {\n",
       "        vertical-align: top;\n",
       "    }\n",
       "\n",
       "    .dataframe thead th {\n",
       "        text-align: right;\n",
       "    }\n",
       "</style>\n",
       "<table border=\"1\" class=\"dataframe\">\n",
       "  <thead>\n",
       "    <tr style=\"text-align: right;\">\n",
       "      <th></th>\n",
       "      <th>TeamA</th>\n",
       "      <th>TeamB</th>\n",
       "      <th>TeamAWins</th>\n",
       "      <th>TeamBWins</th>\n",
       "      <th>TeamAMeanLossScore</th>\n",
       "      <th>TeamBMeanLossScore</th>\n",
       "      <th>TeamAMeanWinScore</th>\n",
       "      <th>TeamBMeanWinScore</th>\n",
       "      <th>TeamAWinLossDiff</th>\n",
       "      <th>TeamBWinLossDiff</th>\n",
       "    </tr>\n",
       "  </thead>\n",
       "  <tbody>\n",
       "    <tr>\n",
       "      <th>0</th>\n",
       "      <td>1104</td>\n",
       "      <td>1244</td>\n",
       "      <td>2.158788</td>\n",
       "      <td>-2.464442</td>\n",
       "      <td>-0.049932</td>\n",
       "      <td>-1.195430</td>\n",
       "      <td>0.028803</td>\n",
       "      <td>0.109997</td>\n",
       "      <td>0.128546</td>\n",
       "      <td>2.114138</td>\n",
       "    </tr>\n",
       "    <tr>\n",
       "      <th>1</th>\n",
       "      <td>1105</td>\n",
       "      <td>1408</td>\n",
       "      <td>-1.596857</td>\n",
       "      <td>0.089844</td>\n",
       "      <td>-1.644028</td>\n",
       "      <td>-0.418442</td>\n",
       "      <td>-0.633925</td>\n",
       "      <td>0.109997</td>\n",
       "      <td>1.340023</td>\n",
       "      <td>0.871924</td>\n",
       "    </tr>\n",
       "    <tr>\n",
       "      <th>2</th>\n",
       "      <td>1112</td>\n",
       "      <td>1334</td>\n",
       "      <td>3.327375</td>\n",
       "      <td>0.743990</td>\n",
       "      <td>1.942687</td>\n",
       "      <td>-0.418442</td>\n",
       "      <td>2.016986</td>\n",
       "      <td>-0.899960</td>\n",
       "      <td>0.734284</td>\n",
       "      <td>-0.991396</td>\n",
       "    </tr>\n",
       "    <tr>\n",
       "      <th>3</th>\n",
       "      <td>1115</td>\n",
       "      <td>1370</td>\n",
       "      <td>-1.736500</td>\n",
       "      <td>-2.012770</td>\n",
       "      <td>-2.839599</td>\n",
       "      <td>0.358546</td>\n",
       "      <td>-1.959381</td>\n",
       "      <td>-0.226656</td>\n",
       "      <td>0.734284</td>\n",
       "      <td>-0.991396</td>\n",
       "    </tr>\n",
       "    <tr>\n",
       "      <th>4</th>\n",
       "      <td>1116</td>\n",
       "      <td>1380</td>\n",
       "      <td>2.386626</td>\n",
       "      <td>0.494792</td>\n",
       "      <td>1.145639</td>\n",
       "      <td>0.747040</td>\n",
       "      <td>2.679714</td>\n",
       "      <td>2.466562</td>\n",
       "      <td>3.157238</td>\n",
       "      <td>3.356351</td>\n",
       "    </tr>\n",
       "    <tr>\n",
       "      <th>...</th>\n",
       "      <td>...</td>\n",
       "      <td>...</td>\n",
       "      <td>...</td>\n",
       "      <td>...</td>\n",
       "      <td>...</td>\n",
       "      <td>...</td>\n",
       "      <td>...</td>\n",
       "      <td>...</td>\n",
       "      <td>...</td>\n",
       "      <td>...</td>\n",
       "    </tr>\n",
       "    <tr>\n",
       "      <th>34546</th>\n",
       "      <td>1242</td>\n",
       "      <td>1400</td>\n",
       "      <td>3.849196</td>\n",
       "      <td>2.511743</td>\n",
       "      <td>1.544163</td>\n",
       "      <td>1.524029</td>\n",
       "      <td>2.016986</td>\n",
       "      <td>1.119953</td>\n",
       "      <td>1.340023</td>\n",
       "      <td>-0.370289</td>\n",
       "    </tr>\n",
       "    <tr>\n",
       "      <th>34547</th>\n",
       "      <td>1126</td>\n",
       "      <td>1411</td>\n",
       "      <td>-0.501767</td>\n",
       "      <td>0.619391</td>\n",
       "      <td>-0.846980</td>\n",
       "      <td>0.358546</td>\n",
       "      <td>-0.965289</td>\n",
       "      <td>0.783301</td>\n",
       "      <td>-0.477192</td>\n",
       "      <td>0.871924</td>\n",
       "    </tr>\n",
       "    <tr>\n",
       "      <th>34548</th>\n",
       "      <td>1422</td>\n",
       "      <td>1441</td>\n",
       "      <td>-0.016693</td>\n",
       "      <td>-0.431916</td>\n",
       "      <td>-0.049932</td>\n",
       "      <td>0.747040</td>\n",
       "      <td>-0.302561</td>\n",
       "      <td>0.446649</td>\n",
       "      <td>-0.477192</td>\n",
       "      <td>-0.370289</td>\n",
       "    </tr>\n",
       "    <tr>\n",
       "      <th>34549</th>\n",
       "      <td>1181</td>\n",
       "      <td>1438</td>\n",
       "      <td>3.915343</td>\n",
       "      <td>2.137945</td>\n",
       "      <td>3.536782</td>\n",
       "      <td>-0.418442</td>\n",
       "      <td>2.679714</td>\n",
       "      <td>-0.563308</td>\n",
       "      <td>-0.477192</td>\n",
       "      <td>-0.370289</td>\n",
       "    </tr>\n",
       "    <tr>\n",
       "      <th>34550</th>\n",
       "      <td>1338</td>\n",
       "      <td>1439</td>\n",
       "      <td>1.945650</td>\n",
       "      <td>1.250175</td>\n",
       "      <td>-0.049932</td>\n",
       "      <td>-0.029948</td>\n",
       "      <td>0.360166</td>\n",
       "      <td>0.446649</td>\n",
       "      <td>0.734284</td>\n",
       "      <td>0.871924</td>\n",
       "    </tr>\n",
       "  </tbody>\n",
       "</table>\n",
       "<p>34551 rows × 10 columns</p>\n",
       "</div>"
      ],
      "text/plain": [
       "       TeamA  TeamB  TeamAWins  TeamBWins  TeamAMeanLossScore  \\\n",
       "0       1104   1244   2.158788  -2.464442           -0.049932   \n",
       "1       1105   1408  -1.596857   0.089844           -1.644028   \n",
       "2       1112   1334   3.327375   0.743990            1.942687   \n",
       "3       1115   1370  -1.736500  -2.012770           -2.839599   \n",
       "4       1116   1380   2.386626   0.494792            1.145639   \n",
       "...      ...    ...        ...        ...                 ...   \n",
       "34546   1242   1400   3.849196   2.511743            1.544163   \n",
       "34547   1126   1411  -0.501767   0.619391           -0.846980   \n",
       "34548   1422   1441  -0.016693  -0.431916           -0.049932   \n",
       "34549   1181   1438   3.915343   2.137945            3.536782   \n",
       "34550   1338   1439   1.945650   1.250175           -0.049932   \n",
       "\n",
       "       TeamBMeanLossScore  TeamAMeanWinScore  TeamBMeanWinScore  \\\n",
       "0               -1.195430           0.028803           0.109997   \n",
       "1               -0.418442          -0.633925           0.109997   \n",
       "2               -0.418442           2.016986          -0.899960   \n",
       "3                0.358546          -1.959381          -0.226656   \n",
       "4                0.747040           2.679714           2.466562   \n",
       "...                   ...                ...                ...   \n",
       "34546            1.524029           2.016986           1.119953   \n",
       "34547            0.358546          -0.965289           0.783301   \n",
       "34548            0.747040          -0.302561           0.446649   \n",
       "34549           -0.418442           2.679714          -0.563308   \n",
       "34550           -0.029948           0.360166           0.446649   \n",
       "\n",
       "       TeamAWinLossDiff  TeamBWinLossDiff  \n",
       "0              0.128546          2.114138  \n",
       "1              1.340023          0.871924  \n",
       "2              0.734284         -0.991396  \n",
       "3              0.734284         -0.991396  \n",
       "4              3.157238          3.356351  \n",
       "...                 ...               ...  \n",
       "34546          1.340023         -0.370289  \n",
       "34547         -0.477192          0.871924  \n",
       "34548         -0.477192         -0.370289  \n",
       "34549         -0.477192         -0.370289  \n",
       "34550          0.734284          0.871924  \n",
       "\n",
       "[34551 rows x 10 columns]"
      ]
     },
     "execution_count": 21,
     "metadata": {},
     "output_type": "execute_result"
    }
   ],
   "source": [
    "x_test_scaled"
   ]
  },
  {
   "cell_type": "code",
   "execution_count": 22,
   "id": "ebc18c3b",
   "metadata": {
    "execution": {
     "iopub.execute_input": "2022-03-14T09:28:49.328166Z",
     "iopub.status.busy": "2022-03-14T09:28:49.327025Z",
     "iopub.status.idle": "2022-03-14T09:28:56.338340Z",
     "shell.execute_reply": "2022-03-14T09:28:56.337763Z"
    },
    "papermill": {
     "duration": 7.050303,
     "end_time": "2022-03-14T09:28:56.338491",
     "exception": false,
     "start_time": "2022-03-14T09:28:49.288188",
     "status": "completed"
    },
    "tags": []
   },
   "outputs": [
    {
     "data": {
      "text/plain": [
       "0.6218054470203467"
      ]
     },
     "execution_count": 22,
     "metadata": {},
     "output_type": "execute_result"
    }
   ],
   "source": [
    "model.fit(x_train,y_train)\n",
    "model.score(x_test,y_test)"
   ]
  },
  {
   "cell_type": "code",
   "execution_count": 23,
   "id": "62ef5e53",
   "metadata": {
    "execution": {
     "iopub.execute_input": "2022-03-14T09:28:56.394629Z",
     "iopub.status.busy": "2022-03-14T09:28:56.394015Z",
     "iopub.status.idle": "2022-03-14T09:29:02.624662Z",
     "shell.execute_reply": "2022-03-14T09:29:02.624004Z"
    },
    "papermill": {
     "duration": 6.260319,
     "end_time": "2022-03-14T09:29:02.624806",
     "exception": false,
     "start_time": "2022-03-14T09:28:56.364487",
     "status": "completed"
    },
    "tags": []
   },
   "outputs": [
    {
     "data": {
      "text/plain": [
       "0.6221817024109287"
      ]
     },
     "execution_count": 23,
     "metadata": {},
     "output_type": "execute_result"
    }
   ],
   "source": [
    "model.fit(x_train_scaled,y_train)\n",
    "model.score(x_test_scaled,y_test)"
   ]
  },
  {
   "cell_type": "code",
   "execution_count": 24,
   "id": "42d00556",
   "metadata": {
    "execution": {
     "iopub.execute_input": "2022-03-14T09:29:02.680799Z",
     "iopub.status.busy": "2022-03-14T09:29:02.680187Z",
     "iopub.status.idle": "2022-03-14T09:29:02.700689Z",
     "shell.execute_reply": "2022-03-14T09:29:02.701235Z"
    },
    "papermill": {
     "duration": 0.050614,
     "end_time": "2022-03-14T09:29:02.701434",
     "exception": false,
     "start_time": "2022-03-14T09:29:02.650820",
     "status": "completed"
    },
    "tags": []
   },
   "outputs": [],
   "source": [
    "# Making test data set\n",
    "submission = pd.read_csv(\"/kaggle/input/mens-march-mania-2022/MDataFiles_Stage1/MSampleSubmissionStage1.csv\")"
   ]
  },
  {
   "cell_type": "code",
   "execution_count": 25,
   "id": "0a951feb",
   "metadata": {
    "execution": {
     "iopub.execute_input": "2022-03-14T09:29:02.759004Z",
     "iopub.status.busy": "2022-03-14T09:29:02.758363Z",
     "iopub.status.idle": "2022-03-14T09:29:03.385181Z",
     "shell.execute_reply": "2022-03-14T09:29:03.384584Z"
    },
    "papermill": {
     "duration": 0.656107,
     "end_time": "2022-03-14T09:29:03.385361",
     "exception": false,
     "start_time": "2022-03-14T09:29:02.729254",
     "status": "completed"
    },
    "tags": []
   },
   "outputs": [],
   "source": [
    "years = []\n",
    "teama = []\n",
    "teamb = [] \n",
    "for _,row in submission.iterrows():\n",
    "    years.append(int(row[\"ID\"].split(\"_\")[0]))\n",
    "    teama.append(int(row[\"ID\"].split(\"_\")[1]))\n",
    "    teamb.append(int(row[\"ID\"].split(\"_\")[2]))\n",
    "submission[\"Season\"] = years\n",
    "submission[\"TeamA\"] = teama\n",
    "submission[\"TeamB\"] = teamb"
   ]
  },
  {
   "cell_type": "code",
   "execution_count": 26,
   "id": "7797b0d9",
   "metadata": {
    "execution": {
     "iopub.execute_input": "2022-03-14T09:29:03.449220Z",
     "iopub.status.busy": "2022-03-14T09:29:03.448560Z",
     "iopub.status.idle": "2022-03-14T09:29:03.466075Z",
     "shell.execute_reply": "2022-03-14T09:29:03.465471Z"
    },
    "papermill": {
     "duration": 0.052592,
     "end_time": "2022-03-14T09:29:03.466249",
     "exception": false,
     "start_time": "2022-03-14T09:29:03.413657",
     "status": "completed"
    },
    "tags": []
   },
   "outputs": [
    {
     "data": {
      "text/html": [
       "<div>\n",
       "<style scoped>\n",
       "    .dataframe tbody tr th:only-of-type {\n",
       "        vertical-align: middle;\n",
       "    }\n",
       "\n",
       "    .dataframe tbody tr th {\n",
       "        vertical-align: top;\n",
       "    }\n",
       "\n",
       "    .dataframe thead th {\n",
       "        text-align: right;\n",
       "    }\n",
       "</style>\n",
       "<table border=\"1\" class=\"dataframe\">\n",
       "  <thead>\n",
       "    <tr style=\"text-align: right;\">\n",
       "      <th></th>\n",
       "      <th>ID</th>\n",
       "      <th>Pred</th>\n",
       "      <th>Season</th>\n",
       "      <th>TeamA</th>\n",
       "      <th>TeamB</th>\n",
       "    </tr>\n",
       "  </thead>\n",
       "  <tbody>\n",
       "    <tr>\n",
       "      <th>0</th>\n",
       "      <td>2016_1112_1114</td>\n",
       "      <td>0.5</td>\n",
       "      <td>2016</td>\n",
       "      <td>1112</td>\n",
       "      <td>1114</td>\n",
       "    </tr>\n",
       "    <tr>\n",
       "      <th>1</th>\n",
       "      <td>2016_1112_1122</td>\n",
       "      <td>0.5</td>\n",
       "      <td>2016</td>\n",
       "      <td>1112</td>\n",
       "      <td>1122</td>\n",
       "    </tr>\n",
       "    <tr>\n",
       "      <th>2</th>\n",
       "      <td>2016_1112_1124</td>\n",
       "      <td>0.5</td>\n",
       "      <td>2016</td>\n",
       "      <td>1112</td>\n",
       "      <td>1124</td>\n",
       "    </tr>\n",
       "    <tr>\n",
       "      <th>3</th>\n",
       "      <td>2016_1112_1138</td>\n",
       "      <td>0.5</td>\n",
       "      <td>2016</td>\n",
       "      <td>1112</td>\n",
       "      <td>1138</td>\n",
       "    </tr>\n",
       "    <tr>\n",
       "      <th>4</th>\n",
       "      <td>2016_1112_1139</td>\n",
       "      <td>0.5</td>\n",
       "      <td>2016</td>\n",
       "      <td>1112</td>\n",
       "      <td>1139</td>\n",
       "    </tr>\n",
       "    <tr>\n",
       "      <th>...</th>\n",
       "      <td>...</td>\n",
       "      <td>...</td>\n",
       "      <td>...</td>\n",
       "      <td>...</td>\n",
       "      <td>...</td>\n",
       "    </tr>\n",
       "    <tr>\n",
       "      <th>11385</th>\n",
       "      <td>2021_1452_1457</td>\n",
       "      <td>0.5</td>\n",
       "      <td>2021</td>\n",
       "      <td>1452</td>\n",
       "      <td>1457</td>\n",
       "    </tr>\n",
       "    <tr>\n",
       "      <th>11386</th>\n",
       "      <td>2021_1452_1458</td>\n",
       "      <td>0.5</td>\n",
       "      <td>2021</td>\n",
       "      <td>1452</td>\n",
       "      <td>1458</td>\n",
       "    </tr>\n",
       "    <tr>\n",
       "      <th>11387</th>\n",
       "      <td>2021_1455_1457</td>\n",
       "      <td>0.5</td>\n",
       "      <td>2021</td>\n",
       "      <td>1455</td>\n",
       "      <td>1457</td>\n",
       "    </tr>\n",
       "    <tr>\n",
       "      <th>11388</th>\n",
       "      <td>2021_1455_1458</td>\n",
       "      <td>0.5</td>\n",
       "      <td>2021</td>\n",
       "      <td>1455</td>\n",
       "      <td>1458</td>\n",
       "    </tr>\n",
       "    <tr>\n",
       "      <th>11389</th>\n",
       "      <td>2021_1457_1458</td>\n",
       "      <td>0.5</td>\n",
       "      <td>2021</td>\n",
       "      <td>1457</td>\n",
       "      <td>1458</td>\n",
       "    </tr>\n",
       "  </tbody>\n",
       "</table>\n",
       "<p>11390 rows × 5 columns</p>\n",
       "</div>"
      ],
      "text/plain": [
       "                   ID  Pred  Season  TeamA  TeamB\n",
       "0      2016_1112_1114   0.5    2016   1112   1114\n",
       "1      2016_1112_1122   0.5    2016   1112   1122\n",
       "2      2016_1112_1124   0.5    2016   1112   1124\n",
       "3      2016_1112_1138   0.5    2016   1112   1138\n",
       "4      2016_1112_1139   0.5    2016   1112   1139\n",
       "...               ...   ...     ...    ...    ...\n",
       "11385  2021_1452_1457   0.5    2021   1452   1457\n",
       "11386  2021_1452_1458   0.5    2021   1452   1458\n",
       "11387  2021_1455_1457   0.5    2021   1455   1457\n",
       "11388  2021_1455_1458   0.5    2021   1455   1458\n",
       "11389  2021_1457_1458   0.5    2021   1457   1458\n",
       "\n",
       "[11390 rows x 5 columns]"
      ]
     },
     "execution_count": 26,
     "metadata": {},
     "output_type": "execute_result"
    }
   ],
   "source": [
    "submission"
   ]
  },
  {
   "cell_type": "code",
   "execution_count": 27,
   "id": "4f2a7799",
   "metadata": {
    "execution": {
     "iopub.execute_input": "2022-03-14T09:29:03.531959Z",
     "iopub.status.busy": "2022-03-14T09:29:03.531190Z",
     "iopub.status.idle": "2022-03-14T09:29:03.547332Z",
     "shell.execute_reply": "2022-03-14T09:29:03.546795Z"
    },
    "papermill": {
     "duration": 0.052244,
     "end_time": "2022-03-14T09:29:03.547498",
     "exception": false,
     "start_time": "2022-03-14T09:29:03.495254",
     "status": "completed"
    },
    "tags": []
   },
   "outputs": [],
   "source": [
    "submission[\"TeamAWins\"] = test_team_scores.loc[submission[\"TeamA\"].values][\"Wins\"].values\n",
    "submission[\"TeamBWins\"] = test_team_scores.loc[submission[\"TeamB\"].values][\"Wins\"].values\n",
    "\n",
    "submission[\"TeamAMeanLossScore\"] = test_team_scores.loc[submission[\"TeamA\"].values][\"MeanLossScore\"].values\n",
    "submission[\"TeamBMeanLossScore\"] = test_team_scores.loc[submission[\"TeamB\"].values][\"MeanLossScore\"].values\n",
    "\n",
    "\n",
    "submission[\"TeamAMeanWinScore\"] = test_team_scores.loc[submission[\"TeamA\"].values][\"MeanWinScore\"].values\n",
    "submission[\"TeamBMeanWinScore\"] = test_team_scores.loc[submission[\"TeamB\"].values][\"MeanWinScore\"].values\n",
    "\n",
    "submission[\"TeamAWinLossDiff\"] = test_team_scores.loc[submission[\"TeamA\"].values][\"WinLossDiff\"].values\n",
    "submission[\"TeamBWinLossDiff\"] = test_team_scores.loc[submission[\"TeamB\"].values][\"WinLossDiff\"].values\n"
   ]
  },
  {
   "cell_type": "code",
   "execution_count": 28,
   "id": "4d6711e9",
   "metadata": {
    "execution": {
     "iopub.execute_input": "2022-03-14T09:29:03.613962Z",
     "iopub.status.busy": "2022-03-14T09:29:03.613237Z",
     "iopub.status.idle": "2022-03-14T09:29:03.629981Z",
     "shell.execute_reply": "2022-03-14T09:29:03.629244Z"
    },
    "papermill": {
     "duration": 0.051997,
     "end_time": "2022-03-14T09:29:03.630191",
     "exception": false,
     "start_time": "2022-03-14T09:29:03.578194",
     "status": "completed"
    },
    "tags": []
   },
   "outputs": [
    {
     "data": {
      "text/html": [
       "<div>\n",
       "<style scoped>\n",
       "    .dataframe tbody tr th:only-of-type {\n",
       "        vertical-align: middle;\n",
       "    }\n",
       "\n",
       "    .dataframe tbody tr th {\n",
       "        vertical-align: top;\n",
       "    }\n",
       "\n",
       "    .dataframe thead th {\n",
       "        text-align: right;\n",
       "    }\n",
       "</style>\n",
       "<table border=\"1\" class=\"dataframe\">\n",
       "  <thead>\n",
       "    <tr style=\"text-align: right;\">\n",
       "      <th></th>\n",
       "      <th>ID</th>\n",
       "      <th>Pred</th>\n",
       "      <th>Season</th>\n",
       "      <th>TeamA</th>\n",
       "      <th>TeamB</th>\n",
       "      <th>TeamAWins</th>\n",
       "      <th>TeamBWins</th>\n",
       "      <th>TeamAMeanLossScore</th>\n",
       "      <th>TeamBMeanLossScore</th>\n",
       "      <th>TeamAMeanWinScore</th>\n",
       "      <th>TeamBMeanWinScore</th>\n",
       "      <th>TeamAWinLossDiff</th>\n",
       "      <th>TeamBWinLossDiff</th>\n",
       "    </tr>\n",
       "  </thead>\n",
       "  <tbody>\n",
       "    <tr>\n",
       "      <th>0</th>\n",
       "      <td>2016_1112_1114</td>\n",
       "      <td>0.5</td>\n",
       "      <td>2016</td>\n",
       "      <td>1112</td>\n",
       "      <td>1114</td>\n",
       "      <td>878</td>\n",
       "      <td>562</td>\n",
       "      <td>69</td>\n",
       "      <td>64</td>\n",
       "      <td>82</td>\n",
       "      <td>76</td>\n",
       "      <td>13</td>\n",
       "      <td>12</td>\n",
       "    </tr>\n",
       "    <tr>\n",
       "      <th>1</th>\n",
       "      <td>2016_1112_1122</td>\n",
       "      <td>0.5</td>\n",
       "      <td>2016</td>\n",
       "      <td>1112</td>\n",
       "      <td>1122</td>\n",
       "      <td>878</td>\n",
       "      <td>518</td>\n",
       "      <td>69</td>\n",
       "      <td>68</td>\n",
       "      <td>82</td>\n",
       "      <td>78</td>\n",
       "      <td>13</td>\n",
       "      <td>10</td>\n",
       "    </tr>\n",
       "    <tr>\n",
       "      <th>2</th>\n",
       "      <td>2016_1112_1124</td>\n",
       "      <td>0.5</td>\n",
       "      <td>2016</td>\n",
       "      <td>1112</td>\n",
       "      <td>1124</td>\n",
       "      <td>878</td>\n",
       "      <td>585</td>\n",
       "      <td>69</td>\n",
       "      <td>65</td>\n",
       "      <td>82</td>\n",
       "      <td>78</td>\n",
       "      <td>13</td>\n",
       "      <td>13</td>\n",
       "    </tr>\n",
       "    <tr>\n",
       "      <th>3</th>\n",
       "      <td>2016_1112_1138</td>\n",
       "      <td>0.5</td>\n",
       "      <td>2016</td>\n",
       "      <td>1112</td>\n",
       "      <td>1138</td>\n",
       "      <td>878</td>\n",
       "      <td>443</td>\n",
       "      <td>69</td>\n",
       "      <td>66</td>\n",
       "      <td>82</td>\n",
       "      <td>77</td>\n",
       "      <td>13</td>\n",
       "      <td>11</td>\n",
       "    </tr>\n",
       "    <tr>\n",
       "      <th>4</th>\n",
       "      <td>2016_1112_1139</td>\n",
       "      <td>0.5</td>\n",
       "      <td>2016</td>\n",
       "      <td>1112</td>\n",
       "      <td>1139</td>\n",
       "      <td>878</td>\n",
       "      <td>682</td>\n",
       "      <td>69</td>\n",
       "      <td>63</td>\n",
       "      <td>82</td>\n",
       "      <td>73</td>\n",
       "      <td>13</td>\n",
       "      <td>10</td>\n",
       "    </tr>\n",
       "    <tr>\n",
       "      <th>...</th>\n",
       "      <td>...</td>\n",
       "      <td>...</td>\n",
       "      <td>...</td>\n",
       "      <td>...</td>\n",
       "      <td>...</td>\n",
       "      <td>...</td>\n",
       "      <td>...</td>\n",
       "      <td>...</td>\n",
       "      <td>...</td>\n",
       "      <td>...</td>\n",
       "      <td>...</td>\n",
       "      <td>...</td>\n",
       "      <td>...</td>\n",
       "    </tr>\n",
       "    <tr>\n",
       "      <th>11385</th>\n",
       "      <td>2021_1452_1457</td>\n",
       "      <td>0.5</td>\n",
       "      <td>2021</td>\n",
       "      <td>1452</td>\n",
       "      <td>1457</td>\n",
       "      <td>693</td>\n",
       "      <td>506</td>\n",
       "      <td>66</td>\n",
       "      <td>63</td>\n",
       "      <td>78</td>\n",
       "      <td>75</td>\n",
       "      <td>12</td>\n",
       "      <td>12</td>\n",
       "    </tr>\n",
       "    <tr>\n",
       "      <th>11386</th>\n",
       "      <td>2021_1452_1458</td>\n",
       "      <td>0.5</td>\n",
       "      <td>2021</td>\n",
       "      <td>1452</td>\n",
       "      <td>1458</td>\n",
       "      <td>693</td>\n",
       "      <td>714</td>\n",
       "      <td>66</td>\n",
       "      <td>61</td>\n",
       "      <td>78</td>\n",
       "      <td>72</td>\n",
       "      <td>12</td>\n",
       "      <td>11</td>\n",
       "    </tr>\n",
       "    <tr>\n",
       "      <th>11387</th>\n",
       "      <td>2021_1455_1457</td>\n",
       "      <td>0.5</td>\n",
       "      <td>2021</td>\n",
       "      <td>1455</td>\n",
       "      <td>1457</td>\n",
       "      <td>662</td>\n",
       "      <td>506</td>\n",
       "      <td>61</td>\n",
       "      <td>63</td>\n",
       "      <td>75</td>\n",
       "      <td>75</td>\n",
       "      <td>14</td>\n",
       "      <td>12</td>\n",
       "    </tr>\n",
       "    <tr>\n",
       "      <th>11388</th>\n",
       "      <td>2021_1455_1458</td>\n",
       "      <td>0.5</td>\n",
       "      <td>2021</td>\n",
       "      <td>1455</td>\n",
       "      <td>1458</td>\n",
       "      <td>662</td>\n",
       "      <td>714</td>\n",
       "      <td>61</td>\n",
       "      <td>61</td>\n",
       "      <td>75</td>\n",
       "      <td>72</td>\n",
       "      <td>14</td>\n",
       "      <td>11</td>\n",
       "    </tr>\n",
       "    <tr>\n",
       "      <th>11389</th>\n",
       "      <td>2021_1457_1458</td>\n",
       "      <td>0.5</td>\n",
       "      <td>2021</td>\n",
       "      <td>1457</td>\n",
       "      <td>1458</td>\n",
       "      <td>506</td>\n",
       "      <td>714</td>\n",
       "      <td>63</td>\n",
       "      <td>61</td>\n",
       "      <td>75</td>\n",
       "      <td>72</td>\n",
       "      <td>12</td>\n",
       "      <td>11</td>\n",
       "    </tr>\n",
       "  </tbody>\n",
       "</table>\n",
       "<p>11390 rows × 13 columns</p>\n",
       "</div>"
      ],
      "text/plain": [
       "                   ID  Pred  Season  TeamA  TeamB  TeamAWins  TeamBWins  \\\n",
       "0      2016_1112_1114   0.5    2016   1112   1114        878        562   \n",
       "1      2016_1112_1122   0.5    2016   1112   1122        878        518   \n",
       "2      2016_1112_1124   0.5    2016   1112   1124        878        585   \n",
       "3      2016_1112_1138   0.5    2016   1112   1138        878        443   \n",
       "4      2016_1112_1139   0.5    2016   1112   1139        878        682   \n",
       "...               ...   ...     ...    ...    ...        ...        ...   \n",
       "11385  2021_1452_1457   0.5    2021   1452   1457        693        506   \n",
       "11386  2021_1452_1458   0.5    2021   1452   1458        693        714   \n",
       "11387  2021_1455_1457   0.5    2021   1455   1457        662        506   \n",
       "11388  2021_1455_1458   0.5    2021   1455   1458        662        714   \n",
       "11389  2021_1457_1458   0.5    2021   1457   1458        506        714   \n",
       "\n",
       "       TeamAMeanLossScore  TeamBMeanLossScore  TeamAMeanWinScore  \\\n",
       "0                      69                  64                 82   \n",
       "1                      69                  68                 82   \n",
       "2                      69                  65                 82   \n",
       "3                      69                  66                 82   \n",
       "4                      69                  63                 82   \n",
       "...                   ...                 ...                ...   \n",
       "11385                  66                  63                 78   \n",
       "11386                  66                  61                 78   \n",
       "11387                  61                  63                 75   \n",
       "11388                  61                  61                 75   \n",
       "11389                  63                  61                 75   \n",
       "\n",
       "       TeamBMeanWinScore  TeamAWinLossDiff  TeamBWinLossDiff  \n",
       "0                     76                13                12  \n",
       "1                     78                13                10  \n",
       "2                     78                13                13  \n",
       "3                     77                13                11  \n",
       "4                     73                13                10  \n",
       "...                  ...               ...               ...  \n",
       "11385                 75                12                12  \n",
       "11386                 72                12                11  \n",
       "11387                 75                14                12  \n",
       "11388                 72                14                11  \n",
       "11389                 72                12                11  \n",
       "\n",
       "[11390 rows x 13 columns]"
      ]
     },
     "execution_count": 28,
     "metadata": {},
     "output_type": "execute_result"
    }
   ],
   "source": [
    "submission"
   ]
  },
  {
   "cell_type": "code",
   "execution_count": 29,
   "id": "29328656",
   "metadata": {
    "execution": {
     "iopub.execute_input": "2022-03-14T09:29:03.698759Z",
     "iopub.status.busy": "2022-03-14T09:29:03.698061Z",
     "iopub.status.idle": "2022-03-14T09:29:03.703202Z",
     "shell.execute_reply": "2022-03-14T09:29:03.702603Z"
    },
    "papermill": {
     "duration": 0.043457,
     "end_time": "2022-03-14T09:29:03.703435",
     "exception": false,
     "start_time": "2022-03-14T09:29:03.659978",
     "status": "completed"
    },
    "tags": []
   },
   "outputs": [],
   "source": [
    "x_submission = submission[colums]\n",
    "x_submission_scaled = x_submission.copy()"
   ]
  },
  {
   "cell_type": "code",
   "execution_count": 30,
   "id": "6c4736d8",
   "metadata": {
    "execution": {
     "iopub.execute_input": "2022-03-14T09:29:03.770828Z",
     "iopub.status.busy": "2022-03-14T09:29:03.770089Z",
     "iopub.status.idle": "2022-03-14T09:29:03.777422Z",
     "shell.execute_reply": "2022-03-14T09:29:03.776887Z"
    },
    "papermill": {
     "duration": 0.044661,
     "end_time": "2022-03-14T09:29:03.777614",
     "exception": false,
     "start_time": "2022-03-14T09:29:03.732953",
     "status": "completed"
    },
    "tags": []
   },
   "outputs": [],
   "source": [
    "val_sumbmission = scaler.transform(x_submission_scaled[scale_columns])\n",
    "x_submission_scaled[scale_columns] = val_sumbmission"
   ]
  },
  {
   "cell_type": "code",
   "execution_count": 31,
   "id": "0369ee37",
   "metadata": {
    "execution": {
     "iopub.execute_input": "2022-03-14T09:29:03.841954Z",
     "iopub.status.busy": "2022-03-14T09:29:03.841213Z",
     "iopub.status.idle": "2022-03-14T09:29:09.974265Z",
     "shell.execute_reply": "2022-03-14T09:29:09.974796Z"
    },
    "papermill": {
     "duration": 6.167502,
     "end_time": "2022-03-14T09:29:09.974987",
     "exception": false,
     "start_time": "2022-03-14T09:29:03.807485",
     "status": "completed"
    },
    "tags": []
   },
   "outputs": [],
   "source": [
    "model.fit(x_train_scaled,y_train)\n",
    "y_pred = model.predict_proba(x_submission_scaled)"
   ]
  },
  {
   "cell_type": "code",
   "execution_count": 32,
   "id": "613c6046",
   "metadata": {
    "execution": {
     "iopub.execute_input": "2022-03-14T09:29:10.038527Z",
     "iopub.status.busy": "2022-03-14T09:29:10.037947Z",
     "iopub.status.idle": "2022-03-14T09:29:10.064094Z",
     "shell.execute_reply": "2022-03-14T09:29:10.064603Z"
    },
    "papermill": {
     "duration": 0.060645,
     "end_time": "2022-03-14T09:29:10.064780",
     "exception": false,
     "start_time": "2022-03-14T09:29:10.004135",
     "status": "completed"
    },
    "tags": []
   },
   "outputs": [],
   "source": [
    "my_sub = pd.DataFrame({\"ID\":submission[\"ID\"],\"Pred\":y_pred[:,1]})\n",
    "my_sub.to_csv(\"1-submission\",index=False)"
   ]
  },
  {
   "cell_type": "code",
   "execution_count": null,
   "id": "a0fccde7",
   "metadata": {
    "papermill": {
     "duration": 0.027824,
     "end_time": "2022-03-14T09:29:10.120502",
     "exception": false,
     "start_time": "2022-03-14T09:29:10.092678",
     "status": "completed"
    },
    "tags": []
   },
   "outputs": [],
   "source": []
  }
 ],
 "metadata": {
  "kernelspec": {
   "display_name": "Python 3",
   "language": "python",
   "name": "python3"
  },
  "language_info": {
   "codemirror_mode": {
    "name": "ipython",
    "version": 3
   },
   "file_extension": ".py",
   "mimetype": "text/x-python",
   "name": "python",
   "nbconvert_exporter": "python",
   "pygments_lexer": "ipython3",
   "version": "3.7.12"
  },
  "papermill": {
   "default_parameters": {},
   "duration": 163.518296,
   "end_time": "2022-03-14T09:29:11.161761",
   "environment_variables": {},
   "exception": null,
   "input_path": "__notebook__.ipynb",
   "output_path": "__notebook__.ipynb",
   "parameters": {},
   "start_time": "2022-03-14T09:26:27.643465",
   "version": "2.3.3"
  }
 },
 "nbformat": 4,
 "nbformat_minor": 5
}
