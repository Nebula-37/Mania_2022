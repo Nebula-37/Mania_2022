{
 "cells": [
  {
   "cell_type": "code",
   "execution_count": 1,
   "id": "eaf2edff",
   "metadata": {
    "_cell_guid": "b1076dfc-b9ad-4769-8c92-a6c4dae69d19",
    "_uuid": "8f2839f25d086af736a60e9eeb907d3b93b6e0e5",
    "execution": {
     "iopub.execute_input": "2022-03-02T13:48:51.598246Z",
     "iopub.status.busy": "2022-03-02T13:48:51.597402Z",
     "iopub.status.idle": "2022-03-02T13:48:52.824409Z",
     "shell.execute_reply": "2022-03-02T13:48:52.824903Z",
     "shell.execute_reply.started": "2022-03-02T13:41:16.091233Z"
    },
    "papermill": {
     "duration": 1.249144,
     "end_time": "2022-03-02T13:48:52.825135",
     "exception": false,
     "start_time": "2022-03-02T13:48:51.575991",
     "status": "completed"
    },
    "tags": []
   },
   "outputs": [
    {
     "name": "stdout",
     "output_type": "stream",
     "text": [
      "/kaggle/input/mens-march-mania-2022/MDataFiles_Stage1/Conferences.csv\n",
      "/kaggle/input/mens-march-mania-2022/MDataFiles_Stage1/MNCAATourneySeedRoundSlots.csv\n",
      "/kaggle/input/mens-march-mania-2022/MDataFiles_Stage1/MRegularSeasonDetailedResults.csv\n",
      "/kaggle/input/mens-march-mania-2022/MDataFiles_Stage1/MNCAATourneyCompactResults.csv\n",
      "/kaggle/input/mens-march-mania-2022/MDataFiles_Stage1/MGameCities.csv\n",
      "/kaggle/input/mens-march-mania-2022/MDataFiles_Stage1/MSeasons.csv\n",
      "/kaggle/input/mens-march-mania-2022/MDataFiles_Stage1/MSecondaryTourneyTeams.csv\n",
      "/kaggle/input/mens-march-mania-2022/MDataFiles_Stage1/Cities.csv\n",
      "/kaggle/input/mens-march-mania-2022/MDataFiles_Stage1/MTeamSpellings.csv\n",
      "/kaggle/input/mens-march-mania-2022/MDataFiles_Stage1/MRegularSeasonCompactResults.csv\n",
      "/kaggle/input/mens-march-mania-2022/MDataFiles_Stage1/MMasseyOrdinals.csv\n",
      "/kaggle/input/mens-march-mania-2022/MDataFiles_Stage1/MSecondaryTourneyCompactResults.csv\n",
      "/kaggle/input/mens-march-mania-2022/MDataFiles_Stage1/MNCAATourneySlots.csv\n",
      "/kaggle/input/mens-march-mania-2022/MDataFiles_Stage1/MNCAATourneySeeds.csv\n",
      "/kaggle/input/mens-march-mania-2022/MDataFiles_Stage1/MTeamCoaches.csv\n",
      "/kaggle/input/mens-march-mania-2022/MDataFiles_Stage1/MConferenceTourneyGames.csv\n",
      "/kaggle/input/mens-march-mania-2022/MDataFiles_Stage1/MNCAATourneyDetailedResults.csv\n",
      "/kaggle/input/mens-march-mania-2022/MDataFiles_Stage1/MSampleSubmissionStage1.csv\n",
      "/kaggle/input/mens-march-mania-2022/MDataFiles_Stage1/MTeamConferences.csv\n",
      "/kaggle/input/mens-march-mania-2022/MDataFiles_Stage1/MTeams.csv\n"
     ]
    }
   ],
   "source": [
    "# This Python 3 environment comes with many helpful analytics libraries installed\n",
    "# It is defined by the kaggle/python Docker image: https://github.com/kaggle/docker-python\n",
    "# For example, here's several helpful packages to load\n",
    "\n",
    "import numpy as np # linear algebra\n",
    "import pandas as pd # data processing, CSV file I/O (e.g. pd.read_csv)\n",
    "import matplotlib.pyplot as plt\n",
    "import seaborn as sns\n",
    "sns.set()\n",
    "# Input data files are available in the read-only \"../input/\" directory\n",
    "# For example, running this (by clicking run or pressing Shift+Enter) will list all files under the input directory\n",
    "\n",
    "import os\n",
    "for dirname, _, filenames in os.walk('/kaggle/input'):\n",
    "    for filename in filenames:\n",
    "        print(os.path.join(dirname, filename))\n",
    "\n",
    "# You can write up to 20GB to the current directory (/kaggle/working/) that gets preserved as output when you create a version using \"Save & Run All\" \n",
    "# You can also write temporary files to /kaggle/temp/, but they won't be saved outside of the current session"
   ]
  },
  {
   "cell_type": "code",
   "execution_count": 2,
   "id": "940e2fc7",
   "metadata": {
    "execution": {
     "iopub.execute_input": "2022-03-02T13:48:52.868870Z",
     "iopub.status.busy": "2022-03-02T13:48:52.868293Z",
     "iopub.status.idle": "2022-03-02T13:48:53.096942Z",
     "shell.execute_reply": "2022-03-02T13:48:53.097314Z",
     "shell.execute_reply.started": "2022-03-02T13:41:17.173724Z"
    },
    "papermill": {
     "duration": 0.252196,
     "end_time": "2022-03-02T13:48:53.097460",
     "exception": false,
     "start_time": "2022-03-02T13:48:52.845264",
     "status": "completed"
    },
    "tags": []
   },
   "outputs": [],
   "source": [
    "# Basic data\n",
    "team = pd.read_csv(\"/kaggle/input/mens-march-mania-2022/MDataFiles_Stage1/MTeams.csv\")\n",
    "seasons = pd.read_csv(\"/kaggle/input/mens-march-mania-2022/MDataFiles_Stage1/MSeasons.csv\")\n",
    "seeds = pd.read_csv(\"/kaggle/input/mens-march-mania-2022/MDataFiles_Stage1/MNCAATourneySeeds.csv\")\n",
    "season_results = pd.read_csv(\"/kaggle/input/mens-march-mania-2022/MDataFiles_Stage1/MRegularSeasonCompactResults.csv\")\n",
    "tour_results = pd.read_csv(\"/kaggle/input/mens-march-mania-2022/MDataFiles_Stage1/MNCAATourneyCompactResults.csv\")\n"
   ]
  },
  {
   "cell_type": "code",
   "execution_count": 3,
   "id": "bc719067",
   "metadata": {
    "execution": {
     "iopub.execute_input": "2022-03-02T13:48:53.160931Z",
     "iopub.status.busy": "2022-03-02T13:48:53.160309Z",
     "iopub.status.idle": "2022-03-02T13:48:53.448197Z",
     "shell.execute_reply": "2022-03-02T13:48:53.447576Z",
     "shell.execute_reply.started": "2022-03-02T13:41:17.407014Z"
    },
    "papermill": {
     "duration": 0.322391,
     "end_time": "2022-03-02T13:48:53.448334",
     "exception": false,
     "start_time": "2022-03-02T13:48:53.125943",
     "status": "completed"
    },
    "tags": []
   },
   "outputs": [
    {
     "name": "stdout",
     "output_type": "stream",
     "text": [
      "City data\n",
      "Shape: (463, 3)\n",
      "Coloumsn Index(['CityID', 'City', 'State'], dtype='object')\n",
      "Cites length: 435\n",
      "States: 63\n"
     ]
    },
    {
     "data": {
      "image/png": "[encoded data removed]",
      "text/plain": [
       "<Figure size 1080x432 with 1 Axes>"
      ]
     },
     "metadata": {},
     "output_type": "display_data"
    }
   ],
   "source": [
    "city = pd.read_csv(\"/kaggle/input/mens-march-mania-2022/MDataFiles_Stage1/Cities.csv\")\n",
    "print(\"City data\")\n",
    "print(\"Shape:\",np.shape(city))\n",
    "print(\"Coloumsn\",city.columns)\n",
    "print(\"Cites length:\", len(np.unique(city[\"City\"])))\n",
    "print(\"States:\",len(np.unique(city[\"State\"])))\n",
    "plt.figure(figsize=(15,6))\n",
    "ax = city[\"State\"].value_counts().head(10).plot(kind=\"bar\",title=\"States mataches\")\n",
    "ax.set_xlabel(\"State\")\n",
    "ax.set_ylabel(\"Matches\")\n",
    "\n",
    "plt.show()"
   ]
  },
  {
   "cell_type": "code",
   "execution_count": 4,
   "id": "80c8b2b4",
   "metadata": {
    "execution": {
     "iopub.execute_input": "2022-03-02T13:48:53.494143Z",
     "iopub.status.busy": "2022-03-02T13:48:53.493588Z",
     "iopub.status.idle": "2022-03-02T13:48:53.499195Z",
     "shell.execute_reply": "2022-03-02T13:48:53.499786Z",
     "shell.execute_reply.started": "2022-03-02T13:41:17.704461Z"
    },
    "papermill": {
     "duration": 0.029073,
     "end_time": "2022-03-02T13:48:53.499963",
     "exception": false,
     "start_time": "2022-03-02T13:48:53.470890",
     "status": "completed"
    },
    "tags": []
   },
   "outputs": [
    {
     "name": "stdout",
     "output_type": "stream",
     "text": [
      "Number of teams:  372\n"
     ]
    }
   ],
   "source": [
    "print(\"Number of teams: \",len(np.unique(team[\"TeamName\"])))"
   ]
  },
  {
   "cell_type": "code",
   "execution_count": 5,
   "id": "a7bade35",
   "metadata": {
    "execution": {
     "iopub.execute_input": "2022-03-02T13:48:53.548417Z",
     "iopub.status.busy": "2022-03-02T13:48:53.545240Z",
     "iopub.status.idle": "2022-03-02T13:48:53.559938Z",
     "shell.execute_reply": "2022-03-02T13:48:53.560315Z",
     "shell.execute_reply.started": "2022-03-02T13:41:17.714039Z"
    },
    "papermill": {
     "duration": 0.038845,
     "end_time": "2022-03-02T13:48:53.560482",
     "exception": false,
     "start_time": "2022-03-02T13:48:53.521637",
     "status": "completed"
    },
    "tags": []
   },
   "outputs": [
    {
     "data": {
      "text/html": [
       "<div>\n",
       "<style scoped>\n",
       "    .dataframe tbody tr th:only-of-type {\n",
       "        vertical-align: middle;\n",
       "    }\n",
       "\n",
       "    .dataframe tbody tr th {\n",
       "        vertical-align: top;\n",
       "    }\n",
       "\n",
       "    .dataframe thead th {\n",
       "        text-align: right;\n",
       "    }\n",
       "</style>\n",
       "<table border=\"1\" class=\"dataframe\">\n",
       "  <thead>\n",
       "    <tr style=\"text-align: right;\">\n",
       "      <th></th>\n",
       "      <th>TeamID</th>\n",
       "      <th>TeamName</th>\n",
       "      <th>FirstD1Season</th>\n",
       "      <th>LastD1Season</th>\n",
       "    </tr>\n",
       "  </thead>\n",
       "  <tbody>\n",
       "    <tr>\n",
       "      <th>0</th>\n",
       "      <td>1101</td>\n",
       "      <td>Abilene Chr</td>\n",
       "      <td>2014</td>\n",
       "      <td>2022</td>\n",
       "    </tr>\n",
       "    <tr>\n",
       "      <th>1</th>\n",
       "      <td>1102</td>\n",
       "      <td>Air Force</td>\n",
       "      <td>1985</td>\n",
       "      <td>2022</td>\n",
       "    </tr>\n",
       "    <tr>\n",
       "      <th>2</th>\n",
       "      <td>1103</td>\n",
       "      <td>Akron</td>\n",
       "      <td>1985</td>\n",
       "      <td>2022</td>\n",
       "    </tr>\n",
       "    <tr>\n",
       "      <th>3</th>\n",
       "      <td>1104</td>\n",
       "      <td>Alabama</td>\n",
       "      <td>1985</td>\n",
       "      <td>2022</td>\n",
       "    </tr>\n",
       "    <tr>\n",
       "      <th>4</th>\n",
       "      <td>1105</td>\n",
       "      <td>Alabama A&amp;M</td>\n",
       "      <td>2000</td>\n",
       "      <td>2022</td>\n",
       "    </tr>\n",
       "  </tbody>\n",
       "</table>\n",
       "</div>"
      ],
      "text/plain": [
       "   TeamID     TeamName  FirstD1Season  LastD1Season\n",
       "0    1101  Abilene Chr           2014          2022\n",
       "1    1102    Air Force           1985          2022\n",
       "2    1103        Akron           1985          2022\n",
       "3    1104      Alabama           1985          2022\n",
       "4    1105  Alabama A&M           2000          2022"
      ]
     },
     "execution_count": 5,
     "metadata": {},
     "output_type": "execute_result"
    }
   ],
   "source": [
    "team.head(5)"
   ]
  },
  {
   "cell_type": "code",
   "execution_count": 6,
   "id": "113985c9",
   "metadata": {
    "execution": {
     "iopub.execute_input": "2022-03-02T13:48:53.606565Z",
     "iopub.status.busy": "2022-03-02T13:48:53.606026Z",
     "iopub.status.idle": "2022-03-02T13:48:53.618525Z",
     "shell.execute_reply": "2022-03-02T13:48:53.618045Z",
     "shell.execute_reply.started": "2022-03-02T13:41:17.737009Z"
    },
    "papermill": {
     "duration": 0.036623,
     "end_time": "2022-03-02T13:48:53.618632",
     "exception": false,
     "start_time": "2022-03-02T13:48:53.582009",
     "status": "completed"
    },
    "tags": []
   },
   "outputs": [
    {
     "data": {
      "text/html": [
       "<div>\n",
       "<style scoped>\n",
       "    .dataframe tbody tr th:only-of-type {\n",
       "        vertical-align: middle;\n",
       "    }\n",
       "\n",
       "    .dataframe tbody tr th {\n",
       "        vertical-align: top;\n",
       "    }\n",
       "\n",
       "    .dataframe thead th {\n",
       "        text-align: right;\n",
       "    }\n",
       "</style>\n",
       "<table border=\"1\" class=\"dataframe\">\n",
       "  <thead>\n",
       "    <tr style=\"text-align: right;\">\n",
       "      <th></th>\n",
       "      <th>Season</th>\n",
       "      <th>DayZero</th>\n",
       "      <th>RegionW</th>\n",
       "      <th>RegionX</th>\n",
       "      <th>RegionY</th>\n",
       "      <th>RegionZ</th>\n",
       "    </tr>\n",
       "  </thead>\n",
       "  <tbody>\n",
       "    <tr>\n",
       "      <th>0</th>\n",
       "      <td>1985</td>\n",
       "      <td>1984-10-29</td>\n",
       "      <td>East</td>\n",
       "      <td>West</td>\n",
       "      <td>Midwest</td>\n",
       "      <td>Southeast</td>\n",
       "    </tr>\n",
       "    <tr>\n",
       "      <th>1</th>\n",
       "      <td>1986</td>\n",
       "      <td>1985-10-28</td>\n",
       "      <td>East</td>\n",
       "      <td>Midwest</td>\n",
       "      <td>Southeast</td>\n",
       "      <td>West</td>\n",
       "    </tr>\n",
       "    <tr>\n",
       "      <th>2</th>\n",
       "      <td>1987</td>\n",
       "      <td>1986-10-27</td>\n",
       "      <td>East</td>\n",
       "      <td>Southeast</td>\n",
       "      <td>Midwest</td>\n",
       "      <td>West</td>\n",
       "    </tr>\n",
       "    <tr>\n",
       "      <th>3</th>\n",
       "      <td>1988</td>\n",
       "      <td>1987-11-02</td>\n",
       "      <td>East</td>\n",
       "      <td>Midwest</td>\n",
       "      <td>Southeast</td>\n",
       "      <td>West</td>\n",
       "    </tr>\n",
       "    <tr>\n",
       "      <th>4</th>\n",
       "      <td>1989</td>\n",
       "      <td>1988-10-31</td>\n",
       "      <td>East</td>\n",
       "      <td>West</td>\n",
       "      <td>Midwest</td>\n",
       "      <td>Southeast</td>\n",
       "    </tr>\n",
       "  </tbody>\n",
       "</table>\n",
       "</div>"
      ],
      "text/plain": [
       "   Season    DayZero RegionW    RegionX    RegionY    RegionZ\n",
       "0    1985 1984-10-29    East       West    Midwest  Southeast\n",
       "1    1986 1985-10-28    East    Midwest  Southeast       West\n",
       "2    1987 1986-10-27    East  Southeast    Midwest       West\n",
       "3    1988 1987-11-02    East    Midwest  Southeast       West\n",
       "4    1989 1988-10-31    East       West    Midwest  Southeast"
      ]
     },
     "execution_count": 6,
     "metadata": {},
     "output_type": "execute_result"
    }
   ],
   "source": [
    "seasons[\"DayZero\"] = pd.to_datetime(seasons[\"DayZero\"])\n",
    "seasons.head(5)"
   ]
  },
  {
   "cell_type": "code",
   "execution_count": 7,
   "id": "de7e282b",
   "metadata": {
    "execution": {
     "iopub.execute_input": "2022-03-02T13:48:53.662345Z",
     "iopub.status.busy": "2022-03-02T13:48:53.661798Z",
     "iopub.status.idle": "2022-03-02T13:48:54.166090Z",
     "shell.execute_reply": "2022-03-02T13:48:54.166656Z",
     "shell.execute_reply.started": "2022-03-02T13:41:17.758825Z"
    },
    "papermill": {
     "duration": 0.527807,
     "end_time": "2022-03-02T13:48:54.166811",
     "exception": false,
     "start_time": "2022-03-02T13:48:53.639004",
     "status": "completed"
    },
    "tags": []
   },
   "outputs": [
    {
     "data": {
      "image/png": "[encoded data removed]",
      "text/plain": [
       "<Figure size 1152x288 with 3 Axes>"
      ]
     },
     "metadata": {},
     "output_type": "display_data"
    }
   ],
   "source": [
    "plt.figure(figsize=(16,4))\n",
    "plt.subplot(131)\n",
    "seasons[\"RegionW\"].value_counts().plot(kind=\"bar\",title=\"Region W\")\n",
    "\n",
    "plt.subplot(132)\n",
    "seasons[\"RegionX\"].value_counts().plot(kind=\"bar\",title=\"Region X\")\n",
    "\n",
    "plt.subplot(133)\n",
    "seasons[\"RegionZ\"].value_counts().plot(kind=\"bar\",title=\"Region Z\")\n",
    "plt.show()"
   ]
  },
  {
   "cell_type": "code",
   "execution_count": 8,
   "id": "f9b0f7dd",
   "metadata": {
    "execution": {
     "iopub.execute_input": "2022-03-02T13:48:54.212188Z",
     "iopub.status.busy": "2022-03-02T13:48:54.211673Z",
     "iopub.status.idle": "2022-03-02T13:48:54.221219Z",
     "shell.execute_reply": "2022-03-02T13:48:54.221623Z",
     "shell.execute_reply.started": "2022-03-02T13:41:18.242445Z"
    },
    "papermill": {
     "duration": 0.033362,
     "end_time": "2022-03-02T13:48:54.221775",
     "exception": false,
     "start_time": "2022-03-02T13:48:54.188413",
     "status": "completed"
    },
    "tags": []
   },
   "outputs": [
    {
     "data": {
      "text/html": [
       "<div>\n",
       "<style scoped>\n",
       "    .dataframe tbody tr th:only-of-type {\n",
       "        vertical-align: middle;\n",
       "    }\n",
       "\n",
       "    .dataframe tbody tr th {\n",
       "        vertical-align: top;\n",
       "    }\n",
       "\n",
       "    .dataframe thead th {\n",
       "        text-align: right;\n",
       "    }\n",
       "</style>\n",
       "<table border=\"1\" class=\"dataframe\">\n",
       "  <thead>\n",
       "    <tr style=\"text-align: right;\">\n",
       "      <th></th>\n",
       "      <th>Season</th>\n",
       "      <th>Seed</th>\n",
       "      <th>TeamID</th>\n",
       "    </tr>\n",
       "  </thead>\n",
       "  <tbody>\n",
       "    <tr>\n",
       "      <th>0</th>\n",
       "      <td>1985</td>\n",
       "      <td>W01</td>\n",
       "      <td>1207</td>\n",
       "    </tr>\n",
       "    <tr>\n",
       "      <th>1</th>\n",
       "      <td>1985</td>\n",
       "      <td>W02</td>\n",
       "      <td>1210</td>\n",
       "    </tr>\n",
       "    <tr>\n",
       "      <th>2</th>\n",
       "      <td>1985</td>\n",
       "      <td>W03</td>\n",
       "      <td>1228</td>\n",
       "    </tr>\n",
       "    <tr>\n",
       "      <th>3</th>\n",
       "      <td>1985</td>\n",
       "      <td>W04</td>\n",
       "      <td>1260</td>\n",
       "    </tr>\n",
       "    <tr>\n",
       "      <th>4</th>\n",
       "      <td>1985</td>\n",
       "      <td>W05</td>\n",
       "      <td>1374</td>\n",
       "    </tr>\n",
       "  </tbody>\n",
       "</table>\n",
       "</div>"
      ],
      "text/plain": [
       "   Season Seed  TeamID\n",
       "0    1985  W01    1207\n",
       "1    1985  W02    1210\n",
       "2    1985  W03    1228\n",
       "3    1985  W04    1260\n",
       "4    1985  W05    1374"
      ]
     },
     "execution_count": 8,
     "metadata": {},
     "output_type": "execute_result"
    }
   ],
   "source": [
    "seeds.head()\n"
   ]
  },
  {
   "cell_type": "code",
   "execution_count": 9,
   "id": "edfb2a28",
   "metadata": {
    "execution": {
     "iopub.execute_input": "2022-03-02T13:48:54.269089Z",
     "iopub.status.busy": "2022-03-02T13:48:54.268584Z",
     "iopub.status.idle": "2022-03-02T13:48:54.273232Z",
     "shell.execute_reply": "2022-03-02T13:48:54.272641Z",
     "shell.execute_reply.started": "2022-03-02T13:41:18.253852Z"
    },
    "papermill": {
     "duration": 0.029743,
     "end_time": "2022-03-02T13:48:54.273383",
     "exception": false,
     "start_time": "2022-03-02T13:48:54.243640",
     "status": "completed"
    },
    "tags": []
   },
   "outputs": [
    {
     "name": "stdout",
     "output_type": "stream",
     "text": [
      "(2354, 3)\n"
     ]
    }
   ],
   "source": [
    "print(seeds.shape)"
   ]
  },
  {
   "cell_type": "code",
   "execution_count": 10,
   "id": "c3833270",
   "metadata": {
    "execution": {
     "iopub.execute_input": "2022-03-02T13:48:54.327370Z",
     "iopub.status.busy": "2022-03-02T13:48:54.326887Z",
     "iopub.status.idle": "2022-03-02T13:48:56.183233Z",
     "shell.execute_reply": "2022-03-02T13:48:56.182541Z",
     "shell.execute_reply.started": "2022-03-02T13:41:18.268399Z"
    },
    "papermill": {
     "duration": 1.887944,
     "end_time": "2022-03-02T13:48:56.183391",
     "exception": false,
     "start_time": "2022-03-02T13:48:54.295447",
     "status": "completed"
    },
    "tags": []
   },
   "outputs": [
    {
     "data": {
      "image/png": "[encoded data removed]",
      "text/plain": [
       "<Figure size 1008x504 with 1 Axes>"
      ]
     },
     "metadata": {},
     "output_type": "display_data"
    }
   ],
   "source": [
    "seeds[\"Seed\"].value_counts().plot(kind='bar',figsize=(14,7))\n",
    "plt.show()"
   ]
  },
  {
   "cell_type": "code",
   "execution_count": 11,
   "id": "4ec72590",
   "metadata": {
    "execution": {
     "iopub.execute_input": "2022-03-02T13:48:56.263674Z",
     "iopub.status.busy": "2022-03-02T13:48:56.262997Z",
     "iopub.status.idle": "2022-03-02T13:48:56.267300Z",
     "shell.execute_reply": "2022-03-02T13:48:56.266663Z",
     "shell.execute_reply.started": "2022-03-02T13:41:20.329679Z"
    },
    "papermill": {
     "duration": 0.048434,
     "end_time": "2022-03-02T13:48:56.267455",
     "exception": false,
     "start_time": "2022-03-02T13:48:56.219021",
     "status": "completed"
    },
    "tags": []
   },
   "outputs": [
    {
     "data": {
      "text/html": [
       "<div>\n",
       "<style scoped>\n",
       "    .dataframe tbody tr th:only-of-type {\n",
       "        vertical-align: middle;\n",
       "    }\n",
       "\n",
       "    .dataframe tbody tr th {\n",
       "        vertical-align: top;\n",
       "    }\n",
       "\n",
       "    .dataframe thead th {\n",
       "        text-align: right;\n",
       "    }\n",
       "</style>\n",
       "<table border=\"1\" class=\"dataframe\">\n",
       "  <thead>\n",
       "    <tr style=\"text-align: right;\">\n",
       "      <th></th>\n",
       "      <th>Season</th>\n",
       "      <th>DayNum</th>\n",
       "      <th>WTeamID</th>\n",
       "      <th>WScore</th>\n",
       "      <th>LTeamID</th>\n",
       "      <th>LScore</th>\n",
       "      <th>WLoc</th>\n",
       "      <th>NumOT</th>\n",
       "    </tr>\n",
       "  </thead>\n",
       "  <tbody>\n",
       "    <tr>\n",
       "      <th>0</th>\n",
       "      <td>1985</td>\n",
       "      <td>20</td>\n",
       "      <td>1228</td>\n",
       "      <td>81</td>\n",
       "      <td>1328</td>\n",
       "      <td>64</td>\n",
       "      <td>N</td>\n",
       "      <td>0</td>\n",
       "    </tr>\n",
       "    <tr>\n",
       "      <th>1</th>\n",
       "      <td>1985</td>\n",
       "      <td>25</td>\n",
       "      <td>1106</td>\n",
       "      <td>77</td>\n",
       "      <td>1354</td>\n",
       "      <td>70</td>\n",
       "      <td>H</td>\n",
       "      <td>0</td>\n",
       "    </tr>\n",
       "    <tr>\n",
       "      <th>2</th>\n",
       "      <td>1985</td>\n",
       "      <td>25</td>\n",
       "      <td>1112</td>\n",
       "      <td>63</td>\n",
       "      <td>1223</td>\n",
       "      <td>56</td>\n",
       "      <td>H</td>\n",
       "      <td>0</td>\n",
       "    </tr>\n",
       "    <tr>\n",
       "      <th>3</th>\n",
       "      <td>1985</td>\n",
       "      <td>25</td>\n",
       "      <td>1165</td>\n",
       "      <td>70</td>\n",
       "      <td>1432</td>\n",
       "      <td>54</td>\n",
       "      <td>H</td>\n",
       "      <td>0</td>\n",
       "    </tr>\n",
       "    <tr>\n",
       "      <th>4</th>\n",
       "      <td>1985</td>\n",
       "      <td>25</td>\n",
       "      <td>1192</td>\n",
       "      <td>86</td>\n",
       "      <td>1447</td>\n",
       "      <td>74</td>\n",
       "      <td>H</td>\n",
       "      <td>0</td>\n",
       "    </tr>\n",
       "  </tbody>\n",
       "</table>\n",
       "</div>"
      ],
      "text/plain": [
       "   Season  DayNum  WTeamID  WScore  LTeamID  LScore WLoc  NumOT\n",
       "0    1985      20     1228      81     1328      64    N      0\n",
       "1    1985      25     1106      77     1354      70    H      0\n",
       "2    1985      25     1112      63     1223      56    H      0\n",
       "3    1985      25     1165      70     1432      54    H      0\n",
       "4    1985      25     1192      86     1447      74    H      0"
      ]
     },
     "execution_count": 11,
     "metadata": {},
     "output_type": "execute_result"
    }
   ],
   "source": [
    "season_results.head()"
   ]
  },
  {
   "cell_type": "code",
   "execution_count": 12,
   "id": "cfeaff41",
   "metadata": {
    "execution": {
     "iopub.execute_input": "2022-03-02T13:48:56.340993Z",
     "iopub.status.busy": "2022-03-02T13:48:56.340301Z",
     "iopub.status.idle": "2022-03-02T13:48:56.358674Z",
     "shell.execute_reply": "2022-03-02T13:48:56.359150Z",
     "shell.execute_reply.started": "2022-03-02T13:41:20.344177Z"
    },
    "papermill": {
     "duration": 0.056766,
     "end_time": "2022-03-02T13:48:56.359336",
     "exception": false,
     "start_time": "2022-03-02T13:48:56.302570",
     "status": "completed"
    },
    "tags": []
   },
   "outputs": [
    {
     "data": {
      "text/html": [
       "<div>\n",
       "<style scoped>\n",
       "    .dataframe tbody tr th:only-of-type {\n",
       "        vertical-align: middle;\n",
       "    }\n",
       "\n",
       "    .dataframe tbody tr th {\n",
       "        vertical-align: top;\n",
       "    }\n",
       "\n",
       "    .dataframe thead th {\n",
       "        text-align: right;\n",
       "    }\n",
       "</style>\n",
       "<table border=\"1\" class=\"dataframe\">\n",
       "  <thead>\n",
       "    <tr style=\"text-align: right;\">\n",
       "      <th></th>\n",
       "      <th>Season</th>\n",
       "      <th>DayNum</th>\n",
       "      <th>WTeamID</th>\n",
       "      <th>WScore</th>\n",
       "      <th>LTeamID</th>\n",
       "      <th>LScore</th>\n",
       "      <th>WLoc</th>\n",
       "      <th>NumOT</th>\n",
       "    </tr>\n",
       "  </thead>\n",
       "  <tbody>\n",
       "    <tr>\n",
       "      <th>7520</th>\n",
       "      <td>1987</td>\n",
       "      <td>25</td>\n",
       "      <td>1272</td>\n",
       "      <td>70</td>\n",
       "      <td>1156</td>\n",
       "      <td>66</td>\n",
       "      <td>H</td>\n",
       "      <td>0</td>\n",
       "    </tr>\n",
       "    <tr>\n",
       "      <th>7521</th>\n",
       "      <td>1987</td>\n",
       "      <td>25</td>\n",
       "      <td>1276</td>\n",
       "      <td>115</td>\n",
       "      <td>1133</td>\n",
       "      <td>107</td>\n",
       "      <td>H</td>\n",
       "      <td>0</td>\n",
       "    </tr>\n",
       "    <tr>\n",
       "      <th>7522</th>\n",
       "      <td>1987</td>\n",
       "      <td>25</td>\n",
       "      <td>1328</td>\n",
       "      <td>119</td>\n",
       "      <td>1140</td>\n",
       "      <td>110</td>\n",
       "      <td>H</td>\n",
       "      <td>0</td>\n",
       "    </tr>\n",
       "    <tr>\n",
       "      <th>7523</th>\n",
       "      <td>1987</td>\n",
       "      <td>25</td>\n",
       "      <td>1395</td>\n",
       "      <td>83</td>\n",
       "      <td>1261</td>\n",
       "      <td>74</td>\n",
       "      <td>A</td>\n",
       "      <td>0</td>\n",
       "    </tr>\n",
       "    <tr>\n",
       "      <th>7524</th>\n",
       "      <td>1987</td>\n",
       "      <td>25</td>\n",
       "      <td>1396</td>\n",
       "      <td>79</td>\n",
       "      <td>1438</td>\n",
       "      <td>75</td>\n",
       "      <td>A</td>\n",
       "      <td>0</td>\n",
       "    </tr>\n",
       "    <tr>\n",
       "      <th>...</th>\n",
       "      <td>...</td>\n",
       "      <td>...</td>\n",
       "      <td>...</td>\n",
       "      <td>...</td>\n",
       "      <td>...</td>\n",
       "      <td>...</td>\n",
       "      <td>...</td>\n",
       "      <td>...</td>\n",
       "    </tr>\n",
       "    <tr>\n",
       "      <th>11430</th>\n",
       "      <td>1987</td>\n",
       "      <td>132</td>\n",
       "      <td>1272</td>\n",
       "      <td>75</td>\n",
       "      <td>1257</td>\n",
       "      <td>52</td>\n",
       "      <td>A</td>\n",
       "      <td>0</td>\n",
       "    </tr>\n",
       "    <tr>\n",
       "      <th>11431</th>\n",
       "      <td>1987</td>\n",
       "      <td>132</td>\n",
       "      <td>1281</td>\n",
       "      <td>67</td>\n",
       "      <td>1242</td>\n",
       "      <td>65</td>\n",
       "      <td>N</td>\n",
       "      <td>0</td>\n",
       "    </tr>\n",
       "    <tr>\n",
       "      <th>11432</th>\n",
       "      <td>1987</td>\n",
       "      <td>132</td>\n",
       "      <td>1301</td>\n",
       "      <td>68</td>\n",
       "      <td>1314</td>\n",
       "      <td>67</td>\n",
       "      <td>N</td>\n",
       "      <td>0</td>\n",
       "    </tr>\n",
       "    <tr>\n",
       "      <th>11433</th>\n",
       "      <td>1987</td>\n",
       "      <td>132</td>\n",
       "      <td>1417</td>\n",
       "      <td>76</td>\n",
       "      <td>1449</td>\n",
       "      <td>64</td>\n",
       "      <td>H</td>\n",
       "      <td>0</td>\n",
       "    </tr>\n",
       "    <tr>\n",
       "      <th>11434</th>\n",
       "      <td>1987</td>\n",
       "      <td>132</td>\n",
       "      <td>1461</td>\n",
       "      <td>64</td>\n",
       "      <td>1307</td>\n",
       "      <td>62</td>\n",
       "      <td>A</td>\n",
       "      <td>0</td>\n",
       "    </tr>\n",
       "  </tbody>\n",
       "</table>\n",
       "<p>3915 rows × 8 columns</p>\n",
       "</div>"
      ],
      "text/plain": [
       "       Season  DayNum  WTeamID  WScore  LTeamID  LScore WLoc  NumOT\n",
       "7520     1987      25     1272      70     1156      66    H      0\n",
       "7521     1987      25     1276     115     1133     107    H      0\n",
       "7522     1987      25     1328     119     1140     110    H      0\n",
       "7523     1987      25     1395      83     1261      74    A      0\n",
       "7524     1987      25     1396      79     1438      75    A      0\n",
       "...       ...     ...      ...     ...      ...     ...  ...    ...\n",
       "11430    1987     132     1272      75     1257      52    A      0\n",
       "11431    1987     132     1281      67     1242      65    N      0\n",
       "11432    1987     132     1301      68     1314      67    N      0\n",
       "11433    1987     132     1417      76     1449      64    H      0\n",
       "11434    1987     132     1461      64     1307      62    A      0\n",
       "\n",
       "[3915 rows x 8 columns]"
      ]
     },
     "execution_count": 12,
     "metadata": {},
     "output_type": "execute_result"
    }
   ],
   "source": [
    "season_results.query(\"Season == 1987\")"
   ]
  },
  {
   "cell_type": "markdown",
   "id": "9c99667e",
   "metadata": {
    "papermill": {
     "duration": 0.035861,
     "end_time": "2022-03-02T13:48:56.430602",
     "exception": false,
     "start_time": "2022-03-02T13:48:56.394741",
     "status": "completed"
    },
    "tags": []
   },
   "source": [
    "# Find the number of matches in each season "
   ]
  },
  {
   "cell_type": "code",
   "execution_count": 13,
   "id": "347f3210",
   "metadata": {
    "execution": {
     "iopub.execute_input": "2022-03-02T13:48:56.509565Z",
     "iopub.status.busy": "2022-03-02T13:48:56.509010Z",
     "iopub.status.idle": "2022-03-02T13:48:56.918131Z",
     "shell.execute_reply": "2022-03-02T13:48:56.918502Z",
     "shell.execute_reply.started": "2022-03-02T13:41:20.372936Z"
    },
    "papermill": {
     "duration": 0.452738,
     "end_time": "2022-03-02T13:48:56.918673",
     "exception": false,
     "start_time": "2022-03-02T13:48:56.465935",
     "status": "completed"
    },
    "tags": []
   },
   "outputs": [
    {
     "data": {
      "image/png": "[encoded data removed]",
      "text/plain": [
       "<Figure size 864x432 with 1 Axes>"
      ]
     },
     "metadata": {},
     "output_type": "display_data"
    }
   ],
   "source": [
    "season_results.groupby(\"Season\").count()['DayNum'].plot(kind='bar',figsize=(12,6),title=\"Number of matches in each season\")\n",
    "plt.show()"
   ]
  },
  {
   "cell_type": "code",
   "execution_count": 14,
   "id": "b4b4f34b",
   "metadata": {
    "execution": {
     "iopub.execute_input": "2022-03-02T13:48:56.972413Z",
     "iopub.status.busy": "2022-03-02T13:48:56.971923Z",
     "iopub.status.idle": "2022-03-02T13:48:57.519326Z",
     "shell.execute_reply": "2022-03-02T13:48:57.519769Z",
     "shell.execute_reply.started": "2022-03-02T13:41:21.039533Z"
    },
    "papermill": {
     "duration": 0.576261,
     "end_time": "2022-03-02T13:48:57.519937",
     "exception": false,
     "start_time": "2022-03-02T13:48:56.943676",
     "status": "completed"
    },
    "tags": []
   },
   "outputs": [
    {
     "data": {
      "image/png": "[encoded data removed]",
      "text/plain": [
       "<Figure size 1152x288 with 2 Axes>"
      ]
     },
     "metadata": {},
     "output_type": "display_data"
    }
   ],
   "source": [
    "plt.figure(figsize=(16,4))\n",
    "plt.subplot(121)\n",
    "ax = season_results['WLoc'].value_counts().plot(kind='bar',title=\"Winner location\")\n",
    "ax.set_xlabel(\"Home,Visit,neutral\")\n",
    "plt.subplot(122)\n",
    "ax = season_results[\"NumOT\"].value_counts().plot(kind='bar',title=\"number of overtime periods in the game\")\n",
    "plt.show()"
   ]
  },
  {
   "cell_type": "code",
   "execution_count": 15,
   "id": "fdc084af",
   "metadata": {
    "execution": {
     "iopub.execute_input": "2022-03-02T13:48:57.576690Z",
     "iopub.status.busy": "2022-03-02T13:48:57.576164Z",
     "iopub.status.idle": "2022-03-02T13:48:58.101246Z",
     "shell.execute_reply": "2022-03-02T13:48:58.100708Z",
     "shell.execute_reply.started": "2022-03-02T13:41:21.438913Z"
    },
    "papermill": {
     "duration": 0.554559,
     "end_time": "2022-03-02T13:48:58.101368",
     "exception": false,
     "start_time": "2022-03-02T13:48:57.546809",
     "status": "completed"
    },
    "tags": []
   },
   "outputs": [
    {
     "data": {
      "image/png": "[encoded data removed]",
      "text/plain": [
       "<Figure size 864x432 with 1 Axes>"
      ]
     },
     "metadata": {},
     "output_type": "display_data"
    }
   ],
   "source": [
    "df = season_results.copy()\n",
    "df[\"Winning_difference\"] = df[\"WScore\"] - df[\"LScore\"]\n",
    "df.groupby(\"Season\").mean()[\"Winning_difference\"].plot(kind='bar',figsize=(12,6),title='mean Winning score difference for each season')\n",
    "plt.show()"
   ]
  },
  {
   "cell_type": "code",
   "execution_count": 16,
   "id": "69c43901",
   "metadata": {
    "execution": {
     "iopub.execute_input": "2022-03-02T13:48:58.169480Z",
     "iopub.status.busy": "2022-03-02T13:48:58.168819Z",
     "iopub.status.idle": "2022-03-02T13:48:58.177162Z",
     "shell.execute_reply": "2022-03-02T13:48:58.177620Z",
     "shell.execute_reply.started": "2022-03-02T13:41:22.041011Z"
    },
    "papermill": {
     "duration": 0.047603,
     "end_time": "2022-03-02T13:48:58.177770",
     "exception": false,
     "start_time": "2022-03-02T13:48:58.130167",
     "status": "completed"
    },
    "tags": []
   },
   "outputs": [
    {
     "data": {
      "text/html": [
       "<div>\n",
       "<style scoped>\n",
       "    .dataframe tbody tr th:only-of-type {\n",
       "        vertical-align: middle;\n",
       "    }\n",
       "\n",
       "    .dataframe tbody tr th {\n",
       "        vertical-align: top;\n",
       "    }\n",
       "\n",
       "    .dataframe thead th {\n",
       "        text-align: right;\n",
       "    }\n",
       "</style>\n",
       "<table border=\"1\" class=\"dataframe\">\n",
       "  <thead>\n",
       "    <tr style=\"text-align: right;\">\n",
       "      <th></th>\n",
       "      <th>Season</th>\n",
       "      <th>DayNum</th>\n",
       "      <th>WTeamID</th>\n",
       "      <th>WScore</th>\n",
       "      <th>LTeamID</th>\n",
       "      <th>LScore</th>\n",
       "      <th>WLoc</th>\n",
       "      <th>NumOT</th>\n",
       "    </tr>\n",
       "  </thead>\n",
       "  <tbody>\n",
       "    <tr>\n",
       "      <th>0</th>\n",
       "      <td>1985</td>\n",
       "      <td>136</td>\n",
       "      <td>1116</td>\n",
       "      <td>63</td>\n",
       "      <td>1234</td>\n",
       "      <td>54</td>\n",
       "      <td>N</td>\n",
       "      <td>0</td>\n",
       "    </tr>\n",
       "    <tr>\n",
       "      <th>1</th>\n",
       "      <td>1985</td>\n",
       "      <td>136</td>\n",
       "      <td>1120</td>\n",
       "      <td>59</td>\n",
       "      <td>1345</td>\n",
       "      <td>58</td>\n",
       "      <td>N</td>\n",
       "      <td>0</td>\n",
       "    </tr>\n",
       "    <tr>\n",
       "      <th>2</th>\n",
       "      <td>1985</td>\n",
       "      <td>136</td>\n",
       "      <td>1207</td>\n",
       "      <td>68</td>\n",
       "      <td>1250</td>\n",
       "      <td>43</td>\n",
       "      <td>N</td>\n",
       "      <td>0</td>\n",
       "    </tr>\n",
       "    <tr>\n",
       "      <th>3</th>\n",
       "      <td>1985</td>\n",
       "      <td>136</td>\n",
       "      <td>1229</td>\n",
       "      <td>58</td>\n",
       "      <td>1425</td>\n",
       "      <td>55</td>\n",
       "      <td>N</td>\n",
       "      <td>0</td>\n",
       "    </tr>\n",
       "    <tr>\n",
       "      <th>4</th>\n",
       "      <td>1985</td>\n",
       "      <td>136</td>\n",
       "      <td>1242</td>\n",
       "      <td>49</td>\n",
       "      <td>1325</td>\n",
       "      <td>38</td>\n",
       "      <td>N</td>\n",
       "      <td>0</td>\n",
       "    </tr>\n",
       "  </tbody>\n",
       "</table>\n",
       "</div>"
      ],
      "text/plain": [
       "   Season  DayNum  WTeamID  WScore  LTeamID  LScore WLoc  NumOT\n",
       "0    1985     136     1116      63     1234      54    N      0\n",
       "1    1985     136     1120      59     1345      58    N      0\n",
       "2    1985     136     1207      68     1250      43    N      0\n",
       "3    1985     136     1229      58     1425      55    N      0\n",
       "4    1985     136     1242      49     1325      38    N      0"
      ]
     },
     "execution_count": 16,
     "metadata": {},
     "output_type": "execute_result"
    }
   ],
   "source": [
    "tour_results.head()"
   ]
  },
  {
   "cell_type": "code",
   "execution_count": 17,
   "id": "b3bdcc5a",
   "metadata": {
    "execution": {
     "iopub.execute_input": "2022-03-02T13:48:58.241687Z",
     "iopub.status.busy": "2022-03-02T13:48:58.240945Z",
     "iopub.status.idle": "2022-03-02T13:48:58.536094Z",
     "shell.execute_reply": "2022-03-02T13:48:58.536619Z",
     "shell.execute_reply.started": "2022-03-02T13:41:22.056692Z"
    },
    "papermill": {
     "duration": 0.33053,
     "end_time": "2022-03-02T13:48:58.536820",
     "exception": false,
     "start_time": "2022-03-02T13:48:58.206290",
     "status": "completed"
    },
    "tags": []
   },
   "outputs": [
    {
     "data": {
      "image/png": "[encoded data removed]",
      "text/plain": [
       "<Figure size 1152x288 with 2 Axes>"
      ]
     },
     "metadata": {},
     "output_type": "display_data"
    }
   ],
   "source": [
    "plt.figure(figsize=(16,4))\n",
    "plt.subplot(121)\n",
    "ax = tour_results['WLoc'].value_counts().plot(kind='bar',title=\"Winner location\")\n",
    "ax.set_xlabel(\"Home,Visit,neutral\")\n",
    "plt.subplot(122)\n",
    "ax = tour_results[\"NumOT\"].value_counts().plot(kind='bar',title=\"number of overtime periods in the game\")\n",
    "plt.show()"
   ]
  },
  {
   "cell_type": "code",
   "execution_count": 18,
   "id": "0856398b",
   "metadata": {
    "execution": {
     "iopub.execute_input": "2022-03-02T13:48:58.602649Z",
     "iopub.status.busy": "2022-03-02T13:48:58.601974Z",
     "iopub.status.idle": "2022-03-02T13:48:58.997176Z",
     "shell.execute_reply": "2022-03-02T13:48:58.997725Z",
     "shell.execute_reply.started": "2022-03-02T13:41:22.356078Z"
    },
    "papermill": {
     "duration": 0.428607,
     "end_time": "2022-03-02T13:48:58.997928",
     "exception": false,
     "start_time": "2022-03-02T13:48:58.569321",
     "status": "completed"
    },
    "tags": []
   },
   "outputs": [
    {
     "data": {
      "image/png": "[encoded data removed]",
      "text/plain": [
       "<Figure size 864x432 with 1 Axes>"
      ]
     },
     "metadata": {},
     "output_type": "display_data"
    }
   ],
   "source": [
    "tour_results.groupby(\"Season\").count()['DayNum'].plot(kind='bar',figsize=(12,6),title=\"Number of matches in each tour\")\n",
    "plt.show()"
   ]
  },
  {
   "cell_type": "code",
   "execution_count": 19,
   "id": "09cb1aaa",
   "metadata": {
    "execution": {
     "iopub.execute_input": "2022-03-02T13:48:59.088152Z",
     "iopub.status.busy": "2022-03-02T13:48:59.087289Z",
     "iopub.status.idle": "2022-03-02T13:48:59.454293Z",
     "shell.execute_reply": "2022-03-02T13:48:59.454846Z",
     "shell.execute_reply.started": "2022-03-02T13:41:22.868441Z"
    },
    "papermill": {
     "duration": 0.414964,
     "end_time": "2022-03-02T13:48:59.455008",
     "exception": false,
     "start_time": "2022-03-02T13:48:59.040044",
     "status": "completed"
    },
    "tags": []
   },
   "outputs": [
    {
     "data": {
      "image/png": "[encoded data removed]",
      "text/plain": [
       "<Figure size 864x432 with 1 Axes>"
      ]
     },
     "metadata": {},
     "output_type": "display_data"
    }
   ],
   "source": [
    "df = tour_results.copy()\n",
    "df[\"Winning_difference\"] = tour_results[\"WScore\"] - tour_results[\"LScore\"]\n",
    "df.groupby(\"Season\").mean()[\"Winning_difference\"].plot(kind='bar',figsize=(12,6),title='mean Winning score difference')\n",
    "plt.show()"
   ]
  },
  {
   "cell_type": "code",
   "execution_count": 20,
   "id": "3a2acc10",
   "metadata": {
    "execution": {
     "iopub.execute_input": "2022-03-02T13:48:59.543450Z",
     "iopub.status.busy": "2022-03-02T13:48:59.542808Z",
     "iopub.status.idle": "2022-03-02T13:48:59.551637Z",
     "shell.execute_reply": "2022-03-02T13:48:59.552278Z",
     "shell.execute_reply.started": "2022-03-02T13:41:23.383662Z"
    },
    "papermill": {
     "duration": 0.055873,
     "end_time": "2022-03-02T13:48:59.552445",
     "exception": false,
     "start_time": "2022-03-02T13:48:59.496572",
     "status": "completed"
    },
    "tags": []
   },
   "outputs": [
    {
     "data": {
      "text/plain": [
       "<bound method NDFrame._add_numeric_operations.<locals>.max of 1181    958\n",
       "1242    949\n",
       "1246    898\n",
       "1314    887\n",
       "1112    878\n",
       "       ... \n",
       "1471     12\n",
       "1289      6\n",
       "1118      6\n",
       "1472      5\n",
       "1327      3\n",
       "Name: WTeamID, Length: 372, dtype: int64>"
      ]
     },
     "execution_count": 20,
     "metadata": {},
     "output_type": "execute_result"
    }
   ],
   "source": [
    "season_results[\"WTeamID\"].value_counts().max"
   ]
  }
 ],
 "metadata": {
  "kernelspec": {
   "display_name": "Python 3",
   "language": "python",
   "name": "python3"
  },
  "language_info": {
   "codemirror_mode": {
    "name": "ipython",
    "version": 3
   },
   "file_extension": ".py",
   "mimetype": "text/x-python",
   "name": "python",
   "nbconvert_exporter": "python",
   "pygments_lexer": "ipython3",
   "version": "3.7.12"
  },
  "papermill": {
   "default_parameters": {},
   "duration": 18.425829,
   "end_time": "2022-03-02T13:49:00.406108",
   "environment_variables": {},
   "exception": null,
   "input_path": "__notebook__.ipynb",
   "output_path": "__notebook__.ipynb",
   "parameters": {},
   "start_time": "2022-03-02T13:48:41.980279",
   "version": "2.3.3"
  }
 },
 "nbformat": 4,
 "nbformat_minor": 5
}
