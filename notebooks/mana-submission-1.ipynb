{
 "cells": [
  {
   "cell_type": "code",
   "execution_count": 1,
   "id": "a54277f0",
   "metadata": {
    "execution": {
     "iopub.execute_input": "2022-03-16T19:50:02.953875Z",
     "iopub.status.busy": "2022-03-16T19:50:02.952521Z",
     "iopub.status.idle": "2022-03-16T19:50:04.351825Z",
     "shell.execute_reply": "2022-03-16T19:50:04.350946Z",
     "shell.execute_reply.started": "2022-03-16T19:40:20.899768Z"
    },
    "papermill": {
     "duration": 1.440564,
     "end_time": "2022-03-16T19:50:04.352011",
     "exception": false,
     "start_time": "2022-03-16T19:50:02.911447",
     "status": "completed"
    },
    "tags": []
   },
   "outputs": [],
   "source": [
    "import pandas as pd\n",
    "import numpy as np\n",
    "from sklearn.model_selection import cross_val_score\n",
    "from sklearn.preprocessing import StandardScaler\n",
    "from xgboost import XGBClassifier"
   ]
  },
  {
   "cell_type": "code",
   "execution_count": 2,
   "id": "33752965",
   "metadata": {
    "execution": {
     "iopub.execute_input": "2022-03-16T19:50:04.436851Z",
     "iopub.status.busy": "2022-03-16T19:50:04.436069Z",
     "iopub.status.idle": "2022-03-16T19:50:04.739081Z",
     "shell.execute_reply": "2022-03-16T19:50:04.739701Z",
     "shell.execute_reply.started": "2022-03-16T19:40:20.955022Z"
    },
    "papermill": {
     "duration": 0.349722,
     "end_time": "2022-03-16T19:50:04.739892",
     "exception": false,
     "start_time": "2022-03-16T19:50:04.390170",
     "status": "completed"
    },
    "tags": []
   },
   "outputs": [],
   "source": [
    "team = pd.read_csv(\"/kaggle/input/mens-march-mania-2022/MDataFiles_Stage1/MTeams.csv\")\n",
    "seasons = pd.read_csv(\"/kaggle/input/mens-march-mania-2022/MDataFiles_Stage1/MSeasons.csv\")\n",
    "seeds = pd.read_csv(\"/kaggle/input/mens-march-mania-2022/MDataFiles_Stage1/MNCAATourneySeeds.csv\")\n",
    "season_results = pd.read_csv(\"/kaggle/input/mens-march-mania-2022/MDataFiles_Stage1/MRegularSeasonCompactResults.csv\")\n",
    "tour_results = pd.read_csv(\"/kaggle/input/mens-march-mania-2022/MDataFiles_Stage1/MNCAATourneyCompactResults.csv\")"
   ]
  },
  {
   "cell_type": "code",
   "execution_count": 3,
   "id": "cbba1052",
   "metadata": {
    "execution": {
     "iopub.execute_input": "2022-03-16T19:50:04.817438Z",
     "iopub.status.busy": "2022-03-16T19:50:04.816754Z",
     "iopub.status.idle": "2022-03-16T19:50:04.849590Z",
     "shell.execute_reply": "2022-03-16T19:50:04.848987Z",
     "shell.execute_reply.started": "2022-03-16T19:40:21.136333Z"
    },
    "papermill": {
     "duration": 0.074024,
     "end_time": "2022-03-16T19:50:04.849779",
     "exception": false,
     "start_time": "2022-03-16T19:50:04.775755",
     "status": "completed"
    },
    "tags": []
   },
   "outputs": [
    {
     "name": "stdout",
     "output_type": "stream",
     "text": [
      "139920\n"
     ]
    }
   ],
   "source": [
    "# Makng train test split\n",
    "season_train = season_results.query(\"Season < 2016\")\n",
    "season_test = season_results.query(\"Season >= 2016\")\n",
    "print(len(season_train))"
   ]
  },
  {
   "cell_type": "code",
   "execution_count": 4,
   "id": "3cc2ddcc",
   "metadata": {
    "execution": {
     "iopub.execute_input": "2022-03-16T19:50:04.932733Z",
     "iopub.status.busy": "2022-03-16T19:50:04.931714Z",
     "iopub.status.idle": "2022-03-16T19:50:04.989805Z",
     "shell.execute_reply": "2022-03-16T19:50:04.989211Z",
     "shell.execute_reply.started": "2022-03-16T19:40:21.168711Z"
    },
    "papermill": {
     "duration": 0.099473,
     "end_time": "2022-03-16T19:50:04.989967",
     "exception": false,
     "start_time": "2022-03-16T19:50:04.890494",
     "status": "completed"
    },
    "tags": []
   },
   "outputs": [],
   "source": [
    "def generate_team_scores(frame):\n",
    "    df = team.copy()\n",
    "    df = df.set_index(\"TeamID\")\n",
    "    df[\"MeanWinScore\"] = frame.groupby(\"WTeamID\").mean()[\"WScore\"].astype(int)\n",
    "    df[\"MeanLossScore\"] = frame.groupby(\"LTeamID\").mean()[\"LScore\"].astype(int)\n",
    "    df[\"WinLossDiff\"] = df[\"MeanWinScore\"] - df[\"MeanLossScore\"]\n",
    "\n",
    "\n",
    "    df[\"Wins\"] = frame[\"WTeamID\"].value_counts() # add feature of the number of total wins\n",
    "    return df\n",
    "train_team_scores = generate_team_scores(season_train)"
   ]
  },
  {
   "cell_type": "code",
   "execution_count": 5,
   "id": "d02e0ff5",
   "metadata": {
    "execution": {
     "iopub.execute_input": "2022-03-16T19:50:05.083178Z",
     "iopub.status.busy": "2022-03-16T19:50:05.082495Z",
     "iopub.status.idle": "2022-03-16T19:50:05.127206Z",
     "shell.execute_reply": "2022-03-16T19:50:05.126617Z",
     "shell.execute_reply.started": "2022-03-16T19:40:21.220151Z"
    },
    "papermill": {
     "duration": 0.100229,
     "end_time": "2022-03-16T19:50:05.127365",
     "exception": false,
     "start_time": "2022-03-16T19:50:05.027136",
     "status": "completed"
    },
    "tags": []
   },
   "outputs": [],
   "source": [
    "# For test score the values should be the entire history \n",
    "test_team_scores = team.copy()\n",
    "test_team_scores = test_team_scores.set_index(\"TeamID\")\n",
    "test_team_scores[\"MeanWinScore\"] = season_results.groupby(\"WTeamID\").mean()[\"WScore\"].astype(int)\n",
    "test_team_scores[\"MeanLossScore\"] = season_results.groupby(\"LTeamID\").mean()[\"LScore\"].astype(int)\n",
    "test_team_scores[\"WinLossDiff\"] = test_team_scores[\"MeanWinScore\"] - test_team_scores[\"MeanLossScore\"]\n",
    "\n",
    "\n",
    "test_team_scores[\"Wins\"] = season_results[\"WTeamID\"].value_counts() # add feature of the number of total wins\n",
    "test_team_scores = test_team_scores.query(\"LastD1Season >= 2016\")"
   ]
  },
  {
   "cell_type": "code",
   "execution_count": 6,
   "id": "066ba78f",
   "metadata": {
    "execution": {
     "iopub.execute_input": "2022-03-16T19:50:05.207899Z",
     "iopub.status.busy": "2022-03-16T19:50:05.207128Z",
     "iopub.status.idle": "2022-03-16T19:50:05.210762Z",
     "shell.execute_reply": "2022-03-16T19:50:05.211721Z",
     "shell.execute_reply.started": "2022-03-16T19:40:21.270440Z"
    },
    "papermill": {
     "duration": 0.047031,
     "end_time": "2022-03-16T19:50:05.211927",
     "exception": false,
     "start_time": "2022-03-16T19:50:05.164896",
     "status": "completed"
    },
    "tags": []
   },
   "outputs": [],
   "source": [
    "## Making training data set"
   ]
  },
  {
   "cell_type": "code",
   "execution_count": 7,
   "id": "9ac7e5c0",
   "metadata": {
    "execution": {
     "iopub.execute_input": "2022-03-16T19:50:05.294401Z",
     "iopub.status.busy": "2022-03-16T19:50:05.293725Z",
     "iopub.status.idle": "2022-03-16T19:50:05.295716Z",
     "shell.execute_reply": "2022-03-16T19:50:05.296223Z",
     "shell.execute_reply.started": "2022-03-16T19:43:47.646071Z"
    },
    "papermill": {
     "duration": 0.04814,
     "end_time": "2022-03-16T19:50:05.296405",
     "exception": false,
     "start_time": "2022-03-16T19:50:05.248265",
     "status": "completed"
    },
    "tags": []
   },
   "outputs": [],
   "source": [
    "def Add_features(season_res):\n",
    "    df = pd.DataFrame()\n",
    "    df[\"Season\"] = season_res[\"Season\"]\n",
    "    df[\"TeamA\"] = season_res[[\"WTeamID\",\"LTeamID\"]].apply(min,axis=1)\n",
    "    df[\"TeamB\"] = season_res[[\"WTeamID\",\"LTeamID\"]].apply(max,axis=1)\n",
    "    df[\"ID\"] = df.apply(lambda f: str(f[\"Season\"])+\"_\"+ str(f[\"TeamA\"]) + \"_\"+ str(f[\"TeamB\"]),axis=1)\n",
    "    df[\"Win\"] = np.ones(len(df),dtype=int)\n",
    "    df.loc[season_res[\"LTeamID\"] > season_res[\"WTeamID\"],\"Win\"] = 0\n",
    "    return df"
   ]
  },
  {
   "cell_type": "code",
   "execution_count": 8,
   "id": "9e92da39",
   "metadata": {
    "execution": {
     "iopub.execute_input": "2022-03-16T19:50:05.383168Z",
     "iopub.status.busy": "2022-03-16T19:50:05.375758Z",
     "iopub.status.idle": "2022-03-16T19:50:12.594757Z",
     "shell.execute_reply": "2022-03-16T19:50:12.594060Z",
     "shell.execute_reply.started": "2022-03-16T19:40:21.291241Z"
    },
    "papermill": {
     "duration": 7.259389,
     "end_time": "2022-03-16T19:50:12.594908",
     "exception": false,
     "start_time": "2022-03-16T19:50:05.335519",
     "status": "completed"
    },
    "tags": []
   },
   "outputs": [
    {
     "data": {
      "text/html": [
       "<div>\n",
       "<style scoped>\n",
       "    .dataframe tbody tr th:only-of-type {\n",
       "        vertical-align: middle;\n",
       "    }\n",
       "\n",
       "    .dataframe tbody tr th {\n",
       "        vertical-align: top;\n",
       "    }\n",
       "\n",
       "    .dataframe thead th {\n",
       "        text-align: right;\n",
       "    }\n",
       "</style>\n",
       "<table border=\"1\" class=\"dataframe\">\n",
       "  <thead>\n",
       "    <tr style=\"text-align: right;\">\n",
       "      <th></th>\n",
       "      <th>Season</th>\n",
       "      <th>TeamA</th>\n",
       "      <th>TeamB</th>\n",
       "      <th>ID</th>\n",
       "      <th>Win</th>\n",
       "    </tr>\n",
       "  </thead>\n",
       "  <tbody>\n",
       "    <tr>\n",
       "      <th>0</th>\n",
       "      <td>1985</td>\n",
       "      <td>1228</td>\n",
       "      <td>1328</td>\n",
       "      <td>1985_1228_1328</td>\n",
       "      <td>0</td>\n",
       "    </tr>\n",
       "    <tr>\n",
       "      <th>1</th>\n",
       "      <td>1985</td>\n",
       "      <td>1106</td>\n",
       "      <td>1354</td>\n",
       "      <td>1985_1106_1354</td>\n",
       "      <td>0</td>\n",
       "    </tr>\n",
       "    <tr>\n",
       "      <th>2</th>\n",
       "      <td>1985</td>\n",
       "      <td>1112</td>\n",
       "      <td>1223</td>\n",
       "      <td>1985_1112_1223</td>\n",
       "      <td>0</td>\n",
       "    </tr>\n",
       "    <tr>\n",
       "      <th>3</th>\n",
       "      <td>1985</td>\n",
       "      <td>1165</td>\n",
       "      <td>1432</td>\n",
       "      <td>1985_1165_1432</td>\n",
       "      <td>0</td>\n",
       "    </tr>\n",
       "    <tr>\n",
       "      <th>4</th>\n",
       "      <td>1985</td>\n",
       "      <td>1192</td>\n",
       "      <td>1447</td>\n",
       "      <td>1985_1192_1447</td>\n",
       "      <td>0</td>\n",
       "    </tr>\n",
       "  </tbody>\n",
       "</table>\n",
       "</div>"
      ],
      "text/plain": [
       "   Season  TeamA  TeamB              ID  Win\n",
       "0    1985   1228   1328  1985_1228_1328    0\n",
       "1    1985   1106   1354  1985_1106_1354    0\n",
       "2    1985   1112   1223  1985_1112_1223    0\n",
       "3    1985   1165   1432  1985_1165_1432    0\n",
       "4    1985   1192   1447  1985_1192_1447    0"
      ]
     },
     "execution_count": 8,
     "metadata": {},
     "output_type": "execute_result"
    }
   ],
   "source": [
    "train = Add_features(season_train)\n",
    "train.head()"
   ]
  },
  {
   "cell_type": "code",
   "execution_count": 9,
   "id": "8f6f96d9",
   "metadata": {
    "execution": {
     "iopub.execute_input": "2022-03-16T19:50:12.681098Z",
     "iopub.status.busy": "2022-03-16T19:50:12.680388Z",
     "iopub.status.idle": "2022-03-16T19:50:12.741659Z",
     "shell.execute_reply": "2022-03-16T19:50:12.740923Z",
     "shell.execute_reply.started": "2022-03-16T19:40:28.156402Z"
    },
    "papermill": {
     "duration": 0.108686,
     "end_time": "2022-03-16T19:50:12.742079",
     "exception": false,
     "start_time": "2022-03-16T19:50:12.633393",
     "status": "completed"
    },
    "tags": []
   },
   "outputs": [],
   "source": [
    "train[\"TeamAWins\"] = train_team_scores.loc[train[\"TeamA\"].values][\"Wins\"].values\n",
    "train[\"TeamBWins\"] = train_team_scores.loc[train[\"TeamB\"].values][\"Wins\"].values\n",
    "\n",
    "train[\"TeamAMeanLossScore\"] = train_team_scores.loc[train[\"TeamA\"].values][\"MeanLossScore\"].values\n",
    "train[\"TeamBMeanLossScore\"] = train_team_scores.loc[train[\"TeamB\"].values][\"MeanLossScore\"].values\n",
    "\n",
    "\n",
    "train[\"TeamAMeanWinScore\"] = train_team_scores.loc[train[\"TeamA\"].values][\"MeanWinScore\"].values\n",
    "train[\"TeamBMeanWinScore\"] = train_team_scores.loc[train[\"TeamB\"].values][\"MeanWinScore\"].values\n",
    "\n",
    "train[\"TeamAWinLossDiff\"] = train_team_scores.loc[train[\"TeamA\"].values][\"WinLossDiff\"].values\n",
    "train[\"TeamBWinLossDiff\"] = train_team_scores.loc[train[\"TeamB\"].values][\"WinLossDiff\"].values"
   ]
  },
  {
   "cell_type": "code",
   "execution_count": 10,
   "id": "774e178b",
   "metadata": {
    "execution": {
     "iopub.execute_input": "2022-03-16T19:50:12.831615Z",
     "iopub.status.busy": "2022-03-16T19:50:12.828869Z",
     "iopub.status.idle": "2022-03-16T19:50:12.835312Z",
     "shell.execute_reply": "2022-03-16T19:50:12.834514Z",
     "shell.execute_reply.started": "2022-03-16T19:40:28.244921Z"
    },
    "papermill": {
     "duration": 0.050655,
     "end_time": "2022-03-16T19:50:12.835464",
     "exception": false,
     "start_time": "2022-03-16T19:50:12.784809",
     "status": "completed"
    },
    "tags": []
   },
   "outputs": [],
   "source": [
    "colums = [\"Season\",\"TeamA\",\"TeamB\",\"TeamAWins\",\"TeamBWins\",\n",
    "                \"TeamAMeanLossScore\",\"TeamBMeanLossScore\",\n",
    "                \"TeamAMeanWinScore\",\"TeamBMeanWinScore\",\n",
    "                \"TeamAWinLossDiff\",\"TeamBWinLossDiff\"]"
   ]
  },
  {
   "cell_type": "code",
   "execution_count": 11,
   "id": "919e1d80",
   "metadata": {
    "execution": {
     "iopub.execute_input": "2022-03-16T19:50:12.923024Z",
     "iopub.status.busy": "2022-03-16T19:50:12.922312Z",
     "iopub.status.idle": "2022-03-16T19:50:12.941635Z",
     "shell.execute_reply": "2022-03-16T19:50:12.941030Z",
     "shell.execute_reply.started": "2022-03-16T19:40:28.254627Z"
    },
    "papermill": {
     "duration": 0.065865,
     "end_time": "2022-03-16T19:50:12.941791",
     "exception": false,
     "start_time": "2022-03-16T19:50:12.875926",
     "status": "completed"
    },
    "tags": []
   },
   "outputs": [],
   "source": [
    "x_train = train[colums]\n",
    "y_train = train[[\"Win\"]]"
   ]
  },
  {
   "cell_type": "code",
   "execution_count": 12,
   "id": "4a2faa0a",
   "metadata": {
    "execution": {
     "iopub.execute_input": "2022-03-16T19:50:13.050768Z",
     "iopub.status.busy": "2022-03-16T19:50:13.049251Z",
     "iopub.status.idle": "2022-03-16T19:50:13.054032Z",
     "shell.execute_reply": "2022-03-16T19:50:13.054946Z",
     "shell.execute_reply.started": "2022-03-16T19:40:28.291733Z"
    },
    "papermill": {
     "duration": 0.073565,
     "end_time": "2022-03-16T19:50:13.055222",
     "exception": false,
     "start_time": "2022-03-16T19:50:12.981657",
     "status": "completed"
    },
    "tags": []
   },
   "outputs": [
    {
     "data": {
      "text/html": [
       "<div>\n",
       "<style scoped>\n",
       "    .dataframe tbody tr th:only-of-type {\n",
       "        vertical-align: middle;\n",
       "    }\n",
       "\n",
       "    .dataframe tbody tr th {\n",
       "        vertical-align: top;\n",
       "    }\n",
       "\n",
       "    .dataframe thead th {\n",
       "        text-align: right;\n",
       "    }\n",
       "</style>\n",
       "<table border=\"1\" class=\"dataframe\">\n",
       "  <thead>\n",
       "    <tr style=\"text-align: right;\">\n",
       "      <th></th>\n",
       "      <th>Season</th>\n",
       "      <th>TeamA</th>\n",
       "      <th>TeamB</th>\n",
       "      <th>TeamAWins</th>\n",
       "      <th>TeamBWins</th>\n",
       "      <th>TeamAMeanLossScore</th>\n",
       "      <th>TeamBMeanLossScore</th>\n",
       "      <th>TeamAMeanWinScore</th>\n",
       "      <th>TeamBMeanWinScore</th>\n",
       "      <th>TeamAWinLossDiff</th>\n",
       "      <th>TeamBWinLossDiff</th>\n",
       "    </tr>\n",
       "  </thead>\n",
       "  <tbody>\n",
       "    <tr>\n",
       "      <th>0</th>\n",
       "      <td>1985</td>\n",
       "      <td>1228</td>\n",
       "      <td>1328</td>\n",
       "      <td>645.0</td>\n",
       "      <td>648.0</td>\n",
       "      <td>63.0</td>\n",
       "      <td>68.0</td>\n",
       "      <td>77.0</td>\n",
       "      <td>84.0</td>\n",
       "      <td>14.0</td>\n",
       "      <td>16.0</td>\n",
       "    </tr>\n",
       "    <tr>\n",
       "      <th>1</th>\n",
       "      <td>1985</td>\n",
       "      <td>1106</td>\n",
       "      <td>1354</td>\n",
       "      <td>382.0</td>\n",
       "      <td>420.0</td>\n",
       "      <td>66.0</td>\n",
       "      <td>62.0</td>\n",
       "      <td>76.0</td>\n",
       "      <td>74.0</td>\n",
       "      <td>10.0</td>\n",
       "      <td>12.0</td>\n",
       "    </tr>\n",
       "    <tr>\n",
       "      <th>2</th>\n",
       "      <td>1985</td>\n",
       "      <td>1112</td>\n",
       "      <td>1223</td>\n",
       "      <td>721.0</td>\n",
       "      <td>107.0</td>\n",
       "      <td>69.0</td>\n",
       "      <td>64.0</td>\n",
       "      <td>82.0</td>\n",
       "      <td>75.0</td>\n",
       "      <td>13.0</td>\n",
       "      <td>11.0</td>\n",
       "    </tr>\n",
       "    <tr>\n",
       "      <th>3</th>\n",
       "      <td>1985</td>\n",
       "      <td>1165</td>\n",
       "      <td>1432</td>\n",
       "      <td>348.0</td>\n",
       "      <td>28.0</td>\n",
       "      <td>60.0</td>\n",
       "      <td>61.0</td>\n",
       "      <td>73.0</td>\n",
       "      <td>71.0</td>\n",
       "      <td>13.0</td>\n",
       "      <td>10.0</td>\n",
       "    </tr>\n",
       "    <tr>\n",
       "      <th>4</th>\n",
       "      <td>1985</td>\n",
       "      <td>1192</td>\n",
       "      <td>1447</td>\n",
       "      <td>408.0</td>\n",
       "      <td>404.0</td>\n",
       "      <td>64.0</td>\n",
       "      <td>66.0</td>\n",
       "      <td>76.0</td>\n",
       "      <td>77.0</td>\n",
       "      <td>12.0</td>\n",
       "      <td>11.0</td>\n",
       "    </tr>\n",
       "    <tr>\n",
       "      <th>...</th>\n",
       "      <td>...</td>\n",
       "      <td>...</td>\n",
       "      <td>...</td>\n",
       "      <td>...</td>\n",
       "      <td>...</td>\n",
       "      <td>...</td>\n",
       "      <td>...</td>\n",
       "      <td>...</td>\n",
       "      <td>...</td>\n",
       "      <td>...</td>\n",
       "      <td>...</td>\n",
       "    </tr>\n",
       "    <tr>\n",
       "      <th>139915</th>\n",
       "      <td>2015</td>\n",
       "      <td>1204</td>\n",
       "      <td>1209</td>\n",
       "      <td>405.0</td>\n",
       "      <td>387.0</td>\n",
       "      <td>64.0</td>\n",
       "      <td>67.0</td>\n",
       "      <td>76.0</td>\n",
       "      <td>76.0</td>\n",
       "      <td>12.0</td>\n",
       "      <td>9.0</td>\n",
       "    </tr>\n",
       "    <tr>\n",
       "      <th>139916</th>\n",
       "      <td>2015</td>\n",
       "      <td>1116</td>\n",
       "      <td>1246</td>\n",
       "      <td>609.0</td>\n",
       "      <td>739.0</td>\n",
       "      <td>67.0</td>\n",
       "      <td>68.0</td>\n",
       "      <td>84.0</td>\n",
       "      <td>80.0</td>\n",
       "      <td>17.0</td>\n",
       "      <td>12.0</td>\n",
       "    </tr>\n",
       "    <tr>\n",
       "      <th>139917</th>\n",
       "      <td>2015</td>\n",
       "      <td>1163</td>\n",
       "      <td>1374</td>\n",
       "      <td>655.0</td>\n",
       "      <td>441.0</td>\n",
       "      <td>64.0</td>\n",
       "      <td>63.0</td>\n",
       "      <td>79.0</td>\n",
       "      <td>74.0</td>\n",
       "      <td>15.0</td>\n",
       "      <td>11.0</td>\n",
       "    </tr>\n",
       "    <tr>\n",
       "      <th>139918</th>\n",
       "      <td>2015</td>\n",
       "      <td>1173</td>\n",
       "      <td>1433</td>\n",
       "      <td>528.0</td>\n",
       "      <td>588.0</td>\n",
       "      <td>65.0</td>\n",
       "      <td>66.0</td>\n",
       "      <td>75.0</td>\n",
       "      <td>75.0</td>\n",
       "      <td>10.0</td>\n",
       "      <td>9.0</td>\n",
       "    </tr>\n",
       "    <tr>\n",
       "      <th>139919</th>\n",
       "      <td>2015</td>\n",
       "      <td>1277</td>\n",
       "      <td>1458</td>\n",
       "      <td>638.0</td>\n",
       "      <td>575.0</td>\n",
       "      <td>64.0</td>\n",
       "      <td>61.0</td>\n",
       "      <td>76.0</td>\n",
       "      <td>71.0</td>\n",
       "      <td>12.0</td>\n",
       "      <td>10.0</td>\n",
       "    </tr>\n",
       "  </tbody>\n",
       "</table>\n",
       "<p>139920 rows × 11 columns</p>\n",
       "</div>"
      ],
      "text/plain": [
       "        Season  TeamA  TeamB  TeamAWins  TeamBWins  TeamAMeanLossScore  \\\n",
       "0         1985   1228   1328      645.0      648.0                63.0   \n",
       "1         1985   1106   1354      382.0      420.0                66.0   \n",
       "2         1985   1112   1223      721.0      107.0                69.0   \n",
       "3         1985   1165   1432      348.0       28.0                60.0   \n",
       "4         1985   1192   1447      408.0      404.0                64.0   \n",
       "...        ...    ...    ...        ...        ...                 ...   \n",
       "139915    2015   1204   1209      405.0      387.0                64.0   \n",
       "139916    2015   1116   1246      609.0      739.0                67.0   \n",
       "139917    2015   1163   1374      655.0      441.0                64.0   \n",
       "139918    2015   1173   1433      528.0      588.0                65.0   \n",
       "139919    2015   1277   1458      638.0      575.0                64.0   \n",
       "\n",
       "        TeamBMeanLossScore  TeamAMeanWinScore  TeamBMeanWinScore  \\\n",
       "0                     68.0               77.0               84.0   \n",
       "1                     62.0               76.0               74.0   \n",
       "2                     64.0               82.0               75.0   \n",
       "3                     61.0               73.0               71.0   \n",
       "4                     66.0               76.0               77.0   \n",
       "...                    ...                ...                ...   \n",
       "139915                67.0               76.0               76.0   \n",
       "139916                68.0               84.0               80.0   \n",
       "139917                63.0               79.0               74.0   \n",
       "139918                66.0               75.0               75.0   \n",
       "139919                61.0               76.0               71.0   \n",
       "\n",
       "        TeamAWinLossDiff  TeamBWinLossDiff  \n",
       "0                   14.0              16.0  \n",
       "1                   10.0              12.0  \n",
       "2                   13.0              11.0  \n",
       "3                   13.0              10.0  \n",
       "4                   12.0              11.0  \n",
       "...                  ...               ...  \n",
       "139915              12.0               9.0  \n",
       "139916              17.0              12.0  \n",
       "139917              15.0              11.0  \n",
       "139918              10.0               9.0  \n",
       "139919              12.0              10.0  \n",
       "\n",
       "[139920 rows x 11 columns]"
      ]
     },
     "execution_count": 12,
     "metadata": {},
     "output_type": "execute_result"
    }
   ],
   "source": [
    "x_train"
   ]
  },
  {
   "cell_type": "code",
   "execution_count": 13,
   "id": "323ff820",
   "metadata": {
    "execution": {
     "iopub.execute_input": "2022-03-16T19:50:13.155898Z",
     "iopub.status.busy": "2022-03-16T19:50:13.154530Z",
     "iopub.status.idle": "2022-03-16T19:50:13.187268Z",
     "shell.execute_reply": "2022-03-16T19:50:13.187826Z",
     "shell.execute_reply.started": "2022-03-16T19:40:28.324015Z"
    },
    "papermill": {
     "duration": 0.088642,
     "end_time": "2022-03-16T19:50:13.188007",
     "exception": false,
     "start_time": "2022-03-16T19:50:13.099365",
     "status": "completed"
    },
    "tags": []
   },
   "outputs": [],
   "source": [
    "scaler = StandardScaler()\n",
    "scale_columns = [\"TeamAWins\",\"TeamBWins\",\n",
    "               \"TeamAMeanLossScore\",\"TeamBMeanLossScore\",\n",
    "                \"TeamAMeanWinScore\",\"TeamBMeanWinScore\",\n",
    "               \"TeamAWinLossDiff\",\"TeamBWinLossDiff\"]\n",
    "scaler.fit(x_train[scale_columns])\n",
    "val = scaler.transform(x_train[scale_columns])"
   ]
  },
  {
   "cell_type": "code",
   "execution_count": 14,
   "id": "a469d4b3",
   "metadata": {
    "execution": {
     "iopub.execute_input": "2022-03-16T19:50:13.275901Z",
     "iopub.status.busy": "2022-03-16T19:50:13.274476Z",
     "iopub.status.idle": "2022-03-16T19:50:13.288180Z",
     "shell.execute_reply": "2022-03-16T19:50:13.287616Z",
     "shell.execute_reply.started": "2022-03-16T19:40:28.362900Z"
    },
    "papermill": {
     "duration": 0.060877,
     "end_time": "2022-03-16T19:50:13.288335",
     "exception": false,
     "start_time": "2022-03-16T19:50:13.227458",
     "status": "completed"
    },
    "tags": []
   },
   "outputs": [],
   "source": [
    "x_train_scaled = x_train.copy()\n",
    "x_train_scaled[scale_columns] = val"
   ]
  },
  {
   "cell_type": "code",
   "execution_count": 15,
   "id": "32d1d6b2",
   "metadata": {
    "execution": {
     "iopub.execute_input": "2022-03-16T19:50:13.371039Z",
     "iopub.status.busy": "2022-03-16T19:50:13.370090Z",
     "iopub.status.idle": "2022-03-16T19:50:13.372948Z",
     "shell.execute_reply": "2022-03-16T19:50:13.373407Z",
     "shell.execute_reply.started": "2022-03-16T19:40:28.376619Z"
    },
    "papermill": {
     "duration": 0.046573,
     "end_time": "2022-03-16T19:50:13.373605",
     "exception": false,
     "start_time": "2022-03-16T19:50:13.327032",
     "status": "completed"
    },
    "tags": []
   },
   "outputs": [],
   "source": [
    "from sklearn.model_selection import GridSearchCV\n",
    "#param = {\"n_estimators\":[100,300,500],\n",
    "#         \"subsample\":[0.1,0.5,1,1.5,2],\n",
    "#        \"learning_rate\":[0.01,0.05,0.1]}\n",
    "#model = XGBClassifier(use_label_encoder=False,eval_metric=\"logloss\")\n",
    "#clf = GridSearchCV(model,param)\n",
    "#clf.fit(x_train,y_train)\n",
    "#sorted(clf.cv_results_.keys())"
   ]
  },
  {
   "cell_type": "code",
   "execution_count": 16,
   "id": "38c65fb8",
   "metadata": {
    "execution": {
     "iopub.execute_input": "2022-03-16T19:50:13.459643Z",
     "iopub.status.busy": "2022-03-16T19:50:13.458921Z",
     "iopub.status.idle": "2022-03-16T19:50:13.461729Z",
     "shell.execute_reply": "2022-03-16T19:50:13.461142Z",
     "shell.execute_reply.started": "2022-03-16T19:40:28.384904Z"
    },
    "papermill": {
     "duration": 0.045128,
     "end_time": "2022-03-16T19:50:13.461891",
     "exception": false,
     "start_time": "2022-03-16T19:50:13.416763",
     "status": "completed"
    },
    "tags": []
   },
   "outputs": [],
   "source": [
    "model = XGBClassifier(use_label_encoder=False,eval_metric=\"logloss\",n_estimators = 350, subsample=0.99, learning_rate=0.01, \n",
    "                    colsample_bytree=1, max_depth = None, random_state=27)"
   ]
  },
  {
   "cell_type": "code",
   "execution_count": 17,
   "id": "b6c77d71",
   "metadata": {
    "execution": {
     "iopub.execute_input": "2022-03-16T19:50:13.549089Z",
     "iopub.status.busy": "2022-03-16T19:50:13.548372Z",
     "iopub.status.idle": "2022-03-16T19:54:13.191938Z",
     "shell.execute_reply": "2022-03-16T19:54:13.192450Z",
     "shell.execute_reply.started": "2022-03-16T19:40:28.400090Z"
    },
    "papermill": {
     "duration": 239.690284,
     "end_time": "2022-03-16T19:54:13.192678",
     "exception": false,
     "start_time": "2022-03-16T19:50:13.502394",
     "status": "completed"
    },
    "tags": []
   },
   "outputs": [
    {
     "name": "stdout",
     "output_type": "stream",
     "text": [
      "0.6414451114922815\n"
     ]
    }
   ],
   "source": [
    "# The score of the unscaled data\n",
    "score = cross_val_score(model,x_train,y_train,cv=10)\n",
    "print(score.mean())"
   ]
  },
  {
   "cell_type": "code",
   "execution_count": 18,
   "id": "78cfbee7",
   "metadata": {
    "execution": {
     "iopub.execute_input": "2022-03-16T19:54:13.277185Z",
     "iopub.status.busy": "2022-03-16T19:54:13.276433Z",
     "iopub.status.idle": "2022-03-16T19:58:03.675155Z",
     "shell.execute_reply": "2022-03-16T19:58:03.675718Z",
     "shell.execute_reply.started": "2022-03-16T19:41:33.187558Z"
    },
    "papermill": {
     "duration": 230.443304,
     "end_time": "2022-03-16T19:58:03.675910",
     "exception": false,
     "start_time": "2022-03-16T19:54:13.232606",
     "status": "completed"
    },
    "tags": []
   },
   "outputs": [
    {
     "name": "stdout",
     "output_type": "stream",
     "text": [
      "0.6414451114922815\n"
     ]
    }
   ],
   "source": [
    "# Score of scaled data\n",
    "score = cross_val_score(model,x_train_scaled,y_train,cv=10)\n",
    "print(score.mean())"
   ]
  },
  {
   "cell_type": "code",
   "execution_count": 19,
   "id": "0d38a78e",
   "metadata": {
    "execution": {
     "iopub.execute_input": "2022-03-16T19:58:03.771967Z",
     "iopub.status.busy": "2022-03-16T19:58:03.770867Z",
     "iopub.status.idle": "2022-03-16T19:58:05.551587Z",
     "shell.execute_reply": "2022-03-16T19:58:05.551029Z",
     "shell.execute_reply.started": "2022-03-16T19:43:52.861238Z"
    },
    "papermill": {
     "duration": 1.834692,
     "end_time": "2022-03-16T19:58:05.551747",
     "exception": false,
     "start_time": "2022-03-16T19:58:03.717055",
     "status": "completed"
    },
    "tags": []
   },
   "outputs": [],
   "source": [
    "# Test dataset\n",
    "test = Add_features(season_test)\n",
    "test[\"TeamAWins\"] = test_team_scores.loc[test[\"TeamA\"].values][\"Wins\"].values\n",
    "test[\"TeamBWins\"] = test_team_scores.loc[test[\"TeamB\"].values][\"Wins\"].values\n",
    "\n",
    "test[\"TeamAMeanLossScore\"] = test_team_scores.loc[test[\"TeamA\"].values][\"MeanLossScore\"].values\n",
    "test[\"TeamBMeanLossScore\"] = test_team_scores.loc[test[\"TeamB\"].values][\"MeanLossScore\"].values\n",
    "\n",
    "\n",
    "test[\"TeamAMeanWinScore\"] = test_team_scores.loc[test[\"TeamA\"].values][\"MeanWinScore\"].values\n",
    "test[\"TeamBMeanWinScore\"] = test_team_scores.loc[test[\"TeamB\"].values][\"MeanWinScore\"].values\n",
    "\n",
    "test[\"TeamAWinLossDiff\"] = test_team_scores.loc[test[\"TeamA\"].values][\"WinLossDiff\"].values\n",
    "test[\"TeamBWinLossDiff\"] = test_team_scores.loc[test[\"TeamB\"].values][\"WinLossDiff\"].values"
   ]
  },
  {
   "cell_type": "code",
   "execution_count": 20,
   "id": "e1246b4d",
   "metadata": {
    "execution": {
     "iopub.execute_input": "2022-03-16T19:58:05.635492Z",
     "iopub.status.busy": "2022-03-16T19:58:05.634404Z",
     "iopub.status.idle": "2022-03-16T19:58:05.641644Z",
     "shell.execute_reply": "2022-03-16T19:58:05.641009Z",
     "shell.execute_reply.started": "2022-03-16T19:43:58.975819Z"
    },
    "papermill": {
     "duration": 0.051853,
     "end_time": "2022-03-16T19:58:05.641783",
     "exception": false,
     "start_time": "2022-03-16T19:58:05.589930",
     "status": "completed"
    },
    "tags": []
   },
   "outputs": [],
   "source": [
    "x_test = test[colums]\n",
    "y_test = test[[\"Win\"]]"
   ]
  },
  {
   "cell_type": "code",
   "execution_count": 21,
   "id": "8537c991",
   "metadata": {
    "execution": {
     "iopub.execute_input": "2022-03-16T19:58:05.724685Z",
     "iopub.status.busy": "2022-03-16T19:58:05.723608Z",
     "iopub.status.idle": "2022-03-16T19:58:05.736098Z",
     "shell.execute_reply": "2022-03-16T19:58:05.735396Z",
     "shell.execute_reply.started": "2022-03-16T19:44:00.139994Z"
    },
    "papermill": {
     "duration": 0.056107,
     "end_time": "2022-03-16T19:58:05.736240",
     "exception": false,
     "start_time": "2022-03-16T19:58:05.680133",
     "status": "completed"
    },
    "tags": []
   },
   "outputs": [],
   "source": [
    "x_test_scaled = x_test.copy()\n",
    "scaled_test = scaler.transform(x_test_scaled[scale_columns])\n",
    "x_test_scaled[scale_columns] = scaled_test"
   ]
  },
  {
   "cell_type": "code",
   "execution_count": 22,
   "id": "a9bc1d71",
   "metadata": {
    "execution": {
     "iopub.execute_input": "2022-03-16T19:58:05.827222Z",
     "iopub.status.busy": "2022-03-16T19:58:05.826505Z",
     "iopub.status.idle": "2022-03-16T19:58:05.839326Z",
     "shell.execute_reply": "2022-03-16T19:58:05.838762Z",
     "shell.execute_reply.started": "2022-03-16T19:44:02.273197Z"
    },
    "papermill": {
     "duration": 0.065509,
     "end_time": "2022-03-16T19:58:05.839466",
     "exception": false,
     "start_time": "2022-03-16T19:58:05.773957",
     "status": "completed"
    },
    "tags": []
   },
   "outputs": [
    {
     "data": {
      "text/html": [
       "<div>\n",
       "<style scoped>\n",
       "    .dataframe tbody tr th:only-of-type {\n",
       "        vertical-align: middle;\n",
       "    }\n",
       "\n",
       "    .dataframe tbody tr th {\n",
       "        vertical-align: top;\n",
       "    }\n",
       "\n",
       "    .dataframe thead th {\n",
       "        text-align: right;\n",
       "    }\n",
       "</style>\n",
       "<table border=\"1\" class=\"dataframe\">\n",
       "  <thead>\n",
       "    <tr style=\"text-align: right;\">\n",
       "      <th></th>\n",
       "      <th>Season</th>\n",
       "      <th>TeamA</th>\n",
       "      <th>TeamB</th>\n",
       "      <th>TeamAWins</th>\n",
       "      <th>TeamBWins</th>\n",
       "      <th>TeamAMeanLossScore</th>\n",
       "      <th>TeamBMeanLossScore</th>\n",
       "      <th>TeamAMeanWinScore</th>\n",
       "      <th>TeamBMeanWinScore</th>\n",
       "      <th>TeamAWinLossDiff</th>\n",
       "      <th>TeamBWinLossDiff</th>\n",
       "    </tr>\n",
       "  </thead>\n",
       "  <tbody>\n",
       "    <tr>\n",
       "      <th>139920</th>\n",
       "      <td>2016</td>\n",
       "      <td>1104</td>\n",
       "      <td>1244</td>\n",
       "      <td>2.158788</td>\n",
       "      <td>-2.464442</td>\n",
       "      <td>-0.049932</td>\n",
       "      <td>-1.195430</td>\n",
       "      <td>0.028803</td>\n",
       "      <td>0.109997</td>\n",
       "      <td>0.128546</td>\n",
       "      <td>2.114138</td>\n",
       "    </tr>\n",
       "    <tr>\n",
       "      <th>139921</th>\n",
       "      <td>2016</td>\n",
       "      <td>1105</td>\n",
       "      <td>1408</td>\n",
       "      <td>-1.596857</td>\n",
       "      <td>0.089844</td>\n",
       "      <td>-1.644028</td>\n",
       "      <td>-0.418442</td>\n",
       "      <td>-0.633925</td>\n",
       "      <td>0.109997</td>\n",
       "      <td>1.340023</td>\n",
       "      <td>0.871924</td>\n",
       "    </tr>\n",
       "    <tr>\n",
       "      <th>139922</th>\n",
       "      <td>2016</td>\n",
       "      <td>1112</td>\n",
       "      <td>1334</td>\n",
       "      <td>3.327375</td>\n",
       "      <td>0.743990</td>\n",
       "      <td>1.942687</td>\n",
       "      <td>-0.418442</td>\n",
       "      <td>2.016986</td>\n",
       "      <td>-0.899960</td>\n",
       "      <td>0.734284</td>\n",
       "      <td>-0.991396</td>\n",
       "    </tr>\n",
       "    <tr>\n",
       "      <th>139923</th>\n",
       "      <td>2016</td>\n",
       "      <td>1115</td>\n",
       "      <td>1370</td>\n",
       "      <td>-1.736500</td>\n",
       "      <td>-2.012770</td>\n",
       "      <td>-2.839599</td>\n",
       "      <td>0.358546</td>\n",
       "      <td>-1.959381</td>\n",
       "      <td>-0.226656</td>\n",
       "      <td>0.734284</td>\n",
       "      <td>-0.991396</td>\n",
       "    </tr>\n",
       "    <tr>\n",
       "      <th>139924</th>\n",
       "      <td>2016</td>\n",
       "      <td>1116</td>\n",
       "      <td>1380</td>\n",
       "      <td>2.386626</td>\n",
       "      <td>0.494792</td>\n",
       "      <td>1.145639</td>\n",
       "      <td>0.747040</td>\n",
       "      <td>2.679714</td>\n",
       "      <td>2.466562</td>\n",
       "      <td>3.157238</td>\n",
       "      <td>3.356351</td>\n",
       "    </tr>\n",
       "    <tr>\n",
       "      <th>...</th>\n",
       "      <td>...</td>\n",
       "      <td>...</td>\n",
       "      <td>...</td>\n",
       "      <td>...</td>\n",
       "      <td>...</td>\n",
       "      <td>...</td>\n",
       "      <td>...</td>\n",
       "      <td>...</td>\n",
       "      <td>...</td>\n",
       "      <td>...</td>\n",
       "      <td>...</td>\n",
       "    </tr>\n",
       "    <tr>\n",
       "      <th>174466</th>\n",
       "      <td>2022</td>\n",
       "      <td>1242</td>\n",
       "      <td>1400</td>\n",
       "      <td>3.849196</td>\n",
       "      <td>2.511743</td>\n",
       "      <td>1.544163</td>\n",
       "      <td>1.524029</td>\n",
       "      <td>2.016986</td>\n",
       "      <td>1.119953</td>\n",
       "      <td>1.340023</td>\n",
       "      <td>-0.370289</td>\n",
       "    </tr>\n",
       "    <tr>\n",
       "      <th>174467</th>\n",
       "      <td>2022</td>\n",
       "      <td>1126</td>\n",
       "      <td>1411</td>\n",
       "      <td>-0.501767</td>\n",
       "      <td>0.619391</td>\n",
       "      <td>-0.846980</td>\n",
       "      <td>0.358546</td>\n",
       "      <td>-0.965289</td>\n",
       "      <td>0.783301</td>\n",
       "      <td>-0.477192</td>\n",
       "      <td>0.871924</td>\n",
       "    </tr>\n",
       "    <tr>\n",
       "      <th>174468</th>\n",
       "      <td>2022</td>\n",
       "      <td>1422</td>\n",
       "      <td>1441</td>\n",
       "      <td>-0.016693</td>\n",
       "      <td>-0.431916</td>\n",
       "      <td>-0.049932</td>\n",
       "      <td>0.747040</td>\n",
       "      <td>-0.302561</td>\n",
       "      <td>0.446649</td>\n",
       "      <td>-0.477192</td>\n",
       "      <td>-0.370289</td>\n",
       "    </tr>\n",
       "    <tr>\n",
       "      <th>174469</th>\n",
       "      <td>2022</td>\n",
       "      <td>1181</td>\n",
       "      <td>1438</td>\n",
       "      <td>3.915343</td>\n",
       "      <td>2.137945</td>\n",
       "      <td>3.536782</td>\n",
       "      <td>-0.418442</td>\n",
       "      <td>2.679714</td>\n",
       "      <td>-0.563308</td>\n",
       "      <td>-0.477192</td>\n",
       "      <td>-0.370289</td>\n",
       "    </tr>\n",
       "    <tr>\n",
       "      <th>174470</th>\n",
       "      <td>2022</td>\n",
       "      <td>1338</td>\n",
       "      <td>1439</td>\n",
       "      <td>1.945650</td>\n",
       "      <td>1.250175</td>\n",
       "      <td>-0.049932</td>\n",
       "      <td>-0.029948</td>\n",
       "      <td>0.360166</td>\n",
       "      <td>0.446649</td>\n",
       "      <td>0.734284</td>\n",
       "      <td>0.871924</td>\n",
       "    </tr>\n",
       "  </tbody>\n",
       "</table>\n",
       "<p>34551 rows × 11 columns</p>\n",
       "</div>"
      ],
      "text/plain": [
       "        Season  TeamA  TeamB  TeamAWins  TeamBWins  TeamAMeanLossScore  \\\n",
       "139920    2016   1104   1244   2.158788  -2.464442           -0.049932   \n",
       "139921    2016   1105   1408  -1.596857   0.089844           -1.644028   \n",
       "139922    2016   1112   1334   3.327375   0.743990            1.942687   \n",
       "139923    2016   1115   1370  -1.736500  -2.012770           -2.839599   \n",
       "139924    2016   1116   1380   2.386626   0.494792            1.145639   \n",
       "...        ...    ...    ...        ...        ...                 ...   \n",
       "174466    2022   1242   1400   3.849196   2.511743            1.544163   \n",
       "174467    2022   1126   1411  -0.501767   0.619391           -0.846980   \n",
       "174468    2022   1422   1441  -0.016693  -0.431916           -0.049932   \n",
       "174469    2022   1181   1438   3.915343   2.137945            3.536782   \n",
       "174470    2022   1338   1439   1.945650   1.250175           -0.049932   \n",
       "\n",
       "        TeamBMeanLossScore  TeamAMeanWinScore  TeamBMeanWinScore  \\\n",
       "139920           -1.195430           0.028803           0.109997   \n",
       "139921           -0.418442          -0.633925           0.109997   \n",
       "139922           -0.418442           2.016986          -0.899960   \n",
       "139923            0.358546          -1.959381          -0.226656   \n",
       "139924            0.747040           2.679714           2.466562   \n",
       "...                    ...                ...                ...   \n",
       "174466            1.524029           2.016986           1.119953   \n",
       "174467            0.358546          -0.965289           0.783301   \n",
       "174468            0.747040          -0.302561           0.446649   \n",
       "174469           -0.418442           2.679714          -0.563308   \n",
       "174470           -0.029948           0.360166           0.446649   \n",
       "\n",
       "        TeamAWinLossDiff  TeamBWinLossDiff  \n",
       "139920          0.128546          2.114138  \n",
       "139921          1.340023          0.871924  \n",
       "139922          0.734284         -0.991396  \n",
       "139923          0.734284         -0.991396  \n",
       "139924          3.157238          3.356351  \n",
       "...                  ...               ...  \n",
       "174466          1.340023         -0.370289  \n",
       "174467         -0.477192          0.871924  \n",
       "174468         -0.477192         -0.370289  \n",
       "174469         -0.477192         -0.370289  \n",
       "174470          0.734284          0.871924  \n",
       "\n",
       "[34551 rows x 11 columns]"
      ]
     },
     "execution_count": 22,
     "metadata": {},
     "output_type": "execute_result"
    }
   ],
   "source": [
    "x_test_scaled"
   ]
  },
  {
   "cell_type": "code",
   "execution_count": 23,
   "id": "6ebe0ece",
   "metadata": {
    "execution": {
     "iopub.execute_input": "2022-03-16T19:58:05.927527Z",
     "iopub.status.busy": "2022-03-16T19:58:05.926906Z",
     "iopub.status.idle": "2022-03-16T19:58:31.607581Z",
     "shell.execute_reply": "2022-03-16T19:58:31.608623Z",
     "shell.execute_reply.started": "2022-03-16T19:44:03.364730Z"
    },
    "papermill": {
     "duration": 25.729955,
     "end_time": "2022-03-16T19:58:31.608845",
     "exception": false,
     "start_time": "2022-03-16T19:58:05.878890",
     "status": "completed"
    },
    "tags": []
   },
   "outputs": [
    {
     "data": {
      "text/plain": [
       "0.6243524065873636"
      ]
     },
     "execution_count": 23,
     "metadata": {},
     "output_type": "execute_result"
    }
   ],
   "source": [
    "model.fit(x_train,y_train)\n",
    "model.score(x_test,y_test)"
   ]
  },
  {
   "cell_type": "code",
   "execution_count": 24,
   "id": "108f9260",
   "metadata": {
    "execution": {
     "iopub.execute_input": "2022-03-16T19:58:31.693752Z",
     "iopub.status.busy": "2022-03-16T19:58:31.693026Z",
     "iopub.status.idle": "2022-03-16T19:58:56.525503Z",
     "shell.execute_reply": "2022-03-16T19:58:56.526168Z",
     "shell.execute_reply.started": "2022-03-16T19:44:35.671842Z"
    },
    "papermill": {
     "duration": 24.875421,
     "end_time": "2022-03-16T19:58:56.526379",
     "exception": false,
     "start_time": "2022-03-16T19:58:31.650958",
     "status": "completed"
    },
    "tags": []
   },
   "outputs": [
    {
     "data": {
      "text/plain": [
       "0.624497120199126"
      ]
     },
     "execution_count": 24,
     "metadata": {},
     "output_type": "execute_result"
    }
   ],
   "source": [
    "model.fit(x_train_scaled,y_train)\n",
    "model.score(x_test_scaled,y_test)"
   ]
  },
  {
   "cell_type": "code",
   "execution_count": 25,
   "id": "5703ff0d",
   "metadata": {
    "execution": {
     "iopub.execute_input": "2022-03-16T19:58:56.614258Z",
     "iopub.status.busy": "2022-03-16T19:58:56.613523Z",
     "iopub.status.idle": "2022-03-16T19:58:56.663910Z",
     "shell.execute_reply": "2022-03-16T19:58:56.663362Z",
     "shell.execute_reply.started": "2022-03-16T19:47:21.069706Z"
    },
    "papermill": {
     "duration": 0.096163,
     "end_time": "2022-03-16T19:58:56.664058",
     "exception": false,
     "start_time": "2022-03-16T19:58:56.567895",
     "status": "completed"
    },
    "tags": []
   },
   "outputs": [
    {
     "data": {
      "text/html": [
       "<div>\n",
       "<style scoped>\n",
       "    .dataframe tbody tr th:only-of-type {\n",
       "        vertical-align: middle;\n",
       "    }\n",
       "\n",
       "    .dataframe tbody tr th {\n",
       "        vertical-align: top;\n",
       "    }\n",
       "\n",
       "    .dataframe thead th {\n",
       "        text-align: right;\n",
       "    }\n",
       "</style>\n",
       "<table border=\"1\" class=\"dataframe\">\n",
       "  <thead>\n",
       "    <tr style=\"text-align: right;\">\n",
       "      <th></th>\n",
       "      <th>ID</th>\n",
       "      <th>Pred</th>\n",
       "    </tr>\n",
       "  </thead>\n",
       "  <tbody>\n",
       "    <tr>\n",
       "      <th>0</th>\n",
       "      <td>2016_1112_1114</td>\n",
       "      <td>0.5</td>\n",
       "    </tr>\n",
       "    <tr>\n",
       "      <th>1</th>\n",
       "      <td>2016_1112_1122</td>\n",
       "      <td>0.5</td>\n",
       "    </tr>\n",
       "    <tr>\n",
       "      <th>2</th>\n",
       "      <td>2016_1112_1124</td>\n",
       "      <td>0.5</td>\n",
       "    </tr>\n",
       "    <tr>\n",
       "      <th>3</th>\n",
       "      <td>2016_1112_1138</td>\n",
       "      <td>0.5</td>\n",
       "    </tr>\n",
       "    <tr>\n",
       "      <th>4</th>\n",
       "      <td>2016_1112_1139</td>\n",
       "      <td>0.5</td>\n",
       "    </tr>\n",
       "  </tbody>\n",
       "</table>\n",
       "</div>"
      ],
      "text/plain": [
       "               ID  Pred\n",
       "0  2016_1112_1114   0.5\n",
       "1  2016_1112_1122   0.5\n",
       "2  2016_1112_1124   0.5\n",
       "3  2016_1112_1138   0.5\n",
       "4  2016_1112_1139   0.5"
      ]
     },
     "execution_count": 25,
     "metadata": {},
     "output_type": "execute_result"
    }
   ],
   "source": [
    "# Making test data set\n",
    "submission = pd.read_csv(\"/kaggle/input/mens-march-mania-2022/MDataFiles_Stage1/MSampleSubmissionStage1.csv\")\n",
    "submission.head()"
   ]
  },
  {
   "cell_type": "code",
   "execution_count": 26,
   "id": "042db712",
   "metadata": {
    "execution": {
     "iopub.execute_input": "2022-03-16T19:58:56.756782Z",
     "iopub.status.busy": "2022-03-16T19:58:56.752506Z",
     "iopub.status.idle": "2022-03-16T19:58:57.260705Z",
     "shell.execute_reply": "2022-03-16T19:58:57.261166Z",
     "shell.execute_reply.started": "2022-03-16T19:48:16.749780Z"
    },
    "papermill": {
     "duration": 0.555186,
     "end_time": "2022-03-16T19:58:57.261354",
     "exception": false,
     "start_time": "2022-03-16T19:58:56.706168",
     "status": "completed"
    },
    "tags": []
   },
   "outputs": [],
   "source": [
    "submission[\"Season\"] = submission.apply(lambda f: int(f[\"ID\"].split(\"_\")[0]),axis=1)\n",
    "submission[\"TeamA\"] = submission.apply(lambda f: int(f[\"ID\"].split(\"_\")[1]),axis=1)\n",
    "submission[\"TeamB\"] = submission.apply(lambda f: int(f[\"ID\"].split(\"_\")[2]),axis=1)"
   ]
  },
  {
   "cell_type": "code",
   "execution_count": 27,
   "id": "9904c1e9",
   "metadata": {
    "execution": {
     "iopub.execute_input": "2022-03-16T19:58:57.354147Z",
     "iopub.status.busy": "2022-03-16T19:58:57.353088Z",
     "iopub.status.idle": "2022-03-16T19:58:57.363101Z",
     "shell.execute_reply": "2022-03-16T19:58:57.363600Z",
     "shell.execute_reply.started": "2022-03-16T19:48:17.261966Z"
    },
    "papermill": {
     "duration": 0.059368,
     "end_time": "2022-03-16T19:58:57.363767",
     "exception": false,
     "start_time": "2022-03-16T19:58:57.304399",
     "status": "completed"
    },
    "tags": []
   },
   "outputs": [
    {
     "data": {
      "text/html": [
       "<div>\n",
       "<style scoped>\n",
       "    .dataframe tbody tr th:only-of-type {\n",
       "        vertical-align: middle;\n",
       "    }\n",
       "\n",
       "    .dataframe tbody tr th {\n",
       "        vertical-align: top;\n",
       "    }\n",
       "\n",
       "    .dataframe thead th {\n",
       "        text-align: right;\n",
       "    }\n",
       "</style>\n",
       "<table border=\"1\" class=\"dataframe\">\n",
       "  <thead>\n",
       "    <tr style=\"text-align: right;\">\n",
       "      <th></th>\n",
       "      <th>ID</th>\n",
       "      <th>Pred</th>\n",
       "      <th>Season</th>\n",
       "      <th>TeamA</th>\n",
       "      <th>TeamB</th>\n",
       "    </tr>\n",
       "  </thead>\n",
       "  <tbody>\n",
       "    <tr>\n",
       "      <th>0</th>\n",
       "      <td>2016_1112_1114</td>\n",
       "      <td>0.5</td>\n",
       "      <td>2016</td>\n",
       "      <td>1112</td>\n",
       "      <td>1114</td>\n",
       "    </tr>\n",
       "    <tr>\n",
       "      <th>1</th>\n",
       "      <td>2016_1112_1122</td>\n",
       "      <td>0.5</td>\n",
       "      <td>2016</td>\n",
       "      <td>1112</td>\n",
       "      <td>1122</td>\n",
       "    </tr>\n",
       "    <tr>\n",
       "      <th>2</th>\n",
       "      <td>2016_1112_1124</td>\n",
       "      <td>0.5</td>\n",
       "      <td>2016</td>\n",
       "      <td>1112</td>\n",
       "      <td>1124</td>\n",
       "    </tr>\n",
       "    <tr>\n",
       "      <th>3</th>\n",
       "      <td>2016_1112_1138</td>\n",
       "      <td>0.5</td>\n",
       "      <td>2016</td>\n",
       "      <td>1112</td>\n",
       "      <td>1138</td>\n",
       "    </tr>\n",
       "    <tr>\n",
       "      <th>4</th>\n",
       "      <td>2016_1112_1139</td>\n",
       "      <td>0.5</td>\n",
       "      <td>2016</td>\n",
       "      <td>1112</td>\n",
       "      <td>1139</td>\n",
       "    </tr>\n",
       "  </tbody>\n",
       "</table>\n",
       "</div>"
      ],
      "text/plain": [
       "               ID  Pred  Season  TeamA  TeamB\n",
       "0  2016_1112_1114   0.5    2016   1112   1114\n",
       "1  2016_1112_1122   0.5    2016   1112   1122\n",
       "2  2016_1112_1124   0.5    2016   1112   1124\n",
       "3  2016_1112_1138   0.5    2016   1112   1138\n",
       "4  2016_1112_1139   0.5    2016   1112   1139"
      ]
     },
     "execution_count": 27,
     "metadata": {},
     "output_type": "execute_result"
    }
   ],
   "source": [
    "submission.head()"
   ]
  },
  {
   "cell_type": "code",
   "execution_count": 28,
   "id": "4d6e8c4a",
   "metadata": {
    "execution": {
     "iopub.execute_input": "2022-03-16T19:58:57.451224Z",
     "iopub.status.busy": "2022-03-16T19:58:57.450583Z",
     "iopub.status.idle": "2022-03-16T19:58:57.471710Z",
     "shell.execute_reply": "2022-03-16T19:58:57.470713Z",
     "shell.execute_reply.started": "2022-03-16T19:48:20.257326Z"
    },
    "papermill": {
     "duration": 0.066541,
     "end_time": "2022-03-16T19:58:57.471938",
     "exception": false,
     "start_time": "2022-03-16T19:58:57.405397",
     "status": "completed"
    },
    "tags": []
   },
   "outputs": [],
   "source": [
    "submission[\"TeamAWins\"] = test_team_scores.loc[submission[\"TeamA\"].values][\"Wins\"].values\n",
    "submission[\"TeamBWins\"] = test_team_scores.loc[submission[\"TeamB\"].values][\"Wins\"].values\n",
    "\n",
    "submission[\"TeamAMeanLossScore\"] = test_team_scores.loc[submission[\"TeamA\"].values][\"MeanLossScore\"].values\n",
    "submission[\"TeamBMeanLossScore\"] = test_team_scores.loc[submission[\"TeamB\"].values][\"MeanLossScore\"].values\n",
    "\n",
    "\n",
    "submission[\"TeamAMeanWinScore\"] = test_team_scores.loc[submission[\"TeamA\"].values][\"MeanWinScore\"].values\n",
    "submission[\"TeamBMeanWinScore\"] = test_team_scores.loc[submission[\"TeamB\"].values][\"MeanWinScore\"].values\n",
    "\n",
    "submission[\"TeamAWinLossDiff\"] = test_team_scores.loc[submission[\"TeamA\"].values][\"WinLossDiff\"].values\n",
    "submission[\"TeamBWinLossDiff\"] = test_team_scores.loc[submission[\"TeamB\"].values][\"WinLossDiff\"].values\n"
   ]
  },
  {
   "cell_type": "code",
   "execution_count": 29,
   "id": "5a24ba24",
   "metadata": {
    "execution": {
     "iopub.execute_input": "2022-03-16T19:58:57.581167Z",
     "iopub.status.busy": "2022-03-16T19:58:57.579872Z",
     "iopub.status.idle": "2022-03-16T19:58:57.588800Z",
     "shell.execute_reply": "2022-03-16T19:58:57.589294Z",
     "shell.execute_reply.started": "2022-03-16T19:48:21.752606Z"
    },
    "papermill": {
     "duration": 0.068438,
     "end_time": "2022-03-16T19:58:57.589465",
     "exception": false,
     "start_time": "2022-03-16T19:58:57.521027",
     "status": "completed"
    },
    "tags": []
   },
   "outputs": [
    {
     "data": {
      "text/html": [
       "<div>\n",
       "<style scoped>\n",
       "    .dataframe tbody tr th:only-of-type {\n",
       "        vertical-align: middle;\n",
       "    }\n",
       "\n",
       "    .dataframe tbody tr th {\n",
       "        vertical-align: top;\n",
       "    }\n",
       "\n",
       "    .dataframe thead th {\n",
       "        text-align: right;\n",
       "    }\n",
       "</style>\n",
       "<table border=\"1\" class=\"dataframe\">\n",
       "  <thead>\n",
       "    <tr style=\"text-align: right;\">\n",
       "      <th></th>\n",
       "      <th>ID</th>\n",
       "      <th>Pred</th>\n",
       "      <th>Season</th>\n",
       "      <th>TeamA</th>\n",
       "      <th>TeamB</th>\n",
       "      <th>TeamAWins</th>\n",
       "      <th>TeamBWins</th>\n",
       "      <th>TeamAMeanLossScore</th>\n",
       "      <th>TeamBMeanLossScore</th>\n",
       "      <th>TeamAMeanWinScore</th>\n",
       "      <th>TeamBMeanWinScore</th>\n",
       "      <th>TeamAWinLossDiff</th>\n",
       "      <th>TeamBWinLossDiff</th>\n",
       "    </tr>\n",
       "  </thead>\n",
       "  <tbody>\n",
       "    <tr>\n",
       "      <th>0</th>\n",
       "      <td>2016_1112_1114</td>\n",
       "      <td>0.5</td>\n",
       "      <td>2016</td>\n",
       "      <td>1112</td>\n",
       "      <td>1114</td>\n",
       "      <td>878</td>\n",
       "      <td>562</td>\n",
       "      <td>69</td>\n",
       "      <td>64</td>\n",
       "      <td>82</td>\n",
       "      <td>76</td>\n",
       "      <td>13</td>\n",
       "      <td>12</td>\n",
       "    </tr>\n",
       "    <tr>\n",
       "      <th>1</th>\n",
       "      <td>2016_1112_1122</td>\n",
       "      <td>0.5</td>\n",
       "      <td>2016</td>\n",
       "      <td>1112</td>\n",
       "      <td>1122</td>\n",
       "      <td>878</td>\n",
       "      <td>518</td>\n",
       "      <td>69</td>\n",
       "      <td>68</td>\n",
       "      <td>82</td>\n",
       "      <td>78</td>\n",
       "      <td>13</td>\n",
       "      <td>10</td>\n",
       "    </tr>\n",
       "    <tr>\n",
       "      <th>2</th>\n",
       "      <td>2016_1112_1124</td>\n",
       "      <td>0.5</td>\n",
       "      <td>2016</td>\n",
       "      <td>1112</td>\n",
       "      <td>1124</td>\n",
       "      <td>878</td>\n",
       "      <td>585</td>\n",
       "      <td>69</td>\n",
       "      <td>65</td>\n",
       "      <td>82</td>\n",
       "      <td>78</td>\n",
       "      <td>13</td>\n",
       "      <td>13</td>\n",
       "    </tr>\n",
       "    <tr>\n",
       "      <th>3</th>\n",
       "      <td>2016_1112_1138</td>\n",
       "      <td>0.5</td>\n",
       "      <td>2016</td>\n",
       "      <td>1112</td>\n",
       "      <td>1138</td>\n",
       "      <td>878</td>\n",
       "      <td>443</td>\n",
       "      <td>69</td>\n",
       "      <td>66</td>\n",
       "      <td>82</td>\n",
       "      <td>77</td>\n",
       "      <td>13</td>\n",
       "      <td>11</td>\n",
       "    </tr>\n",
       "    <tr>\n",
       "      <th>4</th>\n",
       "      <td>2016_1112_1139</td>\n",
       "      <td>0.5</td>\n",
       "      <td>2016</td>\n",
       "      <td>1112</td>\n",
       "      <td>1139</td>\n",
       "      <td>878</td>\n",
       "      <td>682</td>\n",
       "      <td>69</td>\n",
       "      <td>63</td>\n",
       "      <td>82</td>\n",
       "      <td>73</td>\n",
       "      <td>13</td>\n",
       "      <td>10</td>\n",
       "    </tr>\n",
       "    <tr>\n",
       "      <th>...</th>\n",
       "      <td>...</td>\n",
       "      <td>...</td>\n",
       "      <td>...</td>\n",
       "      <td>...</td>\n",
       "      <td>...</td>\n",
       "      <td>...</td>\n",
       "      <td>...</td>\n",
       "      <td>...</td>\n",
       "      <td>...</td>\n",
       "      <td>...</td>\n",
       "      <td>...</td>\n",
       "      <td>...</td>\n",
       "      <td>...</td>\n",
       "    </tr>\n",
       "    <tr>\n",
       "      <th>11385</th>\n",
       "      <td>2021_1452_1457</td>\n",
       "      <td>0.5</td>\n",
       "      <td>2021</td>\n",
       "      <td>1452</td>\n",
       "      <td>1457</td>\n",
       "      <td>693</td>\n",
       "      <td>506</td>\n",
       "      <td>66</td>\n",
       "      <td>63</td>\n",
       "      <td>78</td>\n",
       "      <td>75</td>\n",
       "      <td>12</td>\n",
       "      <td>12</td>\n",
       "    </tr>\n",
       "    <tr>\n",
       "      <th>11386</th>\n",
       "      <td>2021_1452_1458</td>\n",
       "      <td>0.5</td>\n",
       "      <td>2021</td>\n",
       "      <td>1452</td>\n",
       "      <td>1458</td>\n",
       "      <td>693</td>\n",
       "      <td>714</td>\n",
       "      <td>66</td>\n",
       "      <td>61</td>\n",
       "      <td>78</td>\n",
       "      <td>72</td>\n",
       "      <td>12</td>\n",
       "      <td>11</td>\n",
       "    </tr>\n",
       "    <tr>\n",
       "      <th>11387</th>\n",
       "      <td>2021_1455_1457</td>\n",
       "      <td>0.5</td>\n",
       "      <td>2021</td>\n",
       "      <td>1455</td>\n",
       "      <td>1457</td>\n",
       "      <td>662</td>\n",
       "      <td>506</td>\n",
       "      <td>61</td>\n",
       "      <td>63</td>\n",
       "      <td>75</td>\n",
       "      <td>75</td>\n",
       "      <td>14</td>\n",
       "      <td>12</td>\n",
       "    </tr>\n",
       "    <tr>\n",
       "      <th>11388</th>\n",
       "      <td>2021_1455_1458</td>\n",
       "      <td>0.5</td>\n",
       "      <td>2021</td>\n",
       "      <td>1455</td>\n",
       "      <td>1458</td>\n",
       "      <td>662</td>\n",
       "      <td>714</td>\n",
       "      <td>61</td>\n",
       "      <td>61</td>\n",
       "      <td>75</td>\n",
       "      <td>72</td>\n",
       "      <td>14</td>\n",
       "      <td>11</td>\n",
       "    </tr>\n",
       "    <tr>\n",
       "      <th>11389</th>\n",
       "      <td>2021_1457_1458</td>\n",
       "      <td>0.5</td>\n",
       "      <td>2021</td>\n",
       "      <td>1457</td>\n",
       "      <td>1458</td>\n",
       "      <td>506</td>\n",
       "      <td>714</td>\n",
       "      <td>63</td>\n",
       "      <td>61</td>\n",
       "      <td>75</td>\n",
       "      <td>72</td>\n",
       "      <td>12</td>\n",
       "      <td>11</td>\n",
       "    </tr>\n",
       "  </tbody>\n",
       "</table>\n",
       "<p>11390 rows × 13 columns</p>\n",
       "</div>"
      ],
      "text/plain": [
       "                   ID  Pred  Season  TeamA  TeamB  TeamAWins  TeamBWins  \\\n",
       "0      2016_1112_1114   0.5    2016   1112   1114        878        562   \n",
       "1      2016_1112_1122   0.5    2016   1112   1122        878        518   \n",
       "2      2016_1112_1124   0.5    2016   1112   1124        878        585   \n",
       "3      2016_1112_1138   0.5    2016   1112   1138        878        443   \n",
       "4      2016_1112_1139   0.5    2016   1112   1139        878        682   \n",
       "...               ...   ...     ...    ...    ...        ...        ...   \n",
       "11385  2021_1452_1457   0.5    2021   1452   1457        693        506   \n",
       "11386  2021_1452_1458   0.5    2021   1452   1458        693        714   \n",
       "11387  2021_1455_1457   0.5    2021   1455   1457        662        506   \n",
       "11388  2021_1455_1458   0.5    2021   1455   1458        662        714   \n",
       "11389  2021_1457_1458   0.5    2021   1457   1458        506        714   \n",
       "\n",
       "       TeamAMeanLossScore  TeamBMeanLossScore  TeamAMeanWinScore  \\\n",
       "0                      69                  64                 82   \n",
       "1                      69                  68                 82   \n",
       "2                      69                  65                 82   \n",
       "3                      69                  66                 82   \n",
       "4                      69                  63                 82   \n",
       "...                   ...                 ...                ...   \n",
       "11385                  66                  63                 78   \n",
       "11386                  66                  61                 78   \n",
       "11387                  61                  63                 75   \n",
       "11388                  61                  61                 75   \n",
       "11389                  63                  61                 75   \n",
       "\n",
       "       TeamBMeanWinScore  TeamAWinLossDiff  TeamBWinLossDiff  \n",
       "0                     76                13                12  \n",
       "1                     78                13                10  \n",
       "2                     78                13                13  \n",
       "3                     77                13                11  \n",
       "4                     73                13                10  \n",
       "...                  ...               ...               ...  \n",
       "11385                 75                12                12  \n",
       "11386                 72                12                11  \n",
       "11387                 75                14                12  \n",
       "11388                 72                14                11  \n",
       "11389                 72                12                11  \n",
       "\n",
       "[11390 rows x 13 columns]"
      ]
     },
     "execution_count": 29,
     "metadata": {},
     "output_type": "execute_result"
    }
   ],
   "source": [
    "submission"
   ]
  },
  {
   "cell_type": "code",
   "execution_count": 30,
   "id": "e39cb374",
   "metadata": {
    "execution": {
     "iopub.execute_input": "2022-03-16T19:58:57.685931Z",
     "iopub.status.busy": "2022-03-16T19:58:57.684885Z",
     "iopub.status.idle": "2022-03-16T19:58:57.689349Z",
     "shell.execute_reply": "2022-03-16T19:58:57.690376Z",
     "shell.execute_reply.started": "2022-03-16T19:48:31.803532Z"
    },
    "papermill": {
     "duration": 0.055063,
     "end_time": "2022-03-16T19:58:57.690640",
     "exception": false,
     "start_time": "2022-03-16T19:58:57.635577",
     "status": "completed"
    },
    "tags": []
   },
   "outputs": [],
   "source": [
    "x_submission = submission[colums]\n",
    "x_submission_scaled = x_submission.copy()"
   ]
  },
  {
   "cell_type": "code",
   "execution_count": 31,
   "id": "1d65b256",
   "metadata": {
    "execution": {
     "iopub.execute_input": "2022-03-16T19:58:57.783042Z",
     "iopub.status.busy": "2022-03-16T19:58:57.782044Z",
     "iopub.status.idle": "2022-03-16T19:58:57.797925Z",
     "shell.execute_reply": "2022-03-16T19:58:57.798973Z",
     "shell.execute_reply.started": "2022-03-16T19:48:38.228586Z"
    },
    "papermill": {
     "duration": 0.065067,
     "end_time": "2022-03-16T19:58:57.799174",
     "exception": false,
     "start_time": "2022-03-16T19:58:57.734107",
     "status": "completed"
    },
    "tags": []
   },
   "outputs": [
    {
     "data": {
      "text/html": [
       "<div>\n",
       "<style scoped>\n",
       "    .dataframe tbody tr th:only-of-type {\n",
       "        vertical-align: middle;\n",
       "    }\n",
       "\n",
       "    .dataframe tbody tr th {\n",
       "        vertical-align: top;\n",
       "    }\n",
       "\n",
       "    .dataframe thead th {\n",
       "        text-align: right;\n",
       "    }\n",
       "</style>\n",
       "<table border=\"1\" class=\"dataframe\">\n",
       "  <thead>\n",
       "    <tr style=\"text-align: right;\">\n",
       "      <th></th>\n",
       "      <th>Season</th>\n",
       "      <th>TeamA</th>\n",
       "      <th>TeamB</th>\n",
       "      <th>TeamAWins</th>\n",
       "      <th>TeamBWins</th>\n",
       "      <th>TeamAMeanLossScore</th>\n",
       "      <th>TeamBMeanLossScore</th>\n",
       "      <th>TeamAMeanWinScore</th>\n",
       "      <th>TeamBMeanWinScore</th>\n",
       "      <th>TeamAWinLossDiff</th>\n",
       "      <th>TeamBWinLossDiff</th>\n",
       "    </tr>\n",
       "  </thead>\n",
       "  <tbody>\n",
       "    <tr>\n",
       "      <th>0</th>\n",
       "      <td>2016</td>\n",
       "      <td>1112</td>\n",
       "      <td>1114</td>\n",
       "      <td>878</td>\n",
       "      <td>562</td>\n",
       "      <td>69</td>\n",
       "      <td>64</td>\n",
       "      <td>82</td>\n",
       "      <td>76</td>\n",
       "      <td>13</td>\n",
       "      <td>12</td>\n",
       "    </tr>\n",
       "    <tr>\n",
       "      <th>1</th>\n",
       "      <td>2016</td>\n",
       "      <td>1112</td>\n",
       "      <td>1122</td>\n",
       "      <td>878</td>\n",
       "      <td>518</td>\n",
       "      <td>69</td>\n",
       "      <td>68</td>\n",
       "      <td>82</td>\n",
       "      <td>78</td>\n",
       "      <td>13</td>\n",
       "      <td>10</td>\n",
       "    </tr>\n",
       "    <tr>\n",
       "      <th>2</th>\n",
       "      <td>2016</td>\n",
       "      <td>1112</td>\n",
       "      <td>1124</td>\n",
       "      <td>878</td>\n",
       "      <td>585</td>\n",
       "      <td>69</td>\n",
       "      <td>65</td>\n",
       "      <td>82</td>\n",
       "      <td>78</td>\n",
       "      <td>13</td>\n",
       "      <td>13</td>\n",
       "    </tr>\n",
       "    <tr>\n",
       "      <th>3</th>\n",
       "      <td>2016</td>\n",
       "      <td>1112</td>\n",
       "      <td>1138</td>\n",
       "      <td>878</td>\n",
       "      <td>443</td>\n",
       "      <td>69</td>\n",
       "      <td>66</td>\n",
       "      <td>82</td>\n",
       "      <td>77</td>\n",
       "      <td>13</td>\n",
       "      <td>11</td>\n",
       "    </tr>\n",
       "    <tr>\n",
       "      <th>4</th>\n",
       "      <td>2016</td>\n",
       "      <td>1112</td>\n",
       "      <td>1139</td>\n",
       "      <td>878</td>\n",
       "      <td>682</td>\n",
       "      <td>69</td>\n",
       "      <td>63</td>\n",
       "      <td>82</td>\n",
       "      <td>73</td>\n",
       "      <td>13</td>\n",
       "      <td>10</td>\n",
       "    </tr>\n",
       "    <tr>\n",
       "      <th>...</th>\n",
       "      <td>...</td>\n",
       "      <td>...</td>\n",
       "      <td>...</td>\n",
       "      <td>...</td>\n",
       "      <td>...</td>\n",
       "      <td>...</td>\n",
       "      <td>...</td>\n",
       "      <td>...</td>\n",
       "      <td>...</td>\n",
       "      <td>...</td>\n",
       "      <td>...</td>\n",
       "    </tr>\n",
       "    <tr>\n",
       "      <th>11385</th>\n",
       "      <td>2021</td>\n",
       "      <td>1452</td>\n",
       "      <td>1457</td>\n",
       "      <td>693</td>\n",
       "      <td>506</td>\n",
       "      <td>66</td>\n",
       "      <td>63</td>\n",
       "      <td>78</td>\n",
       "      <td>75</td>\n",
       "      <td>12</td>\n",
       "      <td>12</td>\n",
       "    </tr>\n",
       "    <tr>\n",
       "      <th>11386</th>\n",
       "      <td>2021</td>\n",
       "      <td>1452</td>\n",
       "      <td>1458</td>\n",
       "      <td>693</td>\n",
       "      <td>714</td>\n",
       "      <td>66</td>\n",
       "      <td>61</td>\n",
       "      <td>78</td>\n",
       "      <td>72</td>\n",
       "      <td>12</td>\n",
       "      <td>11</td>\n",
       "    </tr>\n",
       "    <tr>\n",
       "      <th>11387</th>\n",
       "      <td>2021</td>\n",
       "      <td>1455</td>\n",
       "      <td>1457</td>\n",
       "      <td>662</td>\n",
       "      <td>506</td>\n",
       "      <td>61</td>\n",
       "      <td>63</td>\n",
       "      <td>75</td>\n",
       "      <td>75</td>\n",
       "      <td>14</td>\n",
       "      <td>12</td>\n",
       "    </tr>\n",
       "    <tr>\n",
       "      <th>11388</th>\n",
       "      <td>2021</td>\n",
       "      <td>1455</td>\n",
       "      <td>1458</td>\n",
       "      <td>662</td>\n",
       "      <td>714</td>\n",
       "      <td>61</td>\n",
       "      <td>61</td>\n",
       "      <td>75</td>\n",
       "      <td>72</td>\n",
       "      <td>14</td>\n",
       "      <td>11</td>\n",
       "    </tr>\n",
       "    <tr>\n",
       "      <th>11389</th>\n",
       "      <td>2021</td>\n",
       "      <td>1457</td>\n",
       "      <td>1458</td>\n",
       "      <td>506</td>\n",
       "      <td>714</td>\n",
       "      <td>63</td>\n",
       "      <td>61</td>\n",
       "      <td>75</td>\n",
       "      <td>72</td>\n",
       "      <td>12</td>\n",
       "      <td>11</td>\n",
       "    </tr>\n",
       "  </tbody>\n",
       "</table>\n",
       "<p>11390 rows × 11 columns</p>\n",
       "</div>"
      ],
      "text/plain": [
       "       Season  TeamA  TeamB  TeamAWins  TeamBWins  TeamAMeanLossScore  \\\n",
       "0        2016   1112   1114        878        562                  69   \n",
       "1        2016   1112   1122        878        518                  69   \n",
       "2        2016   1112   1124        878        585                  69   \n",
       "3        2016   1112   1138        878        443                  69   \n",
       "4        2016   1112   1139        878        682                  69   \n",
       "...       ...    ...    ...        ...        ...                 ...   \n",
       "11385    2021   1452   1457        693        506                  66   \n",
       "11386    2021   1452   1458        693        714                  66   \n",
       "11387    2021   1455   1457        662        506                  61   \n",
       "11388    2021   1455   1458        662        714                  61   \n",
       "11389    2021   1457   1458        506        714                  63   \n",
       "\n",
       "       TeamBMeanLossScore  TeamAMeanWinScore  TeamBMeanWinScore  \\\n",
       "0                      64                 82                 76   \n",
       "1                      68                 82                 78   \n",
       "2                      65                 82                 78   \n",
       "3                      66                 82                 77   \n",
       "4                      63                 82                 73   \n",
       "...                   ...                ...                ...   \n",
       "11385                  63                 78                 75   \n",
       "11386                  61                 78                 72   \n",
       "11387                  63                 75                 75   \n",
       "11388                  61                 75                 72   \n",
       "11389                  61                 75                 72   \n",
       "\n",
       "       TeamAWinLossDiff  TeamBWinLossDiff  \n",
       "0                    13                12  \n",
       "1                    13                10  \n",
       "2                    13                13  \n",
       "3                    13                11  \n",
       "4                    13                10  \n",
       "...                 ...               ...  \n",
       "11385                12                12  \n",
       "11386                12                11  \n",
       "11387                14                12  \n",
       "11388                14                11  \n",
       "11389                12                11  \n",
       "\n",
       "[11390 rows x 11 columns]"
      ]
     },
     "execution_count": 31,
     "metadata": {},
     "output_type": "execute_result"
    }
   ],
   "source": [
    "x_submission"
   ]
  },
  {
   "cell_type": "code",
   "execution_count": 32,
   "id": "f50487fe",
   "metadata": {
    "execution": {
     "iopub.execute_input": "2022-03-16T19:58:57.890936Z",
     "iopub.status.busy": "2022-03-16T19:58:57.889907Z",
     "iopub.status.idle": "2022-03-16T19:58:57.900312Z",
     "shell.execute_reply": "2022-03-16T19:58:57.900853Z",
     "shell.execute_reply.started": "2022-03-16T19:48:43.253292Z"
    },
    "papermill": {
     "duration": 0.05785,
     "end_time": "2022-03-16T19:58:57.901048",
     "exception": false,
     "start_time": "2022-03-16T19:58:57.843198",
     "status": "completed"
    },
    "tags": []
   },
   "outputs": [],
   "source": [
    "val_sumbmission = scaler.transform(x_submission_scaled[scale_columns])\n",
    "x_submission_scaled[scale_columns] = val_sumbmission"
   ]
  },
  {
   "cell_type": "code",
   "execution_count": 33,
   "id": "9cbf4b20",
   "metadata": {
    "execution": {
     "iopub.execute_input": "2022-03-16T19:58:57.998120Z",
     "iopub.status.busy": "2022-03-16T19:58:57.997086Z",
     "iopub.status.idle": "2022-03-16T19:59:24.032247Z",
     "shell.execute_reply": "2022-03-16T19:59:24.031606Z",
     "shell.execute_reply.started": "2022-03-16T19:48:44.128396Z"
    },
    "papermill": {
     "duration": 26.086104,
     "end_time": "2022-03-16T19:59:24.032414",
     "exception": false,
     "start_time": "2022-03-16T19:58:57.946310",
     "status": "completed"
    },
    "tags": []
   },
   "outputs": [],
   "source": [
    "model.fit(x_train_scaled,y_train)\n",
    "y_pred = model.predict_proba(x_submission_scaled)"
   ]
  },
  {
   "cell_type": "code",
   "execution_count": 34,
   "id": "05dab544",
   "metadata": {
    "execution": {
     "iopub.execute_input": "2022-03-16T19:59:24.127314Z",
     "iopub.status.busy": "2022-03-16T19:59:24.126625Z",
     "iopub.status.idle": "2022-03-16T19:59:24.170059Z",
     "shell.execute_reply": "2022-03-16T19:59:24.169363Z",
     "shell.execute_reply.started": "2022-03-16T19:49:16.296079Z"
    },
    "papermill": {
     "duration": 0.090786,
     "end_time": "2022-03-16T19:59:24.170203",
     "exception": false,
     "start_time": "2022-03-16T19:59:24.079417",
     "status": "completed"
    },
    "tags": []
   },
   "outputs": [],
   "source": [
    "my_sub = pd.DataFrame({\"ID\":submission[\"ID\"],\"Pred\":y_pred[:,1]})\n",
    "my_sub.to_csv(\"1-submission\",index=False)"
   ]
  },
  {
   "cell_type": "code",
   "execution_count": null,
   "id": "f2de8c81",
   "metadata": {
    "papermill": {
     "duration": 0.041058,
     "end_time": "2022-03-16T19:59:24.256921",
     "exception": false,
     "start_time": "2022-03-16T19:59:24.215863",
     "status": "completed"
    },
    "tags": []
   },
   "outputs": [],
   "source": []
  }
 ],
 "metadata": {
  "kernelspec": {
   "display_name": "Python 3",
   "language": "python",
   "name": "python3"
  },
  "language_info": {
   "codemirror_mode": {
    "name": "ipython",
    "version": 3
   },
   "file_extension": ".py",
   "mimetype": "text/x-python",
   "name": "python",
   "nbconvert_exporter": "python",
   "pygments_lexer": "ipython3",
   "version": "3.7.12"
  },
  "papermill": {
   "default_parameters": {},
   "duration": 573.700118,
   "end_time": "2022-03-16T19:59:25.113783",
   "environment_variables": {},
   "exception": null,
   "input_path": "__notebook__.ipynb",
   "output_path": "__notebook__.ipynb",
   "parameters": {},
   "start_time": "2022-03-16T19:49:51.413665",
   "version": "2.3.3"
  }
 },
 "nbformat": 4,
 "nbformat_minor": 5
}
