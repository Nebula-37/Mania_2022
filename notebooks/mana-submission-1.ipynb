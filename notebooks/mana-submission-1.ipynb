{
 "cells": [
  {
   "cell_type": "code",
   "execution_count": 1,
   "id": "8d49d065",
   "metadata": {
    "execution": {
     "iopub.execute_input": "2022-03-13T08:50:36.172243Z",
     "iopub.status.busy": "2022-03-13T08:50:36.170615Z",
     "iopub.status.idle": "2022-03-13T08:50:36.176940Z",
     "shell.execute_reply": "2022-03-13T08:50:36.176028Z",
     "shell.execute_reply.started": "2022-03-13T08:44:49.804003Z"
    },
    "papermill": {
     "duration": 0.024238,
     "end_time": "2022-03-13T08:50:36.177123",
     "exception": false,
     "start_time": "2022-03-13T08:50:36.152885",
     "status": "completed"
    },
    "tags": []
   },
   "outputs": [],
   "source": [
    "import pandas as pd"
   ]
  },
  {
   "cell_type": "code",
   "execution_count": 2,
   "id": "45c83e05",
   "metadata": {
    "execution": {
     "iopub.execute_input": "2022-03-13T08:50:36.196939Z",
     "iopub.status.busy": "2022-03-13T08:50:36.196048Z",
     "iopub.status.idle": "2022-03-13T08:50:36.225109Z",
     "shell.execute_reply": "2022-03-13T08:50:36.224365Z",
     "shell.execute_reply.started": "2022-03-13T08:49:11.246891Z"
    },
    "papermill": {
     "duration": 0.040958,
     "end_time": "2022-03-13T08:50:36.225247",
     "exception": false,
     "start_time": "2022-03-13T08:50:36.184289",
     "status": "completed"
    },
    "tags": []
   },
   "outputs": [],
   "source": [
    "submission = pd.read_csv(\"/kaggle/input/mens-march-mania-2022/MDataFiles_Stage1/MSampleSubmissionStage1.csv\")"
   ]
  },
  {
   "cell_type": "code",
   "execution_count": 3,
   "id": "3b9615ba",
   "metadata": {
    "execution": {
     "iopub.execute_input": "2022-03-13T08:50:36.242746Z",
     "iopub.status.busy": "2022-03-13T08:50:36.241961Z",
     "iopub.status.idle": "2022-03-13T08:50:37.004848Z",
     "shell.execute_reply": "2022-03-13T08:50:37.005328Z",
     "shell.execute_reply.started": "2022-03-13T08:49:11.902228Z"
    },
    "papermill": {
     "duration": 0.773391,
     "end_time": "2022-03-13T08:50:37.005542",
     "exception": false,
     "start_time": "2022-03-13T08:50:36.232151",
     "status": "completed"
    },
    "tags": []
   },
   "outputs": [],
   "source": [
    "years = []\n",
    "teama = []\n",
    "teamb = [] \n",
    "for _,row in submission.iterrows():\n",
    "    years.append(int(row[\"ID\"].split(\"_\")[0]))\n",
    "    teama.append(int(row[\"ID\"].split(\"_\")[1]))\n",
    "    teamb.append(int(row[\"ID\"].split(\"_\")[2]))\n",
    "submission[\"Season\"] = years\n",
    "submission[\"TeamA\"] = teama\n",
    "submission[\"TeamB\"] = teamb"
   ]
  },
  {
   "cell_type": "code",
   "execution_count": 4,
   "id": "39830916",
   "metadata": {
    "execution": {
     "iopub.execute_input": "2022-03-13T08:50:37.030519Z",
     "iopub.status.busy": "2022-03-13T08:50:37.023608Z",
     "iopub.status.idle": "2022-03-13T08:50:37.049872Z",
     "shell.execute_reply": "2022-03-13T08:50:37.050451Z",
     "shell.execute_reply.started": "2022-03-13T08:49:27.935534Z"
    },
    "papermill": {
     "duration": 0.038282,
     "end_time": "2022-03-13T08:50:37.050628",
     "exception": false,
     "start_time": "2022-03-13T08:50:37.012346",
     "status": "completed"
    },
    "tags": []
   },
   "outputs": [
    {
     "data": {
      "text/html": [
       "<div>\n",
       "<style scoped>\n",
       "    .dataframe tbody tr th:only-of-type {\n",
       "        vertical-align: middle;\n",
       "    }\n",
       "\n",
       "    .dataframe tbody tr th {\n",
       "        vertical-align: top;\n",
       "    }\n",
       "\n",
       "    .dataframe thead th {\n",
       "        text-align: right;\n",
       "    }\n",
       "</style>\n",
       "<table border=\"1\" class=\"dataframe\">\n",
       "  <thead>\n",
       "    <tr style=\"text-align: right;\">\n",
       "      <th></th>\n",
       "      <th>ID</th>\n",
       "      <th>Pred</th>\n",
       "      <th>Season</th>\n",
       "      <th>TeamA</th>\n",
       "      <th>TeamB</th>\n",
       "    </tr>\n",
       "  </thead>\n",
       "  <tbody>\n",
       "    <tr>\n",
       "      <th>0</th>\n",
       "      <td>2016_1112_1114</td>\n",
       "      <td>0.5</td>\n",
       "      <td>2016</td>\n",
       "      <td>1112</td>\n",
       "      <td>1114</td>\n",
       "    </tr>\n",
       "    <tr>\n",
       "      <th>1</th>\n",
       "      <td>2016_1112_1122</td>\n",
       "      <td>0.5</td>\n",
       "      <td>2016</td>\n",
       "      <td>1112</td>\n",
       "      <td>1122</td>\n",
       "    </tr>\n",
       "    <tr>\n",
       "      <th>2</th>\n",
       "      <td>2016_1112_1124</td>\n",
       "      <td>0.5</td>\n",
       "      <td>2016</td>\n",
       "      <td>1112</td>\n",
       "      <td>1124</td>\n",
       "    </tr>\n",
       "    <tr>\n",
       "      <th>3</th>\n",
       "      <td>2016_1112_1138</td>\n",
       "      <td>0.5</td>\n",
       "      <td>2016</td>\n",
       "      <td>1112</td>\n",
       "      <td>1138</td>\n",
       "    </tr>\n",
       "    <tr>\n",
       "      <th>4</th>\n",
       "      <td>2016_1112_1139</td>\n",
       "      <td>0.5</td>\n",
       "      <td>2016</td>\n",
       "      <td>1112</td>\n",
       "      <td>1139</td>\n",
       "    </tr>\n",
       "    <tr>\n",
       "      <th>...</th>\n",
       "      <td>...</td>\n",
       "      <td>...</td>\n",
       "      <td>...</td>\n",
       "      <td>...</td>\n",
       "      <td>...</td>\n",
       "    </tr>\n",
       "    <tr>\n",
       "      <th>11385</th>\n",
       "      <td>2021_1452_1457</td>\n",
       "      <td>0.5</td>\n",
       "      <td>2021</td>\n",
       "      <td>1452</td>\n",
       "      <td>1457</td>\n",
       "    </tr>\n",
       "    <tr>\n",
       "      <th>11386</th>\n",
       "      <td>2021_1452_1458</td>\n",
       "      <td>0.5</td>\n",
       "      <td>2021</td>\n",
       "      <td>1452</td>\n",
       "      <td>1458</td>\n",
       "    </tr>\n",
       "    <tr>\n",
       "      <th>11387</th>\n",
       "      <td>2021_1455_1457</td>\n",
       "      <td>0.5</td>\n",
       "      <td>2021</td>\n",
       "      <td>1455</td>\n",
       "      <td>1457</td>\n",
       "    </tr>\n",
       "    <tr>\n",
       "      <th>11388</th>\n",
       "      <td>2021_1455_1458</td>\n",
       "      <td>0.5</td>\n",
       "      <td>2021</td>\n",
       "      <td>1455</td>\n",
       "      <td>1458</td>\n",
       "    </tr>\n",
       "    <tr>\n",
       "      <th>11389</th>\n",
       "      <td>2021_1457_1458</td>\n",
       "      <td>0.5</td>\n",
       "      <td>2021</td>\n",
       "      <td>1457</td>\n",
       "      <td>1458</td>\n",
       "    </tr>\n",
       "  </tbody>\n",
       "</table>\n",
       "<p>11390 rows × 5 columns</p>\n",
       "</div>"
      ],
      "text/plain": [
       "                   ID  Pred  Season  TeamA  TeamB\n",
       "0      2016_1112_1114   0.5    2016   1112   1114\n",
       "1      2016_1112_1122   0.5    2016   1112   1122\n",
       "2      2016_1112_1124   0.5    2016   1112   1124\n",
       "3      2016_1112_1138   0.5    2016   1112   1138\n",
       "4      2016_1112_1139   0.5    2016   1112   1139\n",
       "...               ...   ...     ...    ...    ...\n",
       "11385  2021_1452_1457   0.5    2021   1452   1457\n",
       "11386  2021_1452_1458   0.5    2021   1452   1458\n",
       "11387  2021_1455_1457   0.5    2021   1455   1457\n",
       "11388  2021_1455_1458   0.5    2021   1455   1458\n",
       "11389  2021_1457_1458   0.5    2021   1457   1458\n",
       "\n",
       "[11390 rows x 5 columns]"
      ]
     },
     "execution_count": 4,
     "metadata": {},
     "output_type": "execute_result"
    }
   ],
   "source": [
    "submission"
   ]
  },
  {
   "cell_type": "code",
   "execution_count": null,
   "id": "ed4cff86",
   "metadata": {
    "papermill": {
     "duration": 0.006739,
     "end_time": "2022-03-13T08:50:37.064826",
     "exception": false,
     "start_time": "2022-03-13T08:50:37.058087",
     "status": "completed"
    },
    "tags": []
   },
   "outputs": [],
   "source": []
  }
 ],
 "metadata": {
  "kernelspec": {
   "display_name": "Python 3",
   "language": "python",
   "name": "python3"
  },
  "language_info": {
   "codemirror_mode": {
    "name": "ipython",
    "version": 3
   },
   "file_extension": ".py",
   "mimetype": "text/x-python",
   "name": "python",
   "nbconvert_exporter": "python",
   "pygments_lexer": "ipython3",
   "version": "3.7.12"
  },
  "papermill": {
   "default_parameters": {},
   "duration": 12.583986,
   "end_time": "2022-03-13T08:50:37.685308",
   "environment_variables": {},
   "exception": null,
   "input_path": "__notebook__.ipynb",
   "output_path": "__notebook__.ipynb",
   "parameters": {},
   "start_time": "2022-03-13T08:50:25.101322",
   "version": "2.3.3"
  }
 },
 "nbformat": 4,
 "nbformat_minor": 5
}
