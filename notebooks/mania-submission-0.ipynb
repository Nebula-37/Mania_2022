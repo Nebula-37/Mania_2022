{
 "cells": [
  {
   "cell_type": "code",
   "execution_count": 1,
   "id": "8b0640a9",
   "metadata": {
    "_cell_guid": "b1076dfc-b9ad-4769-8c92-a6c4dae69d19",
    "_uuid": "8f2839f25d086af736a60e9eeb907d3b93b6e0e5",
    "execution": {
     "iopub.execute_input": "2022-03-06T23:03:38.557435Z",
     "iopub.status.busy": "2022-03-06T23:03:38.555483Z",
     "iopub.status.idle": "2022-03-06T23:03:39.908162Z",
     "shell.execute_reply": "2022-03-06T23:03:39.906883Z",
     "shell.execute_reply.started": "2022-03-06T22:45:20.422772Z"
    },
    "papermill": {
     "duration": 1.386491,
     "end_time": "2022-03-06T23:03:39.908366",
     "exception": false,
     "start_time": "2022-03-06T23:03:38.521875",
     "status": "completed"
    },
    "tags": []
   },
   "outputs": [],
   "source": [
    "import pandas as pd\n",
    "import numpy as np\n",
    "from sklearn.model_selection import KFold,cross_val_score\n",
    "from sklearn.preprocessing import LabelBinarizer\n",
    "from sklearn.metrics import log_loss\n",
    "from xgboost import XGBClassifier"
   ]
  },
  {
   "cell_type": "code",
   "execution_count": 2,
   "id": "fbb3c129",
   "metadata": {
    "execution": {
     "iopub.execute_input": "2022-03-06T23:03:39.960488Z",
     "iopub.status.busy": "2022-03-06T23:03:39.959616Z",
     "iopub.status.idle": "2022-03-06T23:03:40.160762Z",
     "shell.execute_reply": "2022-03-06T23:03:40.160113Z",
     "shell.execute_reply.started": "2022-03-06T22:45:21.929967Z"
    },
    "papermill": {
     "duration": 0.229085,
     "end_time": "2022-03-06T23:03:40.160931",
     "exception": false,
     "start_time": "2022-03-06T23:03:39.931846",
     "status": "completed"
    },
    "tags": []
   },
   "outputs": [],
   "source": [
    "# Basic data\n",
    "team = pd.read_csv(\"/kaggle/input/mens-march-mania-2022/MDataFiles_Stage1/MTeams.csv\")\n",
    "seasons = pd.read_csv(\"/kaggle/input/mens-march-mania-2022/MDataFiles_Stage1/MSeasons.csv\")\n",
    "seeds = pd.read_csv(\"/kaggle/input/mens-march-mania-2022/MDataFiles_Stage1/MNCAATourneySeeds.csv\")\n",
    "season_results = pd.read_csv(\"/kaggle/input/mens-march-mania-2022/MDataFiles_Stage1/MRegularSeasonCompactResults.csv\")\n",
    "tour_results = pd.read_csv(\"/kaggle/input/mens-march-mania-2022/MDataFiles_Stage1/MNCAATourneyCompactResults.csv\")"
   ]
  },
  {
   "cell_type": "code",
   "execution_count": 3,
   "id": "13dc4202",
   "metadata": {
    "execution": {
     "iopub.execute_input": "2022-03-06T23:03:40.210616Z",
     "iopub.status.busy": "2022-03-06T23:03:40.209854Z",
     "iopub.status.idle": "2022-03-06T23:03:40.239070Z",
     "shell.execute_reply": "2022-03-06T23:03:40.239638Z",
     "shell.execute_reply.started": "2022-03-06T22:55:20.764184Z"
    },
    "papermill": {
     "duration": 0.056483,
     "end_time": "2022-03-06T23:03:40.239845",
     "exception": false,
     "start_time": "2022-03-06T23:03:40.183362",
     "status": "completed"
    },
    "tags": []
   },
   "outputs": [],
   "source": [
    "train_row = season_results.query('Season < 2016')\n",
    "test_row = season_results.query('Season == 2016',).reset_index()"
   ]
  },
  {
   "cell_type": "code",
   "execution_count": 4,
   "id": "7caea7fc",
   "metadata": {
    "execution": {
     "iopub.execute_input": "2022-03-06T23:03:40.290969Z",
     "iopub.status.busy": "2022-03-06T23:03:40.286462Z",
     "iopub.status.idle": "2022-03-06T23:03:40.313469Z",
     "shell.execute_reply": "2022-03-06T23:03:40.314005Z",
     "shell.execute_reply.started": "2022-03-06T22:55:21.653034Z"
    },
    "papermill": {
     "duration": 0.052512,
     "end_time": "2022-03-06T23:03:40.314175",
     "exception": false,
     "start_time": "2022-03-06T23:03:40.261663",
     "status": "completed"
    },
    "tags": []
   },
   "outputs": [
    {
     "data": {
      "text/html": [
       "<div>\n",
       "<style scoped>\n",
       "    .dataframe tbody tr th:only-of-type {\n",
       "        vertical-align: middle;\n",
       "    }\n",
       "\n",
       "    .dataframe tbody tr th {\n",
       "        vertical-align: top;\n",
       "    }\n",
       "\n",
       "    .dataframe thead th {\n",
       "        text-align: right;\n",
       "    }\n",
       "</style>\n",
       "<table border=\"1\" class=\"dataframe\">\n",
       "  <thead>\n",
       "    <tr style=\"text-align: right;\">\n",
       "      <th></th>\n",
       "      <th>index</th>\n",
       "      <th>Season</th>\n",
       "      <th>DayNum</th>\n",
       "      <th>WTeamID</th>\n",
       "      <th>WScore</th>\n",
       "      <th>LTeamID</th>\n",
       "      <th>LScore</th>\n",
       "      <th>WLoc</th>\n",
       "      <th>NumOT</th>\n",
       "    </tr>\n",
       "  </thead>\n",
       "  <tbody>\n",
       "    <tr>\n",
       "      <th>0</th>\n",
       "      <td>139920</td>\n",
       "      <td>2016</td>\n",
       "      <td>11</td>\n",
       "      <td>1104</td>\n",
       "      <td>77</td>\n",
       "      <td>1244</td>\n",
       "      <td>64</td>\n",
       "      <td>H</td>\n",
       "      <td>0</td>\n",
       "    </tr>\n",
       "    <tr>\n",
       "      <th>1</th>\n",
       "      <td>139921</td>\n",
       "      <td>2016</td>\n",
       "      <td>11</td>\n",
       "      <td>1105</td>\n",
       "      <td>68</td>\n",
       "      <td>1408</td>\n",
       "      <td>67</td>\n",
       "      <td>A</td>\n",
       "      <td>1</td>\n",
       "    </tr>\n",
       "    <tr>\n",
       "      <th>2</th>\n",
       "      <td>139922</td>\n",
       "      <td>2016</td>\n",
       "      <td>11</td>\n",
       "      <td>1112</td>\n",
       "      <td>79</td>\n",
       "      <td>1334</td>\n",
       "      <td>61</td>\n",
       "      <td>H</td>\n",
       "      <td>0</td>\n",
       "    </tr>\n",
       "    <tr>\n",
       "      <th>3</th>\n",
       "      <td>139923</td>\n",
       "      <td>2016</td>\n",
       "      <td>11</td>\n",
       "      <td>1115</td>\n",
       "      <td>58</td>\n",
       "      <td>1370</td>\n",
       "      <td>56</td>\n",
       "      <td>A</td>\n",
       "      <td>0</td>\n",
       "    </tr>\n",
       "    <tr>\n",
       "      <th>4</th>\n",
       "      <td>139924</td>\n",
       "      <td>2016</td>\n",
       "      <td>11</td>\n",
       "      <td>1116</td>\n",
       "      <td>86</td>\n",
       "      <td>1380</td>\n",
       "      <td>68</td>\n",
       "      <td>H</td>\n",
       "      <td>0</td>\n",
       "    </tr>\n",
       "    <tr>\n",
       "      <th>...</th>\n",
       "      <td>...</td>\n",
       "      <td>...</td>\n",
       "      <td>...</td>\n",
       "      <td>...</td>\n",
       "      <td>...</td>\n",
       "      <td>...</td>\n",
       "      <td>...</td>\n",
       "      <td>...</td>\n",
       "      <td>...</td>\n",
       "    </tr>\n",
       "    <tr>\n",
       "      <th>5364</th>\n",
       "      <td>145284</td>\n",
       "      <td>2016</td>\n",
       "      <td>132</td>\n",
       "      <td>1114</td>\n",
       "      <td>70</td>\n",
       "      <td>1419</td>\n",
       "      <td>50</td>\n",
       "      <td>N</td>\n",
       "      <td>0</td>\n",
       "    </tr>\n",
       "    <tr>\n",
       "      <th>5365</th>\n",
       "      <td>145285</td>\n",
       "      <td>2016</td>\n",
       "      <td>132</td>\n",
       "      <td>1163</td>\n",
       "      <td>72</td>\n",
       "      <td>1272</td>\n",
       "      <td>58</td>\n",
       "      <td>N</td>\n",
       "      <td>0</td>\n",
       "    </tr>\n",
       "    <tr>\n",
       "      <th>5366</th>\n",
       "      <td>145286</td>\n",
       "      <td>2016</td>\n",
       "      <td>132</td>\n",
       "      <td>1246</td>\n",
       "      <td>82</td>\n",
       "      <td>1401</td>\n",
       "      <td>77</td>\n",
       "      <td>N</td>\n",
       "      <td>1</td>\n",
       "    </tr>\n",
       "    <tr>\n",
       "      <th>5367</th>\n",
       "      <td>145287</td>\n",
       "      <td>2016</td>\n",
       "      <td>132</td>\n",
       "      <td>1277</td>\n",
       "      <td>66</td>\n",
       "      <td>1345</td>\n",
       "      <td>62</td>\n",
       "      <td>N</td>\n",
       "      <td>0</td>\n",
       "    </tr>\n",
       "    <tr>\n",
       "      <th>5368</th>\n",
       "      <td>145288</td>\n",
       "      <td>2016</td>\n",
       "      <td>132</td>\n",
       "      <td>1386</td>\n",
       "      <td>87</td>\n",
       "      <td>1433</td>\n",
       "      <td>74</td>\n",
       "      <td>N</td>\n",
       "      <td>0</td>\n",
       "    </tr>\n",
       "  </tbody>\n",
       "</table>\n",
       "<p>5369 rows × 9 columns</p>\n",
       "</div>"
      ],
      "text/plain": [
       "       index  Season  DayNum  WTeamID  WScore  LTeamID  LScore WLoc  NumOT\n",
       "0     139920    2016      11     1104      77     1244      64    H      0\n",
       "1     139921    2016      11     1105      68     1408      67    A      1\n",
       "2     139922    2016      11     1112      79     1334      61    H      0\n",
       "3     139923    2016      11     1115      58     1370      56    A      0\n",
       "4     139924    2016      11     1116      86     1380      68    H      0\n",
       "...      ...     ...     ...      ...     ...      ...     ...  ...    ...\n",
       "5364  145284    2016     132     1114      70     1419      50    N      0\n",
       "5365  145285    2016     132     1163      72     1272      58    N      0\n",
       "5366  145286    2016     132     1246      82     1401      77    N      1\n",
       "5367  145287    2016     132     1277      66     1345      62    N      0\n",
       "5368  145288    2016     132     1386      87     1433      74    N      0\n",
       "\n",
       "[5369 rows x 9 columns]"
      ]
     },
     "execution_count": 4,
     "metadata": {},
     "output_type": "execute_result"
    }
   ],
   "source": [
    "test_row"
   ]
  },
  {
   "cell_type": "code",
   "execution_count": 5,
   "id": "7bef8d6c",
   "metadata": {
    "execution": {
     "iopub.execute_input": "2022-03-06T23:03:40.364297Z",
     "iopub.status.busy": "2022-03-06T23:03:40.363497Z",
     "iopub.status.idle": "2022-03-06T23:03:41.160709Z",
     "shell.execute_reply": "2022-03-06T23:03:41.161265Z",
     "shell.execute_reply.started": "2022-03-06T22:55:23.473403Z"
    },
    "papermill": {
     "duration": 0.8235,
     "end_time": "2022-03-06T23:03:41.161448",
     "exception": false,
     "start_time": "2022-03-06T23:03:40.337948",
     "status": "completed"
    },
    "tags": []
   },
   "outputs": [],
   "source": [
    "enc = LabelBinarizer()\n",
    "enc.fit(train_row.WLoc.values)\n",
    "d1 = pd.DataFrame(enc.transform(train_row.WLoc.values),columns=enc.classes_)\n",
    "d2 = pd.DataFrame(enc.transform(test_row.WLoc.values),columns=enc.classes_)"
   ]
  },
  {
   "cell_type": "code",
   "execution_count": 6,
   "id": "7a4b3ab8",
   "metadata": {
    "execution": {
     "iopub.execute_input": "2022-03-06T23:03:41.210056Z",
     "iopub.status.busy": "2022-03-06T23:03:41.209345Z",
     "iopub.status.idle": "2022-03-06T23:03:41.223920Z",
     "shell.execute_reply": "2022-03-06T23:03:41.224479Z",
     "shell.execute_reply.started": "2022-03-06T22:55:24.277273Z"
    },
    "papermill": {
     "duration": 0.04065,
     "end_time": "2022-03-06T23:03:41.224677",
     "exception": false,
     "start_time": "2022-03-06T23:03:41.184027",
     "status": "completed"
    },
    "tags": []
   },
   "outputs": [],
   "source": [
    "train = pd.concat([train_row,d1],axis=1)\n",
    "test = pd.concat([test_row,d2],axis=1)"
   ]
  },
  {
   "cell_type": "code",
   "execution_count": 7,
   "id": "42d3b668",
   "metadata": {
    "execution": {
     "iopub.execute_input": "2022-03-06T23:03:41.284757Z",
     "iopub.status.busy": "2022-03-06T23:03:41.283840Z",
     "iopub.status.idle": "2022-03-06T23:03:41.287411Z",
     "shell.execute_reply": "2022-03-06T23:03:41.287927Z",
     "shell.execute_reply.started": "2022-03-06T22:55:32.675418Z"
    },
    "papermill": {
     "duration": 0.040179,
     "end_time": "2022-03-06T23:03:41.288093",
     "exception": false,
     "start_time": "2022-03-06T23:03:41.247914",
     "status": "completed"
    },
    "tags": []
   },
   "outputs": [
    {
     "data": {
      "text/html": [
       "<div>\n",
       "<style scoped>\n",
       "    .dataframe tbody tr th:only-of-type {\n",
       "        vertical-align: middle;\n",
       "    }\n",
       "\n",
       "    .dataframe tbody tr th {\n",
       "        vertical-align: top;\n",
       "    }\n",
       "\n",
       "    .dataframe thead th {\n",
       "        text-align: right;\n",
       "    }\n",
       "</style>\n",
       "<table border=\"1\" class=\"dataframe\">\n",
       "  <thead>\n",
       "    <tr style=\"text-align: right;\">\n",
       "      <th></th>\n",
       "      <th>Season</th>\n",
       "      <th>DayNum</th>\n",
       "      <th>WTeamID</th>\n",
       "      <th>WScore</th>\n",
       "      <th>LTeamID</th>\n",
       "      <th>LScore</th>\n",
       "      <th>WLoc</th>\n",
       "      <th>NumOT</th>\n",
       "      <th>A</th>\n",
       "      <th>H</th>\n",
       "      <th>N</th>\n",
       "    </tr>\n",
       "  </thead>\n",
       "  <tbody>\n",
       "    <tr>\n",
       "      <th>0</th>\n",
       "      <td>1985</td>\n",
       "      <td>20</td>\n",
       "      <td>1228</td>\n",
       "      <td>81</td>\n",
       "      <td>1328</td>\n",
       "      <td>64</td>\n",
       "      <td>N</td>\n",
       "      <td>0</td>\n",
       "      <td>0</td>\n",
       "      <td>0</td>\n",
       "      <td>1</td>\n",
       "    </tr>\n",
       "    <tr>\n",
       "      <th>1</th>\n",
       "      <td>1985</td>\n",
       "      <td>25</td>\n",
       "      <td>1106</td>\n",
       "      <td>77</td>\n",
       "      <td>1354</td>\n",
       "      <td>70</td>\n",
       "      <td>H</td>\n",
       "      <td>0</td>\n",
       "      <td>0</td>\n",
       "      <td>1</td>\n",
       "      <td>0</td>\n",
       "    </tr>\n",
       "    <tr>\n",
       "      <th>2</th>\n",
       "      <td>1985</td>\n",
       "      <td>25</td>\n",
       "      <td>1112</td>\n",
       "      <td>63</td>\n",
       "      <td>1223</td>\n",
       "      <td>56</td>\n",
       "      <td>H</td>\n",
       "      <td>0</td>\n",
       "      <td>0</td>\n",
       "      <td>1</td>\n",
       "      <td>0</td>\n",
       "    </tr>\n",
       "    <tr>\n",
       "      <th>3</th>\n",
       "      <td>1985</td>\n",
       "      <td>25</td>\n",
       "      <td>1165</td>\n",
       "      <td>70</td>\n",
       "      <td>1432</td>\n",
       "      <td>54</td>\n",
       "      <td>H</td>\n",
       "      <td>0</td>\n",
       "      <td>0</td>\n",
       "      <td>1</td>\n",
       "      <td>0</td>\n",
       "    </tr>\n",
       "    <tr>\n",
       "      <th>4</th>\n",
       "      <td>1985</td>\n",
       "      <td>25</td>\n",
       "      <td>1192</td>\n",
       "      <td>86</td>\n",
       "      <td>1447</td>\n",
       "      <td>74</td>\n",
       "      <td>H</td>\n",
       "      <td>0</td>\n",
       "      <td>0</td>\n",
       "      <td>1</td>\n",
       "      <td>0</td>\n",
       "    </tr>\n",
       "  </tbody>\n",
       "</table>\n",
       "</div>"
      ],
      "text/plain": [
       "   Season  DayNum  WTeamID  WScore  LTeamID  LScore WLoc  NumOT  A  H  N\n",
       "0    1985      20     1228      81     1328      64    N      0  0  0  1\n",
       "1    1985      25     1106      77     1354      70    H      0  0  1  0\n",
       "2    1985      25     1112      63     1223      56    H      0  0  1  0\n",
       "3    1985      25     1165      70     1432      54    H      0  0  1  0\n",
       "4    1985      25     1192      86     1447      74    H      0  0  1  0"
      ]
     },
     "execution_count": 7,
     "metadata": {},
     "output_type": "execute_result"
    }
   ],
   "source": [
    "train.head()"
   ]
  },
  {
   "cell_type": "code",
   "execution_count": 8,
   "id": "76655d1d",
   "metadata": {
    "execution": {
     "iopub.execute_input": "2022-03-06T23:03:41.339988Z",
     "iopub.status.busy": "2022-03-06T23:03:41.338769Z",
     "iopub.status.idle": "2022-03-06T23:03:41.340763Z",
     "shell.execute_reply": "2022-03-06T23:03:41.341270Z",
     "shell.execute_reply.started": "2022-03-06T22:55:33.579797Z"
    },
    "papermill": {
     "duration": 0.030311,
     "end_time": "2022-03-06T23:03:41.341441",
     "exception": false,
     "start_time": "2022-03-06T23:03:41.311130",
     "status": "completed"
    },
    "tags": []
   },
   "outputs": [],
   "source": [
    "#%%time\n",
    "#id_train = [str(row['Season'])+\"_\"+ str(min(row[\"WTeamID\"],row[\"LTeamID\"])) + \"_\"+ str(max(row[\"WTeamID\"],row[\"LTeamID\"])) for _,row in train.iterrows() ]\n",
    "#team_a = [min(row[\"WTeamID\"],row[\"LTeamID\"]) for _,row in train.iterrows() ]\n",
    "#team_b = [max(row[\"WTeamID\"],row[\"LTeamID\"]) for _,row in train.iterrows() ]\n",
    "#win = [1 if row[\"WTeamID\"] > row[\"LTeamID\"] else 0 for _,row in train.iterrows()]"
   ]
  },
  {
   "cell_type": "code",
   "execution_count": 9,
   "id": "9b53220f",
   "metadata": {
    "execution": {
     "iopub.execute_input": "2022-03-06T23:03:41.396077Z",
     "iopub.status.busy": "2022-03-06T23:03:41.394538Z",
     "iopub.status.idle": "2022-03-06T23:03:56.275839Z",
     "shell.execute_reply": "2022-03-06T23:03:56.275074Z",
     "shell.execute_reply.started": "2022-03-06T22:55:33.861206Z"
    },
    "papermill": {
     "duration": 14.911581,
     "end_time": "2022-03-06T23:03:56.275988",
     "exception": false,
     "start_time": "2022-03-06T23:03:41.364407",
     "status": "completed"
    },
    "tags": []
   },
   "outputs": [
    {
     "name": "stdout",
     "output_type": "stream",
     "text": [
      "CPU times: user 14.8 s, sys: 52.7 ms, total: 14.9 s\n",
      "Wall time: 14.9 s\n"
     ]
    }
   ],
   "source": [
    "%%time\n",
    "id_train = [] \n",
    "team_a = []\n",
    "team_b = []\n",
    "win = []\n",
    "for _,row in train.iterrows():\n",
    "    id_train.append(str(row['Season'])+\"_\"+ str(min(row[\"WTeamID\"],row[\"LTeamID\"])) + \"_\"+ str(max(row[\"WTeamID\"],row[\"LTeamID\"])))\n",
    "    team_a.append(min(row[\"WTeamID\"],row[\"LTeamID\"]) )\n",
    "    team_b.append(max(row[\"WTeamID\"],row[\"LTeamID\"]) )\n",
    "    if row[\"WTeamID\"] > row[\"LTeamID\"]:\n",
    "        win.append(1)\n",
    "    else:\n",
    "        win.append(0)"
   ]
  },
  {
   "cell_type": "code",
   "execution_count": 10,
   "id": "59720162",
   "metadata": {
    "execution": {
     "iopub.execute_input": "2022-03-06T23:03:56.326620Z",
     "iopub.status.busy": "2022-03-06T23:03:56.325873Z",
     "iopub.status.idle": "2022-03-06T23:03:56.538174Z",
     "shell.execute_reply": "2022-03-06T23:03:56.538841Z",
     "shell.execute_reply.started": "2022-03-06T22:55:49.277635Z"
    },
    "papermill": {
     "duration": 0.239696,
     "end_time": "2022-03-06T23:03:56.539033",
     "exception": false,
     "start_time": "2022-03-06T23:03:56.299337",
     "status": "completed"
    },
    "tags": []
   },
   "outputs": [
    {
     "data": {
      "text/html": [
       "<div>\n",
       "<style scoped>\n",
       "    .dataframe tbody tr th:only-of-type {\n",
       "        vertical-align: middle;\n",
       "    }\n",
       "\n",
       "    .dataframe tbody tr th {\n",
       "        vertical-align: top;\n",
       "    }\n",
       "\n",
       "    .dataframe thead th {\n",
       "        text-align: right;\n",
       "    }\n",
       "</style>\n",
       "<table border=\"1\" class=\"dataframe\">\n",
       "  <thead>\n",
       "    <tr style=\"text-align: right;\">\n",
       "      <th></th>\n",
       "      <th>Id</th>\n",
       "      <th>TeamA</th>\n",
       "      <th>TeamB</th>\n",
       "      <th>Result</th>\n",
       "      <th>DayNum</th>\n",
       "      <th>WLoc</th>\n",
       "      <th>Win_gap</th>\n",
       "      <th>N</th>\n",
       "      <th>H</th>\n",
       "      <th>A</th>\n",
       "    </tr>\n",
       "  </thead>\n",
       "  <tbody>\n",
       "    <tr>\n",
       "      <th>0</th>\n",
       "      <td>1985_1228_1328</td>\n",
       "      <td>1228</td>\n",
       "      <td>1328</td>\n",
       "      <td>0</td>\n",
       "      <td>20</td>\n",
       "      <td>N</td>\n",
       "      <td>17</td>\n",
       "      <td>1</td>\n",
       "      <td>0</td>\n",
       "      <td>0</td>\n",
       "    </tr>\n",
       "    <tr>\n",
       "      <th>1</th>\n",
       "      <td>1985_1106_1354</td>\n",
       "      <td>1106</td>\n",
       "      <td>1354</td>\n",
       "      <td>0</td>\n",
       "      <td>25</td>\n",
       "      <td>H</td>\n",
       "      <td>7</td>\n",
       "      <td>0</td>\n",
       "      <td>1</td>\n",
       "      <td>0</td>\n",
       "    </tr>\n",
       "    <tr>\n",
       "      <th>2</th>\n",
       "      <td>1985_1112_1223</td>\n",
       "      <td>1112</td>\n",
       "      <td>1223</td>\n",
       "      <td>0</td>\n",
       "      <td>25</td>\n",
       "      <td>H</td>\n",
       "      <td>7</td>\n",
       "      <td>0</td>\n",
       "      <td>1</td>\n",
       "      <td>0</td>\n",
       "    </tr>\n",
       "    <tr>\n",
       "      <th>3</th>\n",
       "      <td>1985_1165_1432</td>\n",
       "      <td>1165</td>\n",
       "      <td>1432</td>\n",
       "      <td>0</td>\n",
       "      <td>25</td>\n",
       "      <td>H</td>\n",
       "      <td>16</td>\n",
       "      <td>0</td>\n",
       "      <td>1</td>\n",
       "      <td>0</td>\n",
       "    </tr>\n",
       "    <tr>\n",
       "      <th>4</th>\n",
       "      <td>1985_1192_1447</td>\n",
       "      <td>1192</td>\n",
       "      <td>1447</td>\n",
       "      <td>0</td>\n",
       "      <td>25</td>\n",
       "      <td>H</td>\n",
       "      <td>12</td>\n",
       "      <td>0</td>\n",
       "      <td>1</td>\n",
       "      <td>0</td>\n",
       "    </tr>\n",
       "  </tbody>\n",
       "</table>\n",
       "</div>"
      ],
      "text/plain": [
       "               Id  TeamA  TeamB  Result  DayNum WLoc  Win_gap  N  H  A\n",
       "0  1985_1228_1328   1228   1328       0      20    N       17  1  0  0\n",
       "1  1985_1106_1354   1106   1354       0      25    H        7  0  1  0\n",
       "2  1985_1112_1223   1112   1223       0      25    H        7  0  1  0\n",
       "3  1985_1165_1432   1165   1432       0      25    H       16  0  1  0\n",
       "4  1985_1192_1447   1192   1447       0      25    H       12  0  1  0"
      ]
     },
     "execution_count": 10,
     "metadata": {},
     "output_type": "execute_result"
    }
   ],
   "source": [
    "df = pd.DataFrame({\"Id\":id_train,\"TeamA\":team_a,\"TeamB\":team_b,\"Result\":win})\n",
    "df[\"DayNum\"] = train[\"DayNum\"]\n",
    "\n",
    "df[\"WLoc\"] = train[\"WLoc\"]\n",
    "df[\"Win_gap\"] = train[\"WScore\"] - train[\"LScore\"]\n",
    "df[\"N\"] = train[\"N\"]\n",
    "df[\"H\"] = train[\"H\"]\n",
    "df[\"A\"] = train[\"A\"]\n",
    "df.head()"
   ]
  },
  {
   "cell_type": "code",
   "execution_count": 11,
   "id": "38303b18",
   "metadata": {
    "execution": {
     "iopub.execute_input": "2022-03-06T23:03:56.596509Z",
     "iopub.status.busy": "2022-03-06T23:03:56.595746Z",
     "iopub.status.idle": "2022-03-06T23:03:56.617136Z",
     "shell.execute_reply": "2022-03-06T23:03:56.616406Z",
     "shell.execute_reply.started": "2022-03-06T22:57:25.192159Z"
    },
    "papermill": {
     "duration": 0.052413,
     "end_time": "2022-03-06T23:03:56.617309",
     "exception": false,
     "start_time": "2022-03-06T23:03:56.564896",
     "status": "completed"
    },
    "tags": []
   },
   "outputs": [],
   "source": [
    "x_train = df[[\"TeamA\",\"TeamB\",\"DayNum\",\"Win_gap\",\"N\",\"A\",\"H\"]]\n",
    "y_train = df[\"Result\"]"
   ]
  },
  {
   "cell_type": "code",
   "execution_count": 12,
   "id": "562c7200",
   "metadata": {
    "execution": {
     "iopub.execute_input": "2022-03-06T23:03:56.677439Z",
     "iopub.status.busy": "2022-03-06T23:03:56.675901Z",
     "iopub.status.idle": "2022-03-06T23:03:57.258297Z",
     "shell.execute_reply": "2022-03-06T23:03:57.258904Z",
     "shell.execute_reply.started": "2022-03-06T22:55:49.522592Z"
    },
    "papermill": {
     "duration": 0.61567,
     "end_time": "2022-03-06T23:03:57.259101",
     "exception": false,
     "start_time": "2022-03-06T23:03:56.643431",
     "status": "completed"
    },
    "tags": []
   },
   "outputs": [],
   "source": [
    "id_test = [] \n",
    "team_a = []\n",
    "team_b = []\n",
    "win_test = []\n",
    "for _,row in test.iterrows():\n",
    "    id_test.append(str(row['Season'])+\"_\"+ str(min(row[\"WTeamID\"],row[\"LTeamID\"])) + \"_\"+ str(max(row[\"WTeamID\"],row[\"LTeamID\"])))\n",
    "    team_a.append(min(row[\"WTeamID\"],row[\"LTeamID\"]) )\n",
    "    team_b.append(max(row[\"WTeamID\"],row[\"LTeamID\"]) )\n",
    "    if row[\"WTeamID\"] > row[\"LTeamID\"]:\n",
    "        win_test.append(1)\n",
    "    else:\n",
    "        win_test.append(0)"
   ]
  },
  {
   "cell_type": "code",
   "execution_count": 13,
   "id": "a15ae812",
   "metadata": {
    "execution": {
     "iopub.execute_input": "2022-03-06T23:03:57.310179Z",
     "iopub.status.busy": "2022-03-06T23:03:57.309484Z",
     "iopub.status.idle": "2022-03-06T23:03:57.323846Z",
     "shell.execute_reply": "2022-03-06T23:03:57.323183Z",
     "shell.execute_reply.started": "2022-03-06T22:57:06.631089Z"
    },
    "papermill": {
     "duration": 0.040966,
     "end_time": "2022-03-06T23:03:57.323994",
     "exception": false,
     "start_time": "2022-03-06T23:03:57.283028",
     "status": "completed"
    },
    "tags": []
   },
   "outputs": [
    {
     "data": {
      "text/html": [
       "<div>\n",
       "<style scoped>\n",
       "    .dataframe tbody tr th:only-of-type {\n",
       "        vertical-align: middle;\n",
       "    }\n",
       "\n",
       "    .dataframe tbody tr th {\n",
       "        vertical-align: top;\n",
       "    }\n",
       "\n",
       "    .dataframe thead th {\n",
       "        text-align: right;\n",
       "    }\n",
       "</style>\n",
       "<table border=\"1\" class=\"dataframe\">\n",
       "  <thead>\n",
       "    <tr style=\"text-align: right;\">\n",
       "      <th></th>\n",
       "      <th>index</th>\n",
       "      <th>Season</th>\n",
       "      <th>DayNum</th>\n",
       "      <th>WTeamID</th>\n",
       "      <th>WScore</th>\n",
       "      <th>LTeamID</th>\n",
       "      <th>LScore</th>\n",
       "      <th>WLoc</th>\n",
       "      <th>NumOT</th>\n",
       "      <th>A</th>\n",
       "      <th>H</th>\n",
       "      <th>N</th>\n",
       "    </tr>\n",
       "  </thead>\n",
       "  <tbody>\n",
       "    <tr>\n",
       "      <th>0</th>\n",
       "      <td>139920</td>\n",
       "      <td>2016</td>\n",
       "      <td>11</td>\n",
       "      <td>1104</td>\n",
       "      <td>77</td>\n",
       "      <td>1244</td>\n",
       "      <td>64</td>\n",
       "      <td>H</td>\n",
       "      <td>0</td>\n",
       "      <td>0</td>\n",
       "      <td>1</td>\n",
       "      <td>0</td>\n",
       "    </tr>\n",
       "    <tr>\n",
       "      <th>1</th>\n",
       "      <td>139921</td>\n",
       "      <td>2016</td>\n",
       "      <td>11</td>\n",
       "      <td>1105</td>\n",
       "      <td>68</td>\n",
       "      <td>1408</td>\n",
       "      <td>67</td>\n",
       "      <td>A</td>\n",
       "      <td>1</td>\n",
       "      <td>1</td>\n",
       "      <td>0</td>\n",
       "      <td>0</td>\n",
       "    </tr>\n",
       "    <tr>\n",
       "      <th>2</th>\n",
       "      <td>139922</td>\n",
       "      <td>2016</td>\n",
       "      <td>11</td>\n",
       "      <td>1112</td>\n",
       "      <td>79</td>\n",
       "      <td>1334</td>\n",
       "      <td>61</td>\n",
       "      <td>H</td>\n",
       "      <td>0</td>\n",
       "      <td>0</td>\n",
       "      <td>1</td>\n",
       "      <td>0</td>\n",
       "    </tr>\n",
       "    <tr>\n",
       "      <th>3</th>\n",
       "      <td>139923</td>\n",
       "      <td>2016</td>\n",
       "      <td>11</td>\n",
       "      <td>1115</td>\n",
       "      <td>58</td>\n",
       "      <td>1370</td>\n",
       "      <td>56</td>\n",
       "      <td>A</td>\n",
       "      <td>0</td>\n",
       "      <td>1</td>\n",
       "      <td>0</td>\n",
       "      <td>0</td>\n",
       "    </tr>\n",
       "    <tr>\n",
       "      <th>4</th>\n",
       "      <td>139924</td>\n",
       "      <td>2016</td>\n",
       "      <td>11</td>\n",
       "      <td>1116</td>\n",
       "      <td>86</td>\n",
       "      <td>1380</td>\n",
       "      <td>68</td>\n",
       "      <td>H</td>\n",
       "      <td>0</td>\n",
       "      <td>0</td>\n",
       "      <td>1</td>\n",
       "      <td>0</td>\n",
       "    </tr>\n",
       "  </tbody>\n",
       "</table>\n",
       "</div>"
      ],
      "text/plain": [
       "    index  Season  DayNum  WTeamID  WScore  LTeamID  LScore WLoc  NumOT  A  H  \\\n",
       "0  139920    2016      11     1104      77     1244      64    H      0  0  1   \n",
       "1  139921    2016      11     1105      68     1408      67    A      1  1  0   \n",
       "2  139922    2016      11     1112      79     1334      61    H      0  0  1   \n",
       "3  139923    2016      11     1115      58     1370      56    A      0  1  0   \n",
       "4  139924    2016      11     1116      86     1380      68    H      0  0  1   \n",
       "\n",
       "   N  \n",
       "0  0  \n",
       "1  0  \n",
       "2  0  \n",
       "3  0  \n",
       "4  0  "
      ]
     },
     "execution_count": 13,
     "metadata": {},
     "output_type": "execute_result"
    }
   ],
   "source": [
    "test.head()"
   ]
  },
  {
   "cell_type": "code",
   "execution_count": 14,
   "id": "69be2d91",
   "metadata": {
    "execution": {
     "iopub.execute_input": "2022-03-06T23:03:57.396518Z",
     "iopub.status.busy": "2022-03-06T23:03:57.395696Z",
     "iopub.status.idle": "2022-03-06T23:03:57.416503Z",
     "shell.execute_reply": "2022-03-06T23:03:57.417363Z",
     "shell.execute_reply.started": "2022-03-06T22:56:02.473164Z"
    },
    "papermill": {
     "duration": 0.068827,
     "end_time": "2022-03-06T23:03:57.417641",
     "exception": false,
     "start_time": "2022-03-06T23:03:57.348814",
     "status": "completed"
    },
    "tags": []
   },
   "outputs": [
    {
     "data": {
      "text/html": [
       "<div>\n",
       "<style scoped>\n",
       "    .dataframe tbody tr th:only-of-type {\n",
       "        vertical-align: middle;\n",
       "    }\n",
       "\n",
       "    .dataframe tbody tr th {\n",
       "        vertical-align: top;\n",
       "    }\n",
       "\n",
       "    .dataframe thead th {\n",
       "        text-align: right;\n",
       "    }\n",
       "</style>\n",
       "<table border=\"1\" class=\"dataframe\">\n",
       "  <thead>\n",
       "    <tr style=\"text-align: right;\">\n",
       "      <th></th>\n",
       "      <th>Id</th>\n",
       "      <th>TeamA</th>\n",
       "      <th>TeamB</th>\n",
       "      <th>Result</th>\n",
       "      <th>DayNum</th>\n",
       "      <th>WLoc</th>\n",
       "      <th>Win_gap</th>\n",
       "      <th>N</th>\n",
       "      <th>H</th>\n",
       "      <th>A</th>\n",
       "    </tr>\n",
       "  </thead>\n",
       "  <tbody>\n",
       "    <tr>\n",
       "      <th>0</th>\n",
       "      <td>2016_1104_1244</td>\n",
       "      <td>1104</td>\n",
       "      <td>1244</td>\n",
       "      <td>0</td>\n",
       "      <td>11</td>\n",
       "      <td>H</td>\n",
       "      <td>13</td>\n",
       "      <td>0</td>\n",
       "      <td>1</td>\n",
       "      <td>0</td>\n",
       "    </tr>\n",
       "    <tr>\n",
       "      <th>1</th>\n",
       "      <td>2016_1105_1408</td>\n",
       "      <td>1105</td>\n",
       "      <td>1408</td>\n",
       "      <td>0</td>\n",
       "      <td>11</td>\n",
       "      <td>A</td>\n",
       "      <td>1</td>\n",
       "      <td>0</td>\n",
       "      <td>0</td>\n",
       "      <td>1</td>\n",
       "    </tr>\n",
       "    <tr>\n",
       "      <th>2</th>\n",
       "      <td>2016_1112_1334</td>\n",
       "      <td>1112</td>\n",
       "      <td>1334</td>\n",
       "      <td>0</td>\n",
       "      <td>11</td>\n",
       "      <td>H</td>\n",
       "      <td>18</td>\n",
       "      <td>0</td>\n",
       "      <td>1</td>\n",
       "      <td>0</td>\n",
       "    </tr>\n",
       "    <tr>\n",
       "      <th>3</th>\n",
       "      <td>2016_1115_1370</td>\n",
       "      <td>1115</td>\n",
       "      <td>1370</td>\n",
       "      <td>0</td>\n",
       "      <td>11</td>\n",
       "      <td>A</td>\n",
       "      <td>2</td>\n",
       "      <td>0</td>\n",
       "      <td>0</td>\n",
       "      <td>1</td>\n",
       "    </tr>\n",
       "    <tr>\n",
       "      <th>4</th>\n",
       "      <td>2016_1116_1380</td>\n",
       "      <td>1116</td>\n",
       "      <td>1380</td>\n",
       "      <td>0</td>\n",
       "      <td>11</td>\n",
       "      <td>H</td>\n",
       "      <td>18</td>\n",
       "      <td>0</td>\n",
       "      <td>1</td>\n",
       "      <td>0</td>\n",
       "    </tr>\n",
       "  </tbody>\n",
       "</table>\n",
       "</div>"
      ],
      "text/plain": [
       "               Id  TeamA  TeamB  Result  DayNum WLoc  Win_gap  N  H  A\n",
       "0  2016_1104_1244   1104   1244       0      11    H       13  0  1  0\n",
       "1  2016_1105_1408   1105   1408       0      11    A        1  0  0  1\n",
       "2  2016_1112_1334   1112   1334       0      11    H       18  0  1  0\n",
       "3  2016_1115_1370   1115   1370       0      11    A        2  0  0  1\n",
       "4  2016_1116_1380   1116   1380       0      11    H       18  0  1  0"
      ]
     },
     "execution_count": 14,
     "metadata": {},
     "output_type": "execute_result"
    }
   ],
   "source": [
    "df_test = pd.DataFrame({\"Id\":id_test,\"TeamA\":team_a,\"TeamB\":team_b,\"Result\":win_test},index=test.index)\n",
    "df_test[\"DayNum\"] = test[\"DayNum\"]\n",
    "df_test[\"WLoc\"] = test[\"WLoc\"]\n",
    "df_test[\"Win_gap\"] = test[\"WScore\"] - test[\"LScore\"]\n",
    "df_test[\"N\"] = test[\"N\"]\n",
    "df_test[\"H\"] = test[\"H\"]\n",
    "df_test[\"A\"] = test[\"A\"]\n",
    "df_test.head()"
   ]
  },
  {
   "cell_type": "code",
   "execution_count": 15,
   "id": "558bb85b",
   "metadata": {
    "execution": {
     "iopub.execute_input": "2022-03-06T23:03:57.483605Z",
     "iopub.status.busy": "2022-03-06T23:03:57.482801Z",
     "iopub.status.idle": "2022-03-06T23:03:57.492345Z",
     "shell.execute_reply": "2022-03-06T23:03:57.493493Z",
     "shell.execute_reply.started": "2022-03-06T22:56:22.969926Z"
    },
    "papermill": {
     "duration": 0.041073,
     "end_time": "2022-03-06T23:03:57.493950",
     "exception": false,
     "start_time": "2022-03-06T23:03:57.452877",
     "status": "completed"
    },
    "tags": []
   },
   "outputs": [],
   "source": [
    "x_test = df_test[[\"TeamA\",\"TeamB\",\"DayNum\",\"Win_gap\",\"N\",\"H\",\"A\"]]\n",
    "y_test = df_test[[\"Result\"]]"
   ]
  },
  {
   "cell_type": "code",
   "execution_count": 16,
   "id": "e5fcaea1",
   "metadata": {
    "execution": {
     "iopub.execute_input": "2022-03-06T23:03:57.580859Z",
     "iopub.status.busy": "2022-03-06T23:03:57.579999Z",
     "iopub.status.idle": "2022-03-06T23:03:57.583128Z",
     "shell.execute_reply": "2022-03-06T23:03:57.584003Z",
     "shell.execute_reply.started": "2022-03-06T23:02:09.695266Z"
    },
    "papermill": {
     "duration": 0.051532,
     "end_time": "2022-03-06T23:03:57.584318",
     "exception": false,
     "start_time": "2022-03-06T23:03:57.532786",
     "status": "completed"
    },
    "tags": []
   },
   "outputs": [],
   "source": [
    "model = XGBClassifier(use_label_encoder=False,eval_metric=\"logloss\")"
   ]
  },
  {
   "cell_type": "code",
   "execution_count": 17,
   "id": "dde3ba76",
   "metadata": {
    "execution": {
     "iopub.execute_input": "2022-03-06T23:03:57.655700Z",
     "iopub.status.busy": "2022-03-06T23:03:57.654269Z",
     "iopub.status.idle": "2022-03-06T23:04:16.992883Z",
     "shell.execute_reply": "2022-03-06T23:04:16.993624Z",
     "shell.execute_reply.started": "2022-03-06T23:02:10.148886Z"
    },
    "papermill": {
     "duration": 19.373791,
     "end_time": "2022-03-06T23:04:16.993843",
     "exception": false,
     "start_time": "2022-03-06T23:03:57.620052",
     "status": "completed"
    },
    "tags": []
   },
   "outputs": [
    {
     "name": "stdout",
     "output_type": "stream",
     "text": [
      "0.605817610062893\n"
     ]
    }
   ],
   "source": [
    "score = cross_val_score(model,x_train,y_train)\n",
    "print(score.mean())"
   ]
  },
  {
   "cell_type": "code",
   "execution_count": 18,
   "id": "0bfc155c",
   "metadata": {
    "execution": {
     "iopub.execute_input": "2022-03-06T23:04:17.052667Z",
     "iopub.status.busy": "2022-03-06T23:04:17.050881Z",
     "iopub.status.idle": "2022-03-06T23:04:21.716609Z",
     "shell.execute_reply": "2022-03-06T23:04:21.716013Z",
     "shell.execute_reply.started": "2022-03-06T23:02:35.121035Z"
    },
    "papermill": {
     "duration": 4.69563,
     "end_time": "2022-03-06T23:04:21.716764",
     "exception": false,
     "start_time": "2022-03-06T23:04:17.021134",
     "status": "completed"
    },
    "tags": []
   },
   "outputs": [
    {
     "data": {
      "text/plain": [
       "XGBClassifier(base_score=0.5, booster='gbtree', colsample_bylevel=1,\n",
       "              colsample_bynode=1, colsample_bytree=1, enable_categorical=False,\n",
       "              eval_metric='logloss', gamma=0, gpu_id=-1, importance_type=None,\n",
       "              interaction_constraints='', learning_rate=0.300000012,\n",
       "              max_delta_step=0, max_depth=6, min_child_weight=1, missing=nan,\n",
       "              monotone_constraints='()', n_estimators=100, n_jobs=4,\n",
       "              num_parallel_tree=1, predictor='auto', random_state=0,\n",
       "              reg_alpha=0, reg_lambda=1, scale_pos_weight=1, subsample=1,\n",
       "              tree_method='exact', use_label_encoder=False,\n",
       "              validate_parameters=1, verbosity=None)"
      ]
     },
     "execution_count": 18,
     "metadata": {},
     "output_type": "execute_result"
    }
   ],
   "source": [
    "model.fit(x_train,y_train)"
   ]
  },
  {
   "cell_type": "code",
   "execution_count": 19,
   "id": "d78ad010",
   "metadata": {
    "execution": {
     "iopub.execute_input": "2022-03-06T23:04:21.775696Z",
     "iopub.status.busy": "2022-03-06T23:04:21.774679Z",
     "iopub.status.idle": "2022-03-06T23:04:21.788553Z",
     "shell.execute_reply": "2022-03-06T23:04:21.789114Z",
     "shell.execute_reply.started": "2022-03-06T23:02:39.821159Z"
    },
    "papermill": {
     "duration": 0.046009,
     "end_time": "2022-03-06T23:04:21.789324",
     "exception": false,
     "start_time": "2022-03-06T23:04:21.743315",
     "status": "completed"
    },
    "tags": []
   },
   "outputs": [],
   "source": [
    "y_pred = model.predict_proba(x_test)"
   ]
  },
  {
   "cell_type": "code",
   "execution_count": 20,
   "id": "e0b54968",
   "metadata": {
    "execution": {
     "iopub.execute_input": "2022-03-06T23:04:21.848641Z",
     "iopub.status.busy": "2022-03-06T23:04:21.847934Z",
     "iopub.status.idle": "2022-03-06T23:04:21.855041Z",
     "shell.execute_reply": "2022-03-06T23:04:21.855543Z",
     "shell.execute_reply.started": "2022-03-06T23:02:39.842741Z"
    },
    "papermill": {
     "duration": 0.038526,
     "end_time": "2022-03-06T23:04:21.855745",
     "exception": false,
     "start_time": "2022-03-06T23:04:21.817219",
     "status": "completed"
    },
    "tags": []
   },
   "outputs": [
    {
     "data": {
      "text/plain": [
       "0.6319887746502915"
      ]
     },
     "execution_count": 20,
     "metadata": {},
     "output_type": "execute_result"
    }
   ],
   "source": [
    "log_loss(y_test,y_pred)"
   ]
  },
  {
   "cell_type": "code",
   "execution_count": null,
   "id": "59c34e58",
   "metadata": {
    "papermill": {
     "duration": 0.026204,
     "end_time": "2022-03-06T23:04:21.909233",
     "exception": false,
     "start_time": "2022-03-06T23:04:21.883029",
     "status": "completed"
    },
    "tags": []
   },
   "outputs": [],
   "source": []
  }
 ],
 "metadata": {
  "kernelspec": {
   "display_name": "Python 3",
   "language": "python",
   "name": "python3"
  },
  "language_info": {
   "codemirror_mode": {
    "name": "ipython",
    "version": 3
   },
   "file_extension": ".py",
   "mimetype": "text/x-python",
   "name": "python",
   "nbconvert_exporter": "python",
   "pygments_lexer": "ipython3",
   "version": "3.7.12"
  },
  "papermill": {
   "default_parameters": {},
   "duration": 56.167929,
   "end_time": "2022-03-06T23:04:22.747529",
   "environment_variables": {},
   "exception": null,
   "input_path": "__notebook__.ipynb",
   "output_path": "__notebook__.ipynb",
   "parameters": {},
   "start_time": "2022-03-06T23:03:26.579600",
   "version": "2.3.3"
  }
 },
 "nbformat": 4,
 "nbformat_minor": 5
}
