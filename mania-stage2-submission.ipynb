{
 "cells": [
  {
   "cell_type": "code",
   "execution_count": 1,
   "id": "9adc3576",
   "metadata": {
    "_cell_guid": "b1076dfc-b9ad-4769-8c92-a6c4dae69d19",
    "_uuid": "8f2839f25d086af736a60e9eeb907d3b93b6e0e5",
    "execution": {
     "iopub.execute_input": "2022-03-16T20:39:38.625946Z",
     "iopub.status.busy": "2022-03-16T20:39:38.624158Z",
     "iopub.status.idle": "2022-03-16T20:39:39.745727Z",
     "shell.execute_reply": "2022-03-16T20:39:39.744708Z",
     "shell.execute_reply.started": "2022-03-16T20:24:08.184899Z"
    },
    "papermill": {
     "duration": 1.152716,
     "end_time": "2022-03-16T20:39:39.746037",
     "exception": false,
     "start_time": "2022-03-16T20:39:38.593321",
     "status": "completed"
    },
    "tags": []
   },
   "outputs": [],
   "source": [
    "import pandas as pd\n",
    "import numpy as np\n",
    "from sklearn.model_selection import cross_val_score\n",
    "from sklearn.preprocessing import StandardScaler\n",
    "from xgboost import XGBClassifier"
   ]
  },
  {
   "cell_type": "code",
   "execution_count": 2,
   "id": "c3ffdec6",
   "metadata": {
    "execution": {
     "iopub.execute_input": "2022-03-16T20:39:39.801586Z",
     "iopub.status.busy": "2022-03-16T20:39:39.801005Z",
     "iopub.status.idle": "2022-03-16T20:39:40.000578Z",
     "shell.execute_reply": "2022-03-16T20:39:40.001068Z",
     "shell.execute_reply.started": "2022-03-16T20:24:09.614664Z"
    },
    "papermill": {
     "duration": 0.228583,
     "end_time": "2022-03-16T20:39:40.001262",
     "exception": false,
     "start_time": "2022-03-16T20:39:39.772679",
     "status": "completed"
    },
    "tags": []
   },
   "outputs": [],
   "source": [
    "team = pd.read_csv(\"/kaggle/input/mens-march-mania-2022/MDataFiles_Stage2/MTeams.csv\")\n",
    "seasons = pd.read_csv(\"/kaggle/input/mens-march-mania-2022/MDataFiles_Stage2/MSeasons.csv\")\n",
    "season_results = pd.read_csv(\"/kaggle/input/mens-march-mania-2022/MDataFiles_Stage2/MRegularSeasonCompactResults.csv\")"
   ]
  },
  {
   "cell_type": "code",
   "execution_count": 3,
   "id": "d7f53787",
   "metadata": {
    "execution": {
     "iopub.execute_input": "2022-03-16T20:39:40.057149Z",
     "iopub.status.busy": "2022-03-16T20:39:40.056152Z",
     "iopub.status.idle": "2022-03-16T20:39:40.089408Z",
     "shell.execute_reply": "2022-03-16T20:39:40.089893Z",
     "shell.execute_reply.started": "2022-03-16T20:29:17.503269Z"
    },
    "papermill": {
     "duration": 0.063645,
     "end_time": "2022-03-16T20:39:40.090072",
     "exception": false,
     "start_time": "2022-03-16T20:39:40.026427",
     "status": "completed"
    },
    "tags": []
   },
   "outputs": [
    {
     "name": "stdout",
     "output_type": "stream",
     "text": [
      "170735\n"
     ]
    }
   ],
   "source": [
    "# Makng train test split\n",
    "season_train = season_results.query(\"Season < 2022\")\n",
    "season_test = season_results.query(\"Season >= 2022\")\n",
    "print(len(season_train))"
   ]
  },
  {
   "cell_type": "code",
   "execution_count": 4,
   "id": "8ad42ab5",
   "metadata": {
    "execution": {
     "iopub.execute_input": "2022-03-16T20:39:40.145882Z",
     "iopub.status.busy": "2022-03-16T20:39:40.145226Z",
     "iopub.status.idle": "2022-03-16T20:39:40.169033Z",
     "shell.execute_reply": "2022-03-16T20:39:40.169569Z",
     "shell.execute_reply.started": "2022-03-16T20:25:17.784868Z"
    },
    "papermill": {
     "duration": 0.052927,
     "end_time": "2022-03-16T20:39:40.169734",
     "exception": false,
     "start_time": "2022-03-16T20:39:40.116807",
     "status": "completed"
    },
    "tags": []
   },
   "outputs": [
    {
     "data": {
      "text/html": [
       "<div>\n",
       "<style scoped>\n",
       "    .dataframe tbody tr th:only-of-type {\n",
       "        vertical-align: middle;\n",
       "    }\n",
       "\n",
       "    .dataframe tbody tr th {\n",
       "        vertical-align: top;\n",
       "    }\n",
       "\n",
       "    .dataframe thead th {\n",
       "        text-align: right;\n",
       "    }\n",
       "</style>\n",
       "<table border=\"1\" class=\"dataframe\">\n",
       "  <thead>\n",
       "    <tr style=\"text-align: right;\">\n",
       "      <th></th>\n",
       "      <th>ID</th>\n",
       "      <th>Pred</th>\n",
       "    </tr>\n",
       "  </thead>\n",
       "  <tbody>\n",
       "    <tr>\n",
       "      <th>0</th>\n",
       "      <td>2022_1103_1104</td>\n",
       "      <td>0.5</td>\n",
       "    </tr>\n",
       "    <tr>\n",
       "      <th>1</th>\n",
       "      <td>2022_1103_1112</td>\n",
       "      <td>0.5</td>\n",
       "    </tr>\n",
       "    <tr>\n",
       "      <th>2</th>\n",
       "      <td>2022_1103_1116</td>\n",
       "      <td>0.5</td>\n",
       "    </tr>\n",
       "    <tr>\n",
       "      <th>3</th>\n",
       "      <td>2022_1103_1120</td>\n",
       "      <td>0.5</td>\n",
       "    </tr>\n",
       "    <tr>\n",
       "      <th>4</th>\n",
       "      <td>2022_1103_1124</td>\n",
       "      <td>0.5</td>\n",
       "    </tr>\n",
       "  </tbody>\n",
       "</table>\n",
       "</div>"
      ],
      "text/plain": [
       "               ID  Pred\n",
       "0  2022_1103_1104   0.5\n",
       "1  2022_1103_1112   0.5\n",
       "2  2022_1103_1116   0.5\n",
       "3  2022_1103_1120   0.5\n",
       "4  2022_1103_1124   0.5"
      ]
     },
     "execution_count": 4,
     "metadata": {},
     "output_type": "execute_result"
    }
   ],
   "source": [
    "sub = pd.read_csv(\"/kaggle/input/mens-march-mania-2022/MDataFiles_Stage2/MSampleSubmissionStage2.csv\")\n",
    "sub.head()"
   ]
  },
  {
   "cell_type": "code",
   "execution_count": 5,
   "id": "e628dfdd",
   "metadata": {
    "execution": {
     "iopub.execute_input": "2022-03-16T20:39:40.231998Z",
     "iopub.status.busy": "2022-03-16T20:39:40.227825Z",
     "iopub.status.idle": "2022-03-16T20:39:40.285654Z",
     "shell.execute_reply": "2022-03-16T20:39:40.285119Z",
     "shell.execute_reply.started": "2022-03-16T20:29:44.876899Z"
    },
    "papermill": {
     "duration": 0.088852,
     "end_time": "2022-03-16T20:39:40.285807",
     "exception": false,
     "start_time": "2022-03-16T20:39:40.196955",
     "status": "completed"
    },
    "tags": []
   },
   "outputs": [],
   "source": [
    "def generate_team_scores(frame):\n",
    "    df = team.copy()\n",
    "    df = df.set_index(\"TeamID\")\n",
    "    df[\"MeanWinScore\"] = frame.groupby(\"WTeamID\").mean()[\"WScore\"].astype(int)\n",
    "    df[\"MeanLossScore\"] = frame.groupby(\"LTeamID\").mean()[\"LScore\"].astype(int)\n",
    "    df[\"WinLossDiff\"] = df[\"MeanWinScore\"] - df[\"MeanLossScore\"]\n",
    "\n",
    "\n",
    "    df[\"Wins\"] = frame[\"WTeamID\"].value_counts() # add feature of the number of total wins\n",
    "    return df\n",
    "train_team_scores = generate_team_scores(season_train)"
   ]
  },
  {
   "cell_type": "code",
   "execution_count": 6,
   "id": "a993b063",
   "metadata": {
    "execution": {
     "iopub.execute_input": "2022-03-16T20:39:40.341821Z",
     "iopub.status.busy": "2022-03-16T20:39:40.341195Z",
     "iopub.status.idle": "2022-03-16T20:39:40.396828Z",
     "shell.execute_reply": "2022-03-16T20:39:40.396211Z",
     "shell.execute_reply.started": "2022-03-16T20:30:18.582322Z"
    },
    "papermill": {
     "duration": 0.084764,
     "end_time": "2022-03-16T20:39:40.397006",
     "exception": false,
     "start_time": "2022-03-16T20:39:40.312242",
     "status": "completed"
    },
    "tags": []
   },
   "outputs": [],
   "source": [
    "# For test score the values should be the entire history \n",
    "test_team_scores = team.copy()\n",
    "test_team_scores = test_team_scores.set_index(\"TeamID\")\n",
    "test_team_scores[\"MeanWinScore\"] = season_results.groupby(\"WTeamID\").mean()[\"WScore\"].astype(int)\n",
    "test_team_scores[\"MeanLossScore\"] = season_results.groupby(\"LTeamID\").mean()[\"LScore\"].astype(int)\n",
    "test_team_scores[\"WinLossDiff\"] = test_team_scores[\"MeanWinScore\"] - test_team_scores[\"MeanLossScore\"]\n",
    "\n",
    "\n",
    "test_team_scores[\"Wins\"] = season_results[\"WTeamID\"].value_counts() # add feature of the number of total wins\n",
    "test_team_scores = test_team_scores.query(\"LastD1Season >= 2022\")"
   ]
  },
  {
   "cell_type": "code",
   "execution_count": 7,
   "id": "b5716829",
   "metadata": {
    "execution": {
     "iopub.execute_input": "2022-03-16T20:39:40.458253Z",
     "iopub.status.busy": "2022-03-16T20:39:40.457521Z",
     "iopub.status.idle": "2022-03-16T20:39:40.465230Z",
     "shell.execute_reply": "2022-03-16T20:39:40.464613Z",
     "shell.execute_reply.started": "2022-03-16T20:30:26.289940Z"
    },
    "papermill": {
     "duration": 0.039689,
     "end_time": "2022-03-16T20:39:40.465384",
     "exception": false,
     "start_time": "2022-03-16T20:39:40.425695",
     "status": "completed"
    },
    "tags": []
   },
   "outputs": [],
   "source": [
    "def Add_features(season_res):\n",
    "    df = pd.DataFrame()\n",
    "    df[\"Season\"] = season_res[\"Season\"]\n",
    "    df[\"TeamA\"] = season_res[[\"WTeamID\",\"LTeamID\"]].apply(min,axis=1)\n",
    "    df[\"TeamB\"] = season_res[[\"WTeamID\",\"LTeamID\"]].apply(max,axis=1)\n",
    "    df[\"ID\"] = df.apply(lambda f: str(f[\"Season\"])+\"_\"+ str(f[\"TeamA\"]) + \"_\"+ str(f[\"TeamB\"]),axis=1)\n",
    "    df[\"Win\"] = np.ones(len(df),dtype=int)\n",
    "    df.loc[season_res[\"LTeamID\"] > season_res[\"WTeamID\"],\"Win\"] = 0\n",
    "    return df"
   ]
  },
  {
   "cell_type": "code",
   "execution_count": 8,
   "id": "e49ca993",
   "metadata": {
    "execution": {
     "iopub.execute_input": "2022-03-16T20:39:40.524242Z",
     "iopub.status.busy": "2022-03-16T20:39:40.523595Z",
     "iopub.status.idle": "2022-03-16T20:39:49.122577Z",
     "shell.execute_reply": "2022-03-16T20:39:49.122068Z",
     "shell.execute_reply.started": "2022-03-16T20:30:32.278241Z"
    },
    "papermill": {
     "duration": 8.63044,
     "end_time": "2022-03-16T20:39:49.122717",
     "exception": false,
     "start_time": "2022-03-16T20:39:40.492277",
     "status": "completed"
    },
    "tags": []
   },
   "outputs": [
    {
     "data": {
      "text/html": [
       "<div>\n",
       "<style scoped>\n",
       "    .dataframe tbody tr th:only-of-type {\n",
       "        vertical-align: middle;\n",
       "    }\n",
       "\n",
       "    .dataframe tbody tr th {\n",
       "        vertical-align: top;\n",
       "    }\n",
       "\n",
       "    .dataframe thead th {\n",
       "        text-align: right;\n",
       "    }\n",
       "</style>\n",
       "<table border=\"1\" class=\"dataframe\">\n",
       "  <thead>\n",
       "    <tr style=\"text-align: right;\">\n",
       "      <th></th>\n",
       "      <th>Season</th>\n",
       "      <th>TeamA</th>\n",
       "      <th>TeamB</th>\n",
       "      <th>ID</th>\n",
       "      <th>Win</th>\n",
       "    </tr>\n",
       "  </thead>\n",
       "  <tbody>\n",
       "    <tr>\n",
       "      <th>0</th>\n",
       "      <td>1985</td>\n",
       "      <td>1228</td>\n",
       "      <td>1328</td>\n",
       "      <td>1985_1228_1328</td>\n",
       "      <td>0</td>\n",
       "    </tr>\n",
       "    <tr>\n",
       "      <th>1</th>\n",
       "      <td>1985</td>\n",
       "      <td>1106</td>\n",
       "      <td>1354</td>\n",
       "      <td>1985_1106_1354</td>\n",
       "      <td>0</td>\n",
       "    </tr>\n",
       "    <tr>\n",
       "      <th>2</th>\n",
       "      <td>1985</td>\n",
       "      <td>1112</td>\n",
       "      <td>1223</td>\n",
       "      <td>1985_1112_1223</td>\n",
       "      <td>0</td>\n",
       "    </tr>\n",
       "    <tr>\n",
       "      <th>3</th>\n",
       "      <td>1985</td>\n",
       "      <td>1165</td>\n",
       "      <td>1432</td>\n",
       "      <td>1985_1165_1432</td>\n",
       "      <td>0</td>\n",
       "    </tr>\n",
       "    <tr>\n",
       "      <th>4</th>\n",
       "      <td>1985</td>\n",
       "      <td>1192</td>\n",
       "      <td>1447</td>\n",
       "      <td>1985_1192_1447</td>\n",
       "      <td>0</td>\n",
       "    </tr>\n",
       "  </tbody>\n",
       "</table>\n",
       "</div>"
      ],
      "text/plain": [
       "   Season  TeamA  TeamB              ID  Win\n",
       "0    1985   1228   1328  1985_1228_1328    0\n",
       "1    1985   1106   1354  1985_1106_1354    0\n",
       "2    1985   1112   1223  1985_1112_1223    0\n",
       "3    1985   1165   1432  1985_1165_1432    0\n",
       "4    1985   1192   1447  1985_1192_1447    0"
      ]
     },
     "execution_count": 8,
     "metadata": {},
     "output_type": "execute_result"
    }
   ],
   "source": [
    "train = Add_features(season_train)\n",
    "train.head()"
   ]
  },
  {
   "cell_type": "code",
   "execution_count": 9,
   "id": "61d49aa0",
   "metadata": {
    "execution": {
     "iopub.execute_input": "2022-03-16T20:39:49.186609Z",
     "iopub.status.busy": "2022-03-16T20:39:49.185558Z",
     "iopub.status.idle": "2022-03-16T20:39:49.247943Z",
     "shell.execute_reply": "2022-03-16T20:39:49.247357Z",
     "shell.execute_reply.started": "2022-03-16T20:30:46.361282Z"
    },
    "papermill": {
     "duration": 0.098044,
     "end_time": "2022-03-16T20:39:49.248085",
     "exception": false,
     "start_time": "2022-03-16T20:39:49.150041",
     "status": "completed"
    },
    "tags": []
   },
   "outputs": [],
   "source": [
    "train[\"TeamAWins\"] = train_team_scores.loc[train[\"TeamA\"].values][\"Wins\"].values\n",
    "train[\"TeamBWins\"] = train_team_scores.loc[train[\"TeamB\"].values][\"Wins\"].values\n",
    "\n",
    "train[\"TeamAMeanLossScore\"] = train_team_scores.loc[train[\"TeamA\"].values][\"MeanLossScore\"].values\n",
    "train[\"TeamBMeanLossScore\"] = train_team_scores.loc[train[\"TeamB\"].values][\"MeanLossScore\"].values\n",
    "\n",
    "\n",
    "train[\"TeamAMeanWinScore\"] = train_team_scores.loc[train[\"TeamA\"].values][\"MeanWinScore\"].values\n",
    "train[\"TeamBMeanWinScore\"] = train_team_scores.loc[train[\"TeamB\"].values][\"MeanWinScore\"].values\n",
    "\n",
    "train[\"TeamAWinLossDiff\"] = train_team_scores.loc[train[\"TeamA\"].values][\"WinLossDiff\"].values\n",
    "train[\"TeamBWinLossDiff\"] = train_team_scores.loc[train[\"TeamB\"].values][\"WinLossDiff\"].values"
   ]
  },
  {
   "cell_type": "code",
   "execution_count": 10,
   "id": "988dfb5e",
   "metadata": {
    "execution": {
     "iopub.execute_input": "2022-03-16T20:39:49.305605Z",
     "iopub.status.busy": "2022-03-16T20:39:49.304973Z",
     "iopub.status.idle": "2022-03-16T20:39:49.328065Z",
     "shell.execute_reply": "2022-03-16T20:39:49.328585Z",
     "shell.execute_reply.started": "2022-03-16T20:31:13.287028Z"
    },
    "papermill": {
     "duration": 0.05353,
     "end_time": "2022-03-16T20:39:49.328755",
     "exception": false,
     "start_time": "2022-03-16T20:39:49.275225",
     "status": "completed"
    },
    "tags": []
   },
   "outputs": [],
   "source": [
    "colums = [\"Season\",\"TeamA\",\"TeamB\",\"TeamAWins\",\"TeamBWins\",\n",
    "                \"TeamAMeanLossScore\",\"TeamBMeanLossScore\",\n",
    "                \"TeamAMeanWinScore\",\"TeamBMeanWinScore\",\n",
    "                \"TeamAWinLossDiff\",\"TeamBWinLossDiff\"]\n",
    "\n",
    "x_train = train[colums]\n",
    "y_train = train[[\"Win\"]]\n",
    "\n"
   ]
  },
  {
   "cell_type": "code",
   "execution_count": 11,
   "id": "d94e9412",
   "metadata": {
    "execution": {
     "iopub.execute_input": "2022-03-16T20:39:49.389167Z",
     "iopub.status.busy": "2022-03-16T20:39:49.388536Z",
     "iopub.status.idle": "2022-03-16T20:39:49.423993Z",
     "shell.execute_reply": "2022-03-16T20:39:49.423425Z",
     "shell.execute_reply.started": "2022-03-16T20:31:13.887142Z"
    },
    "papermill": {
     "duration": 0.068326,
     "end_time": "2022-03-16T20:39:49.424134",
     "exception": false,
     "start_time": "2022-03-16T20:39:49.355808",
     "status": "completed"
    },
    "tags": []
   },
   "outputs": [],
   "source": [
    "scaler = StandardScaler()\n",
    "scale_columns = [\"TeamAWins\",\"TeamBWins\",\n",
    "               \"TeamAMeanLossScore\",\"TeamBMeanLossScore\",\n",
    "                \"TeamAMeanWinScore\",\"TeamBMeanWinScore\",\n",
    "               \"TeamAWinLossDiff\",\"TeamBWinLossDiff\"]\n",
    "scaler.fit(x_train[scale_columns])\n",
    "val = scaler.transform(x_train[scale_columns])"
   ]
  },
  {
   "cell_type": "code",
   "execution_count": 12,
   "id": "b80c615c",
   "metadata": {
    "execution": {
     "iopub.execute_input": "2022-03-16T20:39:49.484678Z",
     "iopub.status.busy": "2022-03-16T20:39:49.484029Z",
     "iopub.status.idle": "2022-03-16T20:39:49.496900Z",
     "shell.execute_reply": "2022-03-16T20:39:49.497384Z",
     "shell.execute_reply.started": "2022-03-16T20:31:22.555532Z"
    },
    "papermill": {
     "duration": 0.046251,
     "end_time": "2022-03-16T20:39:49.497561",
     "exception": false,
     "start_time": "2022-03-16T20:39:49.451310",
     "status": "completed"
    },
    "tags": []
   },
   "outputs": [],
   "source": [
    "\n",
    "\n",
    "x_train_scaled = x_train.copy()\n",
    "x_train_scaled[scale_columns] = val\n",
    "\n"
   ]
  },
  {
   "cell_type": "code",
   "execution_count": 13,
   "id": "4fbb5cfc",
   "metadata": {
    "execution": {
     "iopub.execute_input": "2022-03-16T20:39:49.555103Z",
     "iopub.status.busy": "2022-03-16T20:39:49.554454Z",
     "iopub.status.idle": "2022-03-16T20:39:49.558043Z",
     "shell.execute_reply": "2022-03-16T20:39:49.558479Z",
     "shell.execute_reply.started": "2022-03-16T20:31:28.891388Z"
    },
    "papermill": {
     "duration": 0.034014,
     "end_time": "2022-03-16T20:39:49.558647",
     "exception": false,
     "start_time": "2022-03-16T20:39:49.524633",
     "status": "completed"
    },
    "tags": []
   },
   "outputs": [],
   "source": [
    "\n",
    "\n",
    "model = XGBClassifier(use_label_encoder=False,eval_metric=\"logloss\",n_estimators = 350, subsample=0.99, learning_rate=0.01, \n",
    "                    colsample_bytree=1, max_depth = None, random_state=27)\n",
    "\n"
   ]
  },
  {
   "cell_type": "code",
   "execution_count": 14,
   "id": "5e7850a6",
   "metadata": {
    "execution": {
     "iopub.execute_input": "2022-03-16T20:39:49.616891Z",
     "iopub.status.busy": "2022-03-16T20:39:49.616214Z",
     "iopub.status.idle": "2022-03-16T20:39:49.926144Z",
     "shell.execute_reply": "2022-03-16T20:39:49.926605Z",
     "shell.execute_reply.started": "2022-03-16T20:31:47.474321Z"
    },
    "papermill": {
     "duration": 0.341015,
     "end_time": "2022-03-16T20:39:49.926798",
     "exception": false,
     "start_time": "2022-03-16T20:39:49.585783",
     "status": "completed"
    },
    "tags": []
   },
   "outputs": [],
   "source": [
    "test = Add_features(season_test)\n",
    "test[\"TeamAWins\"] = test_team_scores.loc[test[\"TeamA\"].values][\"Wins\"].values\n",
    "test[\"TeamBWins\"] = test_team_scores.loc[test[\"TeamB\"].values][\"Wins\"].values\n",
    "\n",
    "test[\"TeamAMeanLossScore\"] = test_team_scores.loc[test[\"TeamA\"].values][\"MeanLossScore\"].values\n",
    "test[\"TeamBMeanLossScore\"] = test_team_scores.loc[test[\"TeamB\"].values][\"MeanLossScore\"].values\n",
    "\n",
    "\n",
    "test[\"TeamAMeanWinScore\"] = test_team_scores.loc[test[\"TeamA\"].values][\"MeanWinScore\"].values\n",
    "test[\"TeamBMeanWinScore\"] = test_team_scores.loc[test[\"TeamB\"].values][\"MeanWinScore\"].values\n",
    "\n",
    "test[\"TeamAWinLossDiff\"] = test_team_scores.loc[test[\"TeamA\"].values][\"WinLossDiff\"].values\n",
    "test[\"TeamBWinLossDiff\"] = test_team_scores.loc[test[\"TeamB\"].values][\"WinLossDiff\"].values"
   ]
  },
  {
   "cell_type": "code",
   "execution_count": 15,
   "id": "9b58ea46",
   "metadata": {
    "execution": {
     "iopub.execute_input": "2022-03-16T20:39:49.986430Z",
     "iopub.status.busy": "2022-03-16T20:39:49.985744Z",
     "iopub.status.idle": "2022-03-16T20:39:49.989210Z",
     "shell.execute_reply": "2022-03-16T20:39:49.989736Z",
     "shell.execute_reply.started": "2022-03-16T20:36:01.308739Z"
    },
    "papermill": {
     "duration": 0.035912,
     "end_time": "2022-03-16T20:39:49.989945",
     "exception": false,
     "start_time": "2022-03-16T20:39:49.954033",
     "status": "completed"
    },
    "tags": []
   },
   "outputs": [],
   "source": [
    "x_test = test[colums]\n",
    "y_test = test[[\"Win\"]]"
   ]
  },
  {
   "cell_type": "code",
   "execution_count": 16,
   "id": "b694ccc6",
   "metadata": {
    "execution": {
     "iopub.execute_input": "2022-03-16T20:39:50.048637Z",
     "iopub.status.busy": "2022-03-16T20:39:50.047682Z",
     "iopub.status.idle": "2022-03-16T20:39:50.056740Z",
     "shell.execute_reply": "2022-03-16T20:39:50.057329Z",
     "shell.execute_reply.started": "2022-03-16T20:36:07.232798Z"
    },
    "papermill": {
     "duration": 0.040039,
     "end_time": "2022-03-16T20:39:50.057501",
     "exception": false,
     "start_time": "2022-03-16T20:39:50.017462",
     "status": "completed"
    },
    "tags": []
   },
   "outputs": [],
   "source": [
    "x_test_scaled = x_test.copy()\n",
    "scaled_test = scaler.transform(x_test_scaled[scale_columns])\n",
    "x_test_scaled[scale_columns] = scaled_test"
   ]
  },
  {
   "cell_type": "code",
   "execution_count": 17,
   "id": "a2927c16",
   "metadata": {
    "execution": {
     "iopub.execute_input": "2022-03-16T20:39:50.115259Z",
     "iopub.status.busy": "2022-03-16T20:39:50.114271Z",
     "iopub.status.idle": "2022-03-16T20:39:50.130161Z",
     "shell.execute_reply": "2022-03-16T20:39:50.129587Z",
     "shell.execute_reply.started": "2022-03-16T20:36:32.928408Z"
    },
    "papermill": {
     "duration": 0.045595,
     "end_time": "2022-03-16T20:39:50.130300",
     "exception": false,
     "start_time": "2022-03-16T20:39:50.084705",
     "status": "completed"
    },
    "tags": []
   },
   "outputs": [
    {
     "data": {
      "text/html": [
       "<div>\n",
       "<style scoped>\n",
       "    .dataframe tbody tr th:only-of-type {\n",
       "        vertical-align: middle;\n",
       "    }\n",
       "\n",
       "    .dataframe tbody tr th {\n",
       "        vertical-align: top;\n",
       "    }\n",
       "\n",
       "    .dataframe thead th {\n",
       "        text-align: right;\n",
       "    }\n",
       "</style>\n",
       "<table border=\"1\" class=\"dataframe\">\n",
       "  <thead>\n",
       "    <tr style=\"text-align: right;\">\n",
       "      <th></th>\n",
       "      <th>ID</th>\n",
       "      <th>Pred</th>\n",
       "    </tr>\n",
       "  </thead>\n",
       "  <tbody>\n",
       "    <tr>\n",
       "      <th>0</th>\n",
       "      <td>2022_1103_1104</td>\n",
       "      <td>0.5</td>\n",
       "    </tr>\n",
       "    <tr>\n",
       "      <th>1</th>\n",
       "      <td>2022_1103_1112</td>\n",
       "      <td>0.5</td>\n",
       "    </tr>\n",
       "    <tr>\n",
       "      <th>2</th>\n",
       "      <td>2022_1103_1116</td>\n",
       "      <td>0.5</td>\n",
       "    </tr>\n",
       "    <tr>\n",
       "      <th>3</th>\n",
       "      <td>2022_1103_1120</td>\n",
       "      <td>0.5</td>\n",
       "    </tr>\n",
       "    <tr>\n",
       "      <th>4</th>\n",
       "      <td>2022_1103_1124</td>\n",
       "      <td>0.5</td>\n",
       "    </tr>\n",
       "  </tbody>\n",
       "</table>\n",
       "</div>"
      ],
      "text/plain": [
       "               ID  Pred\n",
       "0  2022_1103_1104   0.5\n",
       "1  2022_1103_1112   0.5\n",
       "2  2022_1103_1116   0.5\n",
       "3  2022_1103_1120   0.5\n",
       "4  2022_1103_1124   0.5"
      ]
     },
     "execution_count": 17,
     "metadata": {},
     "output_type": "execute_result"
    }
   ],
   "source": [
    "\n",
    "\n",
    "# Making test data set\n",
    "submission = pd.read_csv(\"/kaggle/input/mens-march-mania-2022/MDataFiles_Stage2/MSampleSubmissionStage2.csv\")\n",
    "submission.head()\n",
    "\n"
   ]
  },
  {
   "cell_type": "code",
   "execution_count": 18,
   "id": "93ccdbc0",
   "metadata": {
    "execution": {
     "iopub.execute_input": "2022-03-16T20:39:50.192380Z",
     "iopub.status.busy": "2022-03-16T20:39:50.191386Z",
     "iopub.status.idle": "2022-03-16T20:39:50.294640Z",
     "shell.execute_reply": "2022-03-16T20:39:50.295197Z",
     "shell.execute_reply.started": "2022-03-16T20:36:50.052670Z"
    },
    "papermill": {
     "duration": 0.13765,
     "end_time": "2022-03-16T20:39:50.295376",
     "exception": false,
     "start_time": "2022-03-16T20:39:50.157726",
     "status": "completed"
    },
    "tags": []
   },
   "outputs": [],
   "source": [
    "submission[\"Season\"] = submission.apply(lambda f: int(f[\"ID\"].split(\"_\")[0]),axis=1)\n",
    "submission[\"TeamA\"] = submission.apply(lambda f: int(f[\"ID\"].split(\"_\")[1]),axis=1)\n",
    "submission[\"TeamB\"] = submission.apply(lambda f: int(f[\"ID\"].split(\"_\")[2]),axis=1)"
   ]
  },
  {
   "cell_type": "code",
   "execution_count": 19,
   "id": "ca57d587",
   "metadata": {
    "execution": {
     "iopub.execute_input": "2022-03-16T20:39:50.354249Z",
     "iopub.status.busy": "2022-03-16T20:39:50.353290Z",
     "iopub.status.idle": "2022-03-16T20:39:50.369239Z",
     "shell.execute_reply": "2022-03-16T20:39:50.369756Z",
     "shell.execute_reply.started": "2022-03-16T20:37:03.934409Z"
    },
    "papermill": {
     "duration": 0.047129,
     "end_time": "2022-03-16T20:39:50.369945",
     "exception": false,
     "start_time": "2022-03-16T20:39:50.322816",
     "status": "completed"
    },
    "tags": []
   },
   "outputs": [],
   "source": [
    "submission[\"TeamAWins\"] = test_team_scores.loc[submission[\"TeamA\"].values][\"Wins\"].values\n",
    "submission[\"TeamBWins\"] = test_team_scores.loc[submission[\"TeamB\"].values][\"Wins\"].values\n",
    "\n",
    "submission[\"TeamAMeanLossScore\"] = test_team_scores.loc[submission[\"TeamA\"].values][\"MeanLossScore\"].values\n",
    "submission[\"TeamBMeanLossScore\"] = test_team_scores.loc[submission[\"TeamB\"].values][\"MeanLossScore\"].values\n",
    "\n",
    "\n",
    "submission[\"TeamAMeanWinScore\"] = test_team_scores.loc[submission[\"TeamA\"].values][\"MeanWinScore\"].values\n",
    "submission[\"TeamBMeanWinScore\"] = test_team_scores.loc[submission[\"TeamB\"].values][\"MeanWinScore\"].values\n",
    "\n",
    "submission[\"TeamAWinLossDiff\"] = test_team_scores.loc[submission[\"TeamA\"].values][\"WinLossDiff\"].values\n",
    "submission[\"TeamBWinLossDiff\"] = test_team_scores.loc[submission[\"TeamB\"].values][\"WinLossDiff\"].values"
   ]
  },
  {
   "cell_type": "code",
   "execution_count": 20,
   "id": "643e9809",
   "metadata": {
    "execution": {
     "iopub.execute_input": "2022-03-16T20:39:50.429717Z",
     "iopub.status.busy": "2022-03-16T20:39:50.429080Z",
     "iopub.status.idle": "2022-03-16T20:39:50.431762Z",
     "shell.execute_reply": "2022-03-16T20:39:50.432246Z",
     "shell.execute_reply.started": "2022-03-16T20:37:10.523693Z"
    },
    "papermill": {
     "duration": 0.035234,
     "end_time": "2022-03-16T20:39:50.432418",
     "exception": false,
     "start_time": "2022-03-16T20:39:50.397184",
     "status": "completed"
    },
    "tags": []
   },
   "outputs": [],
   "source": [
    "x_submission = submission[colums]\n",
    "x_submission_scaled = x_submission.copy()"
   ]
  },
  {
   "cell_type": "code",
   "execution_count": 21,
   "id": "d898b815",
   "metadata": {
    "execution": {
     "iopub.execute_input": "2022-03-16T20:39:50.491582Z",
     "iopub.status.busy": "2022-03-16T20:39:50.490917Z",
     "iopub.status.idle": "2022-03-16T20:39:50.498792Z",
     "shell.execute_reply": "2022-03-16T20:39:50.499319Z",
     "shell.execute_reply.started": "2022-03-16T20:37:16.846849Z"
    },
    "papermill": {
     "duration": 0.039235,
     "end_time": "2022-03-16T20:39:50.499487",
     "exception": false,
     "start_time": "2022-03-16T20:39:50.460252",
     "status": "completed"
    },
    "tags": []
   },
   "outputs": [],
   "source": [
    "val_sumbmission = scaler.transform(x_submission_scaled[scale_columns])\n",
    "x_submission_scaled[scale_columns] = val_sumbmission\n"
   ]
  },
  {
   "cell_type": "code",
   "execution_count": 22,
   "id": "a0ffba6a",
   "metadata": {
    "execution": {
     "iopub.execute_input": "2022-03-16T20:39:50.557406Z",
     "iopub.status.busy": "2022-03-16T20:39:50.556765Z",
     "iopub.status.idle": "2022-03-16T20:40:19.890440Z",
     "shell.execute_reply": "2022-03-16T20:40:19.891063Z",
     "shell.execute_reply.started": "2022-03-16T20:37:23.626954Z"
    },
    "papermill": {
     "duration": 29.364257,
     "end_time": "2022-03-16T20:40:19.891266",
     "exception": false,
     "start_time": "2022-03-16T20:39:50.527009",
     "status": "completed"
    },
    "tags": []
   },
   "outputs": [],
   "source": [
    "model.fit(x_train_scaled,y_train)\n",
    "y_pred = model.predict_proba(x_submission_scaled)\n"
   ]
  },
  {
   "cell_type": "code",
   "execution_count": 23,
   "id": "88169db4",
   "metadata": {
    "execution": {
     "iopub.execute_input": "2022-03-16T20:40:19.954878Z",
     "iopub.status.busy": "2022-03-16T20:40:19.954224Z",
     "iopub.status.idle": "2022-03-16T20:40:19.964845Z",
     "shell.execute_reply": "2022-03-16T20:40:19.965341Z",
     "shell.execute_reply.started": "2022-03-16T20:38:01.448858Z"
    },
    "papermill": {
     "duration": 0.044463,
     "end_time": "2022-03-16T20:40:19.965502",
     "exception": false,
     "start_time": "2022-03-16T20:40:19.921039",
     "status": "completed"
    },
    "tags": []
   },
   "outputs": [],
   "source": [
    "my_sub = pd.DataFrame({\"ID\":submission[\"ID\"],\"Pred\":y_pred[:,1]})\n",
    "my_sub.to_csv(\"1-submission\",index=False)"
   ]
  },
  {
   "cell_type": "code",
   "execution_count": 24,
   "id": "0ec5af30",
   "metadata": {
    "execution": {
     "iopub.execute_input": "2022-03-16T20:40:20.030071Z",
     "iopub.status.busy": "2022-03-16T20:40:20.029188Z",
     "iopub.status.idle": "2022-03-16T20:40:20.032087Z",
     "shell.execute_reply": "2022-03-16T20:40:20.032531Z",
     "shell.execute_reply.started": "2022-03-16T20:38:01.472814Z"
    },
    "papermill": {
     "duration": 0.040073,
     "end_time": "2022-03-16T20:40:20.032691",
     "exception": false,
     "start_time": "2022-03-16T20:40:19.992618",
     "status": "completed"
    },
    "tags": []
   },
   "outputs": [
    {
     "data": {
      "text/html": [
       "<div>\n",
       "<style scoped>\n",
       "    .dataframe tbody tr th:only-of-type {\n",
       "        vertical-align: middle;\n",
       "    }\n",
       "\n",
       "    .dataframe tbody tr th {\n",
       "        vertical-align: top;\n",
       "    }\n",
       "\n",
       "    .dataframe thead th {\n",
       "        text-align: right;\n",
       "    }\n",
       "</style>\n",
       "<table border=\"1\" class=\"dataframe\">\n",
       "  <thead>\n",
       "    <tr style=\"text-align: right;\">\n",
       "      <th></th>\n",
       "      <th>ID</th>\n",
       "      <th>Pred</th>\n",
       "    </tr>\n",
       "  </thead>\n",
       "  <tbody>\n",
       "    <tr>\n",
       "      <th>0</th>\n",
       "      <td>2022_1103_1104</td>\n",
       "      <td>0.559983</td>\n",
       "    </tr>\n",
       "    <tr>\n",
       "      <th>1</th>\n",
       "      <td>2022_1103_1112</td>\n",
       "      <td>0.639147</td>\n",
       "    </tr>\n",
       "    <tr>\n",
       "      <th>2</th>\n",
       "      <td>2022_1103_1116</td>\n",
       "      <td>0.556753</td>\n",
       "    </tr>\n",
       "    <tr>\n",
       "      <th>3</th>\n",
       "      <td>2022_1103_1120</td>\n",
       "      <td>0.522861</td>\n",
       "    </tr>\n",
       "    <tr>\n",
       "      <th>4</th>\n",
       "      <td>2022_1103_1124</td>\n",
       "      <td>0.524050</td>\n",
       "    </tr>\n",
       "    <tr>\n",
       "      <th>5</th>\n",
       "      <td>2022_1103_1129</td>\n",
       "      <td>0.522462</td>\n",
       "    </tr>\n",
       "    <tr>\n",
       "      <th>6</th>\n",
       "      <td>2022_1103_1136</td>\n",
       "      <td>0.117103</td>\n",
       "    </tr>\n",
       "    <tr>\n",
       "      <th>7</th>\n",
       "      <td>2022_1103_1151</td>\n",
       "      <td>0.526313</td>\n",
       "    </tr>\n",
       "    <tr>\n",
       "      <th>8</th>\n",
       "      <td>2022_1103_1159</td>\n",
       "      <td>0.295357</td>\n",
       "    </tr>\n",
       "    <tr>\n",
       "      <th>9</th>\n",
       "      <td>2022_1103_1161</td>\n",
       "      <td>0.519905</td>\n",
       "    </tr>\n",
       "    <tr>\n",
       "      <th>10</th>\n",
       "      <td>2022_1103_1163</td>\n",
       "      <td>0.584722</td>\n",
       "    </tr>\n",
       "    <tr>\n",
       "      <th>11</th>\n",
       "      <td>2022_1103_1166</td>\n",
       "      <td>0.572051</td>\n",
       "    </tr>\n",
       "    <tr>\n",
       "      <th>12</th>\n",
       "      <td>2022_1103_1168</td>\n",
       "      <td>0.276488</td>\n",
       "    </tr>\n",
       "    <tr>\n",
       "      <th>13</th>\n",
       "      <td>2022_1103_1172</td>\n",
       "      <td>0.529082</td>\n",
       "    </tr>\n",
       "    <tr>\n",
       "      <th>14</th>\n",
       "      <td>2022_1103_1174</td>\n",
       "      <td>0.455949</td>\n",
       "    </tr>\n",
       "    <tr>\n",
       "      <th>15</th>\n",
       "      <td>2022_1103_1181</td>\n",
       "      <td>0.649316</td>\n",
       "    </tr>\n",
       "    <tr>\n",
       "      <th>16</th>\n",
       "      <td>2022_1103_1209</td>\n",
       "      <td>0.389909</td>\n",
       "    </tr>\n",
       "    <tr>\n",
       "      <th>17</th>\n",
       "      <td>2022_1103_1211</td>\n",
       "      <td>0.641963</td>\n",
       "    </tr>\n",
       "    <tr>\n",
       "      <th>18</th>\n",
       "      <td>2022_1103_1222</td>\n",
       "      <td>0.531011</td>\n",
       "    </tr>\n",
       "    <tr>\n",
       "      <th>19</th>\n",
       "      <td>2022_1103_1228</td>\n",
       "      <td>0.582702</td>\n",
       "    </tr>\n",
       "  </tbody>\n",
       "</table>\n",
       "</div>"
      ],
      "text/plain": [
       "                ID      Pred\n",
       "0   2022_1103_1104  0.559983\n",
       "1   2022_1103_1112  0.639147\n",
       "2   2022_1103_1116  0.556753\n",
       "3   2022_1103_1120  0.522861\n",
       "4   2022_1103_1124  0.524050\n",
       "5   2022_1103_1129  0.522462\n",
       "6   2022_1103_1136  0.117103\n",
       "7   2022_1103_1151  0.526313\n",
       "8   2022_1103_1159  0.295357\n",
       "9   2022_1103_1161  0.519905\n",
       "10  2022_1103_1163  0.584722\n",
       "11  2022_1103_1166  0.572051\n",
       "12  2022_1103_1168  0.276488\n",
       "13  2022_1103_1172  0.529082\n",
       "14  2022_1103_1174  0.455949\n",
       "15  2022_1103_1181  0.649316\n",
       "16  2022_1103_1209  0.389909\n",
       "17  2022_1103_1211  0.641963\n",
       "18  2022_1103_1222  0.531011\n",
       "19  2022_1103_1228  0.582702"
      ]
     },
     "execution_count": 24,
     "metadata": {},
     "output_type": "execute_result"
    }
   ],
   "source": [
    "my_sub.head(20)"
   ]
  },
  {
   "cell_type": "code",
   "execution_count": null,
   "id": "814ce577",
   "metadata": {
    "papermill": {
     "duration": 0.027681,
     "end_time": "2022-03-16T20:40:20.087945",
     "exception": false,
     "start_time": "2022-03-16T20:40:20.060264",
     "status": "completed"
    },
    "tags": []
   },
   "outputs": [],
   "source": []
  }
 ],
 "metadata": {
  "kernelspec": {
   "display_name": "Python 3",
   "language": "python",
   "name": "python3"
  },
  "language_info": {
   "codemirror_mode": {
    "name": "ipython",
    "version": 3
   },
   "file_extension": ".py",
   "mimetype": "text/x-python",
   "name": "python",
   "nbconvert_exporter": "python",
   "pygments_lexer": "ipython3",
   "version": "3.7.12"
  },
  "papermill": {
   "default_parameters": {},
   "duration": 51.698375,
   "end_time": "2022-03-16T20:40:20.825335",
   "environment_variables": {},
   "exception": null,
   "input_path": "__notebook__.ipynb",
   "output_path": "__notebook__.ipynb",
   "parameters": {},
   "start_time": "2022-03-16T20:39:29.126960",
   "version": "2.3.3"
  }
 },
 "nbformat": 4,
 "nbformat_minor": 5
}
